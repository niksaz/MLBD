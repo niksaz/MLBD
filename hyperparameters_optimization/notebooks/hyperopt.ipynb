{
 "cells": [
  {
   "cell_type": "markdown",
   "metadata": {
    "toc": true
   },
   "source": [
    "<h1>Table of Contents<span class=\"tocSkip\"></span></h1>\n",
    "<div class=\"toc\"><ul class=\"toc-item\"><li><span><a href=\"#Spark-MLlib-Tuning\" data-toc-modified-id=\"Spark-MLlib-Tuning-1\"><span class=\"toc-item-num\">1&nbsp;&nbsp;</span><a href=\"https://spark.apache.org/docs/latest/ml-tuning.html\" target=\"_blank\">Spark MLlib Tuning</a></a></span></li><li><span><a href=\"#Hyperopt\" data-toc-modified-id=\"Hyperopt-2\"><span class=\"toc-item-num\">2&nbsp;&nbsp;</span><a href=\"https://github.com/hyperopt/hyperopt\" target=\"_blank\">Hyperopt</a></a></span><ul class=\"toc-item\"><li><span><a href=\"#XGBoost-Tuning\" data-toc-modified-id=\"XGBoost-Tuning-2.1\"><span class=\"toc-item-num\">2.1&nbsp;&nbsp;</span><a href=\"https://www.analyticsvidhya.com/blog/2016/03/complete-guide-parameter-tuning-xgboost-with-codes-python/\" target=\"_blank\">XGBoost Tuning</a></a></span><ul class=\"toc-item\"><li><span><a href=\"#Objective-function\" data-toc-modified-id=\"Objective-function-2.1.1\"><span class=\"toc-item-num\">2.1.1&nbsp;&nbsp;</span>Objective function</a></span></li><li><span><a href=\"#Tune-number-of-trees\" data-toc-modified-id=\"Tune-number-of-trees-2.1.2\"><span class=\"toc-item-num\">2.1.2&nbsp;&nbsp;</span>Tune number of trees</a></span></li><li><span><a href=\"#Tune-tree-specific-parameters\" data-toc-modified-id=\"Tune-tree-specific-parameters-2.1.3\"><span class=\"toc-item-num\">2.1.3&nbsp;&nbsp;</span>Tune tree-specific parameters</a></span><ul class=\"toc-item\"><li><span><a href=\"#Tune-max_depth,-min_child_weight\" data-toc-modified-id=\"Tune-max_depth,-min_child_weight-2.1.3.1\"><span class=\"toc-item-num\">2.1.3.1&nbsp;&nbsp;</span>Tune max_depth, min_child_weight</a></span></li><li><span><a href=\"#Tune-gamma\" data-toc-modified-id=\"Tune-gamma-2.1.3.2\"><span class=\"toc-item-num\">2.1.3.2&nbsp;&nbsp;</span>Tune gamma</a></span></li><li><span><a href=\"#Tune-subsample,-colsample_bytree\" data-toc-modified-id=\"Tune-subsample,-colsample_bytree-2.1.3.3\"><span class=\"toc-item-num\">2.1.3.3&nbsp;&nbsp;</span>Tune subsample, colsample_bytree</a></span></li></ul></li><li><span><a href=\"#Tune-regularization-parameters\" data-toc-modified-id=\"Tune-regularization-parameters-2.1.4\"><span class=\"toc-item-num\">2.1.4&nbsp;&nbsp;</span>Tune regularization parameters</a></span></li><li><span><a href=\"#Lower-the-learning-rate-and-decide-the-optimal-parameters\" data-toc-modified-id=\"Lower-the-learning-rate-and-decide-the-optimal-parameters-2.1.5\"><span class=\"toc-item-num\">2.1.5&nbsp;&nbsp;</span>Lower the learning rate and decide the optimal parameters</a></span></li></ul></li><li><span><a href=\"#LogisticRegression-Tuning\" data-toc-modified-id=\"LogisticRegression-Tuning-2.2\"><span class=\"toc-item-num\">2.2&nbsp;&nbsp;</span>LogisticRegression Tuning</a></span></li><li><span><a href=\"#Optional-MongoTrials\" data-toc-modified-id=\"Optional-MongoTrials-2.3\"><span class=\"toc-item-num\">2.3&nbsp;&nbsp;</span>Optional <a href=\"https://hyperopt.github.io/hyperopt/scaleout/mongodb/\" target=\"_blank\">MongoTrials</a></a></span><ul class=\"toc-item\"><li><span><a href=\"#XGBoost-Tuning\" data-toc-modified-id=\"XGBoost-Tuning-2.3.1\"><span class=\"toc-item-num\">2.3.1&nbsp;&nbsp;</span>XGBoost Tuning</a></span></li></ul></li></ul></li><li><span><a href=\"#Results\" data-toc-modified-id=\"Results-3\"><span class=\"toc-item-num\">3&nbsp;&nbsp;</span>Results</a></span></li></ul></div>"
   ]
  },
  {
   "cell_type": "markdown",
   "metadata": {},
   "source": [
    "Продолжаем работать над задачей CTR-prediction с использованием датасета от Criteo.\n",
    "\n",
    "Описание задачи и данных можно посмотреть в notebook'e предыдущей практики (`sgd_logreg_nn/notebooks/ctr_prediction_mllib.ipynb`)."
   ]
  },
  {
   "cell_type": "code",
   "execution_count": 1,
   "metadata": {},
   "outputs": [],
   "source": [
    "%matplotlib inline\n",
    "%config InlineBackend.figure_format ='retina'\n",
    "\n",
    "import os\n",
    "import sys\n",
    "import glob\n",
    "import pickle\n",
    "import seaborn as sns\n",
    "import matplotlib.pyplot as plt\n",
    "import numpy as np\n",
    "\n",
    "import pyspark\n",
    "import pyspark.sql.functions as F\n",
    "from pyspark.conf import SparkConf\n",
    "from pyspark.sql import SQLContext\n",
    "from pyspark.sql import SparkSession\n",
    "from pyspark.sql import Row\n",
    "\n",
    "COMMON_PATH = '/workspace/common'\n",
    "\n",
    "sys.path.append(os.path.join(COMMON_PATH, 'utils'))\n",
    "\n",
    "os.environ['PYSPARK_SUBMIT_ARGS'] = \"\"\"\n",
    "--jars {common}/xgboost4j-spark-0.72.jar,{common}/xgboost4j-0.72.jar\n",
    "--py-files {common}/sparkxgb.zip pyspark-shell\n",
    "\"\"\".format(common=COMMON_PATH).replace('\\n', ' ')\n",
    "\n",
    "spark = SparkSession \\\n",
    "    .builder \\\n",
    "    .master('local[*]') \\\n",
    "    .appName(\"spark_sql_examples\") \\\n",
    "    .config(\"spark.executor.memory\", \"8g\") \\\n",
    "    .getOrCreate()\n",
    "\n",
    "sc = spark.sparkContext\n",
    "sqlContext = SQLContext(sc)\n",
    "\n",
    "from metrics import rocauc, logloss, ne, get_ate\n",
    "from processing import split_by_col\n",
    "\n",
    "from sparkxgb.xgboost import *"
   ]
  },
  {
   "cell_type": "code",
   "execution_count": 2,
   "metadata": {},
   "outputs": [],
   "source": [
    "DATA_PATH = '/workspace/data/criteo/dac'\n",
    "\n",
    "TRAIN_PATH = os.path.join(DATA_PATH, 'train.csv')"
   ]
  },
  {
   "cell_type": "code",
   "execution_count": 3,
   "metadata": {},
   "outputs": [],
   "source": [
    "df = sqlContext.read.format(\"com.databricks.spark.csv\") \\\n",
    "    .option(\"delimiter\", \",\") \\\n",
    "    .option(\"header\", \"true\") \\\n",
    "    .option(\"inferSchema\", \"true\") \\\n",
    "    .load('file:///' + TRAIN_PATH)"
   ]
  },
  {
   "cell_type": "markdown",
   "metadata": {},
   "source": [
    "**Remark** Необязательно использовать половину датасета и всего две категориальные переменные. Можно использовать больше данных, если вам позволяет ваша конфигурация"
   ]
  },
  {
   "cell_type": "code",
   "execution_count": 4,
   "metadata": {},
   "outputs": [],
   "source": [
    "df = df.sample(False, 0.5)"
   ]
  },
  {
   "cell_type": "code",
   "execution_count": 5,
   "metadata": {},
   "outputs": [
    {
     "data": {
      "text/plain": [
       "(13, 2)"
      ]
     },
     "execution_count": 5,
     "metadata": {},
     "output_type": "execute_result"
    }
   ],
   "source": [
    "num_columns = ['_c{}'.format(i) for i in range(1, 14)]\n",
    "cat_columns = ['_c{}'.format(i) for i in range(14, 40)][:2]\n",
    "len(num_columns), len(cat_columns)"
   ]
  },
  {
   "cell_type": "code",
   "execution_count": 6,
   "metadata": {},
   "outputs": [],
   "source": [
    "df = df.fillna(0, subset=num_columns)"
   ]
  },
  {
   "cell_type": "code",
   "execution_count": 7,
   "metadata": {},
   "outputs": [],
   "source": [
    "from pyspark.ml import PipelineModel\n",
    "\n",
    "\n",
    "pipeline_model = PipelineModel.load(os.path.join(DATA_PATH, 'pipeline_model'))"
   ]
  },
  {
   "cell_type": "code",
   "execution_count": 8,
   "metadata": {},
   "outputs": [
    {
     "data": {
      "text/plain": [
       "1831172"
      ]
     },
     "execution_count": 8,
     "metadata": {},
     "output_type": "execute_result"
    }
   ],
   "source": [
    "df = pipeline_model \\\n",
    "    .transform(df) \\\n",
    "    .select(F.col('_c0').alias('label'), 'features', 'id') \\\n",
    "    .cache()\n",
    "\n",
    "df.count()"
   ]
  },
  {
   "cell_type": "code",
   "execution_count": 9,
   "metadata": {},
   "outputs": [],
   "source": [
    "train_df, val_df, test_df = split_by_col(df, 'id', [0.8, 0.1, 0.1])"
   ]
  },
  {
   "cell_type": "markdown",
   "metadata": {},
   "source": [
    "# [Spark MLlib Tuning](https://spark.apache.org/docs/latest/ml-tuning.html)\n",
    "\n",
    "У имеющегося в Spark'e метода HPO есть два существенных недостатка, которые делают его мало пригодным в контексте нашей задачи:\n",
    "\n",
    "1. `ParamGridBuilder` - поиск по сетке\n",
    "2. `TrainValidationSplit` - делит данные случайнм образом"
   ]
  },
  {
   "cell_type": "markdown",
   "metadata": {},
   "source": [
    "# [Hyperopt](https://github.com/hyperopt/hyperopt)\n",
    "\n",
    "Установим `hyperopt`"
   ]
  },
  {
   "cell_type": "code",
   "execution_count": 10,
   "metadata": {},
   "outputs": [
    {
     "name": "stdout",
     "output_type": "stream",
     "text": [
      "Requirement already satisfied: hyperopt in /usr/lib/python3.5/site-packages (0.2.3)\n",
      "Requirement already satisfied: networkx==2.2 in /usr/lib/python3.5/site-packages (from hyperopt) (2.2)\n",
      "Requirement already satisfied: tqdm in /usr/lib/python3.5/site-packages (from hyperopt) (4.43.0)\n",
      "Requirement already satisfied: future in /usr/lib/python3.5/site-packages (from hyperopt) (0.18.2)\n",
      "Requirement already satisfied: six in /usr/lib/python3.5/site-packages (from hyperopt) (1.14.0)\n",
      "Requirement already satisfied: cloudpickle in /usr/lib/python3.5/site-packages (from hyperopt) (1.3.0)\n",
      "Requirement already satisfied: numpy in /usr/lib64/python3.5/site-packages (from hyperopt) (1.17.2)\n",
      "Requirement already satisfied: scipy in /usr/lib64/python3.5/site-packages (from hyperopt) (1.3.3)\n",
      "Requirement already satisfied: decorator>=4.3.0 in /usr/lib/python3.5/site-packages (from networkx==2.2->hyperopt) (4.4.1)\n"
     ]
    }
   ],
   "source": [
    "!pip3.5 install hyperopt"
   ]
  },
  {
   "cell_type": "markdown",
   "metadata": {},
   "source": [
    "## [XGBoost Tuning](https://www.analyticsvidhya.com/blog/2016/03/complete-guide-parameter-tuning-xgboost-with-codes-python/)\n",
    "\n",
    "> [Notes on Parameter Tuning](https://xgboost.readthedocs.io/en/latest/tutorials/param_tuning.html)\n",
    "\n",
    "### Objective function"
   ]
  },
  {
   "cell_type": "code",
   "execution_count": 11,
   "metadata": {},
   "outputs": [],
   "source": [
    "from hyperopt import fmin, tpe, hp, Trials, STATUS_OK\n",
    "import scipy.stats as st\n",
    "\n",
    "\n",
    "def objective(space):\n",
    "    estimator = XGBoostEstimator(**space)\n",
    "    print('SPACE:', estimator._input_kwargs_processed())\n",
    "    success = False\n",
    "    attempts = 0\n",
    "    model = None\n",
    "    while not success and attempts < 2:\n",
    "        try:\n",
    "            model = estimator.fit(train_df)\n",
    "            success = True\n",
    "        except Exception as e:\n",
    "            attempts += 1\n",
    "            print(e)\n",
    "            print('Try again')\n",
    "        \n",
    "    log_loss = logloss(model, val_df, probabilities_col='probabilities')\n",
    "    roc_auc = rocauc(model, val_df, probabilities_col='probabilities')\n",
    "    \n",
    "    print('LOG-LOSS: {}, ROC-AUC: {}'.format(log_loss, roc_auc))\n",
    "\n",
    "    return {'loss': log_loss, 'rocauc': roc_auc, 'status': STATUS_OK }"
   ]
  },
  {
   "cell_type": "code",
   "execution_count": 12,
   "metadata": {},
   "outputs": [],
   "source": [
    "static_params = {\n",
    "    'featuresCol': \"features\", \n",
    "    'labelCol': \"label\", \n",
    "    'predictionCol': \"prediction\",\n",
    "    'eval_metric': 'logloss',\n",
    "    'objective': 'binary:logistic',\n",
    "    'nthread': 1,\n",
    "    'silent': 0,\n",
    "    'nworkers': 1\n",
    "}"
   ]
  },
  {
   "cell_type": "markdown",
   "metadata": {},
   "source": [
    "Fix baseline parameters and train baseline model"
   ]
  },
  {
   "cell_type": "code",
   "execution_count": 13,
   "metadata": {},
   "outputs": [],
   "source": [
    "baseline_params = {\n",
    "    'colsample_bytree': 0.9,\n",
    "    'eta': 0.15,\n",
    "    'gamma': 0.9,\n",
    "    'max_depth': 6,\n",
    "    'min_child_weight': 50.0,\n",
    "    'subsample': 0.9,\n",
    "    'num_round': 20\n",
    "}\n",
    "\n",
    "baseline_model = XGBoostEstimator(**{**static_params, **baseline_params}).fit(train_df)"
   ]
  },
  {
   "cell_type": "code",
   "execution_count": 14,
   "metadata": {},
   "outputs": [
    {
     "data": {
      "text/plain": [
       "0.7270969337250692"
      ]
     },
     "execution_count": 14,
     "metadata": {},
     "output_type": "execute_result"
    }
   ],
   "source": [
    "baseline_rocauc = rocauc(baseline_model, val_df, probabilities_col='probabilities')\n",
    "baseline_rocauc"
   ]
  },
  {
   "cell_type": "markdown",
   "metadata": {},
   "source": [
    "### Tune number of trees\n",
    "\n",
    "> Choose a relatively high learning rate. Generally a learning rate of 0.1 works but somewhere between 0.05 to 0.3 should work for different problems. Determine the optimum number of trees for this learning rate."
   ]
  },
  {
   "cell_type": "code",
   "execution_count": 17,
   "metadata": {
    "scrolled": true
   },
   "outputs": [
    {
     "name": "stdout",
     "output_type": "stream",
     "text": [
      "SPACE:                                                \n",
      "{'labelCol': 'label', 'predictionCol': 'prediction', 'eval_metric': 'logloss', 'max_depth': 6, 'eta': 0.5, 'min_child_weight': 50.0, 'featuresCol': 'features', 'num_round': 100, 'silent': 0, 'nworkers': 1, 'nthread': 1, 'subsample': 0.9, 'colsample_bytree': 0.9, 'gamma': 0.9, 'objective': 'binary:logistic'}\n",
      "LOG-LOSS: 0.5001253002549331, ROC-AUC: 0.7393513584890536\n",
      "SPACE:                                                                           \n",
      "{'labelCol': 'label', 'predictionCol': 'prediction', 'eval_metric': 'logloss', 'max_depth': 6, 'eta': 0.1, 'min_child_weight': 50.0, 'featuresCol': 'features', 'num_round': 40, 'silent': 0, 'nworkers': 1, 'nthread': 1, 'subsample': 0.9, 'colsample_bytree': 0.9, 'gamma': 0.9, 'objective': 'binary:logistic'}\n",
      "LOG-LOSS: 0.5080080104997449, ROC-AUC: 0.7293881814008916                        \n",
      "SPACE:                                                                           \n",
      "{'labelCol': 'label', 'predictionCol': 'prediction', 'eval_metric': 'logloss', 'max_depth': 6, 'eta': 0.1, 'min_child_weight': 50.0, 'featuresCol': 'features', 'num_round': 10, 'silent': 0, 'nworkers': 1, 'nthread': 1, 'subsample': 0.9, 'colsample_bytree': 0.9, 'gamma': 0.9, 'objective': 'binary:logistic'}\n",
      "LOG-LOSS: 0.5442376174531975, ROC-AUC: 0.7210373019274834                        \n",
      "SPACE:                                                                           \n",
      "{'labelCol': 'label', 'predictionCol': 'prediction', 'eval_metric': 'logloss', 'max_depth': 6, 'eta': 0.5, 'min_child_weight': 50.0, 'featuresCol': 'features', 'num_round': 20, 'silent': 0, 'nworkers': 1, 'nthread': 1, 'subsample': 0.9, 'colsample_bytree': 0.9, 'gamma': 0.9, 'objective': 'binary:logistic'}\n",
      "LOG-LOSS: 0.5045549169192118, ROC-AUC: 0.7335648589505128                        \n",
      "SPACE:                                                                           \n",
      "{'labelCol': 'label', 'predictionCol': 'prediction', 'eval_metric': 'logloss', 'max_depth': 6, 'eta': 0.1, 'min_child_weight': 50.0, 'featuresCol': 'features', 'num_round': 100, 'silent': 0, 'nworkers': 1, 'nthread': 1, 'subsample': 0.9, 'colsample_bytree': 0.9, 'gamma': 0.9, 'objective': 'binary:logistic'}\n",
      "LOG-LOSS: 0.5039114117605414, ROC-AUC: 0.7348210463888218                        \n",
      "SPACE:                                                                           \n",
      "{'labelCol': 'label', 'predictionCol': 'prediction', 'eval_metric': 'logloss', 'max_depth': 6, 'eta': 0.1, 'min_child_weight': 50.0, 'featuresCol': 'features', 'num_round': 20, 'silent': 0, 'nworkers': 1, 'nthread': 1, 'subsample': 0.9, 'colsample_bytree': 0.9, 'gamma': 0.9, 'objective': 'binary:logistic'}\n",
      "LOG-LOSS: 0.5168260909355734, ROC-AUC: 0.7244125924898033                        \n",
      "SPACE:                                                                           \n",
      "{'labelCol': 'label', 'predictionCol': 'prediction', 'eval_metric': 'logloss', 'max_depth': 6, 'eta': 0.3, 'min_child_weight': 50.0, 'featuresCol': 'features', 'num_round': 10, 'silent': 0, 'nworkers': 1, 'nthread': 1, 'subsample': 0.9, 'colsample_bytree': 0.9, 'gamma': 0.9, 'objective': 'binary:logistic'}\n",
      "LOG-LOSS: 0.510407112071003, ROC-AUC: 0.7260768428711915                         \n",
      "SPACE:                                                                           \n",
      "{'labelCol': 'label', 'predictionCol': 'prediction', 'eval_metric': 'logloss', 'max_depth': 6, 'eta': 0.3, 'min_child_weight': 50.0, 'featuresCol': 'features', 'num_round': 100, 'silent': 0, 'nworkers': 1, 'nthread': 1, 'subsample': 0.9, 'colsample_bytree': 0.9, 'gamma': 0.9, 'objective': 'binary:logistic'}\n",
      "LOG-LOSS: 0.5005933906261818, ROC-AUC: 0.7388797873355676                       \n",
      "SPACE:                                                                           \n",
      "{'labelCol': 'label', 'predictionCol': 'prediction', 'eval_metric': 'logloss', 'max_depth': 6, 'eta': 0.2, 'min_child_weight': 50.0, 'featuresCol': 'features', 'num_round': 20, 'silent': 0, 'nworkers': 1, 'nthread': 1, 'subsample': 0.9, 'colsample_bytree': 0.9, 'gamma': 0.9, 'objective': 'binary:logistic'}\n",
      "LOG-LOSS: 0.50814782482789, ROC-AUC: 0.7290719681852555                          \n",
      "SPACE:                                                                           \n",
      "{'labelCol': 'label', 'predictionCol': 'prediction', 'eval_metric': 'logloss', 'max_depth': 6, 'eta': 0.3, 'min_child_weight': 50.0, 'featuresCol': 'features', 'num_round': 40, 'silent': 0, 'nworkers': 1, 'nthread': 1, 'subsample': 0.9, 'colsample_bytree': 0.9, 'gamma': 0.9, 'objective': 'binary:logistic'}\n",
      "LOG-LOSS: 0.5036156655553476, ROC-AUC: 0.7349646122961524                       \n",
      "100%|██████████| 10/10 [16:46<00:00, 100.68s/trial, best loss: 0.5001253002549331]\n",
      "CPU times: user 2.2 s, sys: 741 ms, total: 2.94 s\n",
      "Wall time: 16min 46s\n"
     ]
    }
   ],
   "source": [
    "%%time\n",
    "\n",
    "num_round_choice = [10, 20, 40, 100]\n",
    "eta_choice = [0.5, 0.10, 0.15, 0.20, 0.30]\n",
    "\n",
    "space = {\n",
    "    # Optimize\n",
    "    'num_round': hp.choice('num_round', num_round_choice),\n",
    "    'eta': hp.choice('eta', eta_choice),\n",
    "    \n",
    "    # Fixed    \n",
    "    'max_depth': baseline_params['max_depth'],\n",
    "    'min_child_weight': baseline_params['min_child_weight'],\n",
    "    'subsample': baseline_params['subsample'],\n",
    "    'gamma': baseline_params['gamma'],\n",
    "    'colsample_bytree': baseline_params['colsample_bytree'],\n",
    "    \n",
    "    **static_params\n",
    "}\n",
    "\n",
    "\n",
    "trials = Trials()\n",
    "best = fmin(fn=objective,\n",
    "            space=space,\n",
    "            algo=tpe.suggest,\n",
    "            max_evals=10,\n",
    "            trials=trials)"
   ]
  },
  {
   "cell_type": "code",
   "execution_count": 18,
   "metadata": {},
   "outputs": [
    {
     "data": {
      "text/plain": [
       "{'eta': 0, 'num_round': 3}"
      ]
     },
     "execution_count": 18,
     "metadata": {},
     "output_type": "execute_result"
    }
   ],
   "source": [
    "best"
   ]
  },
  {
   "cell_type": "markdown",
   "metadata": {},
   "source": [
    "Обратите внимание на то, что в случае с `hp.choice` в переменной `best` хранится не конкретное значение гиперпараметра, а его индекс из списка, например, `num_round_choice`"
   ]
  },
  {
   "cell_type": "code",
   "execution_count": 19,
   "metadata": {},
   "outputs": [],
   "source": [
    "num_round = num_round_choice[best['num_round']]\n",
    "eta = eta_choice[best['eta']]"
   ]
  },
  {
   "cell_type": "markdown",
   "metadata": {},
   "source": [
    "### Tune tree-specific parameters\n",
    "\n",
    "> Tune tree-specific parameters ( max_depth, min_child_weight, gamma, subsample, colsample_bytree) for decided learning rate and number of trees. Note that we can choose different parameters to define a tree and I’ll take up an example here."
   ]
  },
  {
   "cell_type": "markdown",
   "metadata": {},
   "source": [
    "#### Tune max_depth, min_child_weight"
   ]
  },
  {
   "cell_type": "code",
   "execution_count": 20,
   "metadata": {},
   "outputs": [
    {
     "name": "stdout",
     "output_type": "stream",
     "text": [
      "SPACE:                                                \n",
      "{'labelCol': 'label', 'predictionCol': 'prediction', 'eval_metric': 'logloss', 'max_depth': 5, 'eta': 0.5, 'min_child_weight': 75.0, 'featuresCol': 'features', 'num_round': 100, 'silent': 0, 'nworkers': 1, 'nthread': 1, 'subsample': 0.9, 'colsample_bytree': 0.9, 'gamma': 0.9, 'objective': 'binary:logistic'}\n",
      "LOG-LOSS: 0.5008558412897175, ROC-AUC: 0.7383601163886406\n",
      "SPACE:                                                                           \n",
      "{'labelCol': 'label', 'predictionCol': 'prediction', 'eval_metric': 'logloss', 'max_depth': 7, 'eta': 0.5, 'min_child_weight': 50.0, 'featuresCol': 'features', 'num_round': 100, 'silent': 0, 'nworkers': 1, 'nthread': 1, 'subsample': 0.9, 'colsample_bytree': 0.9, 'gamma': 0.9, 'objective': 'binary:logistic'}\n",
      "LOG-LOSS: 0.49986010789937063, ROC-AUC: 0.7395460197967275                       \n",
      "SPACE:                                                                            \n",
      "{'labelCol': 'label', 'predictionCol': 'prediction', 'eval_metric': 'logloss', 'max_depth': 6, 'eta': 0.5, 'min_child_weight': 50.0, 'featuresCol': 'features', 'num_round': 100, 'silent': 0, 'nworkers': 1, 'nthread': 1, 'subsample': 0.9, 'colsample_bytree': 0.9, 'gamma': 0.9, 'objective': 'binary:logistic'}\n",
      "LOG-LOSS: 0.5001253002549331, ROC-AUC: 0.7393513584890539                         \n",
      "SPACE:                                                                            \n",
      "{'labelCol': 'label', 'predictionCol': 'prediction', 'eval_metric': 'logloss', 'max_depth': 6, 'eta': 0.5, 'min_child_weight': 10.0, 'featuresCol': 'features', 'num_round': 100, 'silent': 0, 'nworkers': 1, 'nthread': 1, 'subsample': 0.9, 'colsample_bytree': 0.9, 'gamma': 0.9, 'objective': 'binary:logistic'}\n",
      "LOG-LOSS: 0.5004980657961946, ROC-AUC: 0.7387352762398397                         \n",
      "SPACE:                                                                            \n",
      "{'labelCol': 'label', 'predictionCol': 'prediction', 'eval_metric': 'logloss', 'max_depth': 5, 'eta': 0.5, 'min_child_weight': 75.0, 'featuresCol': 'features', 'num_round': 100, 'silent': 0, 'nworkers': 1, 'nthread': 1, 'subsample': 0.9, 'colsample_bytree': 0.9, 'gamma': 0.9, 'objective': 'binary:logistic'}\n",
      "LOG-LOSS: 0.5008558412897175, ROC-AUC: 0.7383601163886404                         \n",
      "SPACE:                                                                            \n",
      "{'labelCol': 'label', 'predictionCol': 'prediction', 'eval_metric': 'logloss', 'max_depth': 4, 'eta': 0.5, 'min_child_weight': 75.0, 'featuresCol': 'features', 'num_round': 100, 'silent': 0, 'nworkers': 1, 'nthread': 1, 'subsample': 0.9, 'colsample_bytree': 0.9, 'gamma': 0.9, 'objective': 'binary:logistic'}\n",
      "LOG-LOSS: 0.5020355053239541, ROC-AUC: 0.7365722056733991                         \n",
      "SPACE:                                                                            \n",
      "{'labelCol': 'label', 'predictionCol': 'prediction', 'eval_metric': 'logloss', 'max_depth': 7, 'eta': 0.5, 'min_child_weight': 10.0, 'featuresCol': 'features', 'num_round': 100, 'silent': 0, 'nworkers': 1, 'nthread': 1, 'subsample': 0.9, 'colsample_bytree': 0.9, 'gamma': 0.9, 'objective': 'binary:logistic'}\n",
      "LOG-LOSS: 0.5004475098851334, ROC-AUC: 0.7387122232824597                         \n",
      "SPACE:                                                                            \n",
      "{'labelCol': 'label', 'predictionCol': 'prediction', 'eval_metric': 'logloss', 'max_depth': 5, 'eta': 0.5, 'min_child_weight': 75.0, 'featuresCol': 'features', 'num_round': 100, 'silent': 0, 'nworkers': 1, 'nthread': 1, 'subsample': 0.9, 'colsample_bytree': 0.9, 'gamma': 0.9, 'objective': 'binary:logistic'}\n",
      "LOG-LOSS: 0.5008558412897175, ROC-AUC: 0.7383601163886429                         \n",
      "SPACE:                                                                            \n",
      "{'labelCol': 'label', 'predictionCol': 'prediction', 'eval_metric': 'logloss', 'max_depth': 5, 'eta': 0.5, 'min_child_weight': 25.0, 'featuresCol': 'features', 'num_round': 100, 'silent': 0, 'nworkers': 1, 'nthread': 1, 'subsample': 0.9, 'colsample_bytree': 0.9, 'gamma': 0.9, 'objective': 'binary:logistic'}\n",
      "LOG-LOSS: 0.501089093101051, ROC-AUC: 0.7379946016764521                          \n",
      "SPACE:                                                                            \n",
      "{'labelCol': 'label', 'predictionCol': 'prediction', 'eval_metric': 'logloss', 'max_depth': 5, 'eta': 0.5, 'min_child_weight': 50.0, 'featuresCol': 'features', 'num_round': 100, 'silent': 0, 'nworkers': 1, 'nthread': 1, 'subsample': 0.9, 'colsample_bytree': 0.9, 'gamma': 0.9, 'objective': 'binary:logistic'}\n",
      "LOG-LOSS: 0.5007080816921239, ROC-AUC: 0.7384922785519699                         \n",
      "100%|██████████| 10/10 [29:09<00:00, 174.96s/trial, best loss: 0.49986010789937063]\n",
      "CPU times: user 2.29 s, sys: 850 ms, total: 3.14 s\n",
      "Wall time: 29min 9s\n"
     ]
    }
   ],
   "source": [
    "%%time\n",
    "\n",
    "max_depth_choice  = [4, 5, 6, 7]\n",
    "min_child_weight_choice = [10.0, 25.0, 50.0, 75.0, 100.0]\n",
    "\n",
    "space = {\n",
    "    # Optimize\n",
    "    'max_depth': hp.choice('max_depth', max_depth_choice),\n",
    "    'min_child_weight': hp.choice('min_child_weight', min_child_weight_choice),\n",
    "    \n",
    "    # Fixed\n",
    "    'num_round': num_round,\n",
    "    'eta': eta,\n",
    "    'subsample': baseline_params['subsample'],\n",
    "    'gamma': baseline_params['gamma'],\n",
    "    'colsample_bytree': baseline_params['colsample_bytree'],\n",
    "    \n",
    "    **static_params\n",
    "}\n",
    "\n",
    "\n",
    "trials = Trials()\n",
    "best = fmin(fn=objective,\n",
    "            space=space,\n",
    "            algo=tpe.suggest,\n",
    "            max_evals=10,\n",
    "            trials=trials)"
   ]
  },
  {
   "cell_type": "code",
   "execution_count": 21,
   "metadata": {},
   "outputs": [
    {
     "data": {
      "text/plain": [
       "{'max_depth': 3, 'min_child_weight': 2}"
      ]
     },
     "execution_count": 21,
     "metadata": {},
     "output_type": "execute_result"
    }
   ],
   "source": [
    "best"
   ]
  },
  {
   "cell_type": "code",
   "execution_count": 22,
   "metadata": {},
   "outputs": [],
   "source": [
    "max_depth = max_depth_choice[best['max_depth']]\n",
    "min_child_weight = min_child_weight_choice[best['min_child_weight']]"
   ]
  },
  {
   "cell_type": "markdown",
   "metadata": {},
   "source": [
    "#### Tune gamma"
   ]
  },
  {
   "cell_type": "code",
   "execution_count": 23,
   "metadata": {},
   "outputs": [
    {
     "name": "stdout",
     "output_type": "stream",
     "text": [
      "SPACE:                                               \n",
      "{'labelCol': 'label', 'predictionCol': 'prediction', 'eval_metric': 'logloss', 'max_depth': 7, 'eta': 0.5, 'min_child_weight': 50.0, 'featuresCol': 'features', 'num_round': 100, 'silent': 0, 'nworkers': 1, 'nthread': 1, 'subsample': 0.9, 'colsample_bytree': 0.9, 'gamma': 0.5, 'objective': 'binary:logistic'}\n",
      "LOG-LOSS: 0.49976966072181944, ROC-AUC: 0.7396315331238715\n",
      "SPACE:                                                                           \n",
      "{'labelCol': 'label', 'predictionCol': 'prediction', 'eval_metric': 'logloss', 'max_depth': 7, 'eta': 0.5, 'min_child_weight': 50.0, 'featuresCol': 'features', 'num_round': 100, 'silent': 0, 'nworkers': 1, 'nthread': 1, 'subsample': 0.9, 'colsample_bytree': 0.9, 'gamma': 0.8, 'objective': 'binary:logistic'}\n",
      "LOG-LOSS: 0.49976595648479694, ROC-AUC: 0.739629262493551                        \n",
      "SPACE:                                                                           \n",
      "{'labelCol': 'label', 'predictionCol': 'prediction', 'eval_metric': 'logloss', 'max_depth': 7, 'eta': 0.5, 'min_child_weight': 50.0, 'featuresCol': 'features', 'num_round': 100, 'silent': 0, 'nworkers': 1, 'nthread': 1, 'subsample': 0.9, 'colsample_bytree': 0.9, 'gamma': 0.9, 'objective': 'binary:logistic'}\n",
      "LOG-LOSS: 0.49986010789937063, ROC-AUC: 0.7395460197967305                       \n",
      "SPACE:                                                                           \n",
      "{'labelCol': 'label', 'predictionCol': 'prediction', 'eval_metric': 'logloss', 'max_depth': 7, 'eta': 0.5, 'min_child_weight': 50.0, 'featuresCol': 'features', 'num_round': 100, 'silent': 0, 'nworkers': 1, 'nthread': 1, 'subsample': 0.9, 'colsample_bytree': 0.9, 'gamma': 0.9, 'objective': 'binary:logistic'}\n",
      "LOG-LOSS: 0.49986010789937063, ROC-AUC: 0.7395460197967292                       \n",
      "SPACE:                                                                           \n",
      "{'labelCol': 'label', 'predictionCol': 'prediction', 'eval_metric': 'logloss', 'max_depth': 7, 'eta': 0.5, 'min_child_weight': 50.0, 'featuresCol': 'features', 'num_round': 100, 'silent': 0, 'nworkers': 1, 'nthread': 1, 'subsample': 0.9, 'colsample_bytree': 0.9, 'gamma': 0.99, 'objective': 'binary:logistic'}\n",
      "LOG-LOSS: 0.49966023521522274, ROC-AUC: 0.7397895493606486                       \n",
      "100%|██████████| 5/5 [17:09<00:00, 205.99s/trial, best loss: 0.49966023521522274]\n",
      "CPU times: user 1.16 s, sys: 462 ms, total: 1.63 s\n",
      "Wall time: 17min 9s\n"
     ]
    }
   ],
   "source": [
    "%%time\n",
    "\n",
    "gamma_choice  = [0.5, 0.8, 0.9, 0.95, 0.99]\n",
    "\n",
    "space = {\n",
    "    # Optimize\n",
    "    'gamma': hp.choice('gamma', gamma_choice),\n",
    "\n",
    "    # Fixed\n",
    "    'num_round': num_round,\n",
    "    'eta': eta,\n",
    "    'max_depth': max_depth,\n",
    "    'min_child_weight': min_child_weight,\n",
    "    'subsample': baseline_params['subsample'],\n",
    "    'colsample_bytree': baseline_params['colsample_bytree'],\n",
    "    \n",
    "    **static_params\n",
    "}\n",
    "\n",
    "\n",
    "trials = Trials()\n",
    "best = fmin(fn=objective,\n",
    "            space=space,\n",
    "            algo=tpe.suggest,\n",
    "            max_evals=5,\n",
    "            trials=trials)"
   ]
  },
  {
   "cell_type": "code",
   "execution_count": 24,
   "metadata": {},
   "outputs": [
    {
     "data": {
      "text/plain": [
       "{'gamma': 4}"
      ]
     },
     "execution_count": 24,
     "metadata": {},
     "output_type": "execute_result"
    }
   ],
   "source": [
    "best"
   ]
  },
  {
   "cell_type": "code",
   "execution_count": 25,
   "metadata": {},
   "outputs": [],
   "source": [
    "gamma = gamma_choice[best['gamma']]"
   ]
  },
  {
   "cell_type": "markdown",
   "metadata": {},
   "source": [
    "#### Tune subsample, colsample_bytree"
   ]
  },
  {
   "cell_type": "code",
   "execution_count": 26,
   "metadata": {},
   "outputs": [
    {
     "name": "stdout",
     "output_type": "stream",
     "text": [
      "SPACE:                                                \n",
      "{'labelCol': 'label', 'predictionCol': 'prediction', 'eval_metric': 'logloss', 'max_depth': 7, 'eta': 0.5, 'min_child_weight': 50.0, 'featuresCol': 'features', 'num_round': 100, 'silent': 0, 'nworkers': 1, 'nthread': 1, 'subsample': 0.95, 'colsample_bytree': 0.8, 'gamma': 0.99, 'objective': 'binary:logistic'}\n",
      "LOG-LOSS: 0.5000291152762375, ROC-AUC: 0.7391248129650421\n",
      "SPACE:                                                                           \n",
      "{'labelCol': 'label', 'predictionCol': 'prediction', 'eval_metric': 'logloss', 'max_depth': 7, 'eta': 0.5, 'min_child_weight': 50.0, 'featuresCol': 'features', 'num_round': 100, 'silent': 0, 'nworkers': 1, 'nthread': 1, 'subsample': 0.9, 'colsample_bytree': 0.8, 'gamma': 0.99, 'objective': 'binary:logistic'}\n",
      "LOG-LOSS: 0.5000185902761987, ROC-AUC: 0.7393136701346823                        \n",
      "SPACE:                                                                           \n",
      "{'labelCol': 'label', 'predictionCol': 'prediction', 'eval_metric': 'logloss', 'max_depth': 7, 'eta': 0.5, 'min_child_weight': 50.0, 'featuresCol': 'features', 'num_round': 100, 'silent': 0, 'nworkers': 1, 'nthread': 1, 'subsample': 0.8, 'colsample_bytree': 0.9, 'gamma': 0.99, 'objective': 'binary:logistic'}\n",
      "LOG-LOSS: 0.4996411389500869, ROC-AUC: 0.7399817261598656                        \n",
      "SPACE:                                                                           \n",
      "{'labelCol': 'label', 'predictionCol': 'prediction', 'eval_metric': 'logloss', 'max_depth': 7, 'eta': 0.5, 'min_child_weight': 50.0, 'featuresCol': 'features', 'num_round': 100, 'silent': 0, 'nworkers': 1, 'nthread': 1, 'subsample': 0.95, 'colsample_bytree': 0.9, 'gamma': 0.99, 'objective': 'binary:logistic'}\n",
      "LOG-LOSS: 0.4999357653652538, ROC-AUC: 0.7395305360705606                        \n",
      "SPACE:                                                                           \n",
      "{'labelCol': 'label', 'predictionCol': 'prediction', 'eval_metric': 'logloss', 'max_depth': 7, 'eta': 0.5, 'min_child_weight': 50.0, 'featuresCol': 'features', 'num_round': 100, 'silent': 0, 'nworkers': 1, 'nthread': 1, 'subsample': 0.8, 'colsample_bytree': 0.8, 'gamma': 0.99, 'objective': 'binary:logistic'}\n",
      "LOG-LOSS: 0.4997545034693541, ROC-AUC: 0.7396963101591454                        \n",
      "SPACE:                                                                           \n",
      "{'labelCol': 'label', 'predictionCol': 'prediction', 'eval_metric': 'logloss', 'max_depth': 7, 'eta': 0.5, 'min_child_weight': 50.0, 'featuresCol': 'features', 'num_round': 100, 'silent': 0, 'nworkers': 1, 'nthread': 1, 'subsample': 0.9, 'colsample_bytree': 0.5, 'gamma': 0.99, 'objective': 'binary:logistic'}\n",
      "LOG-LOSS: 0.49995347290588, ROC-AUC: 0.7393997395913173                          \n",
      "SPACE:                                                                           \n",
      "{'labelCol': 'label', 'predictionCol': 'prediction', 'eval_metric': 'logloss', 'max_depth': 7, 'eta': 0.5, 'min_child_weight': 50.0, 'featuresCol': 'features', 'num_round': 100, 'silent': 0, 'nworkers': 1, 'nthread': 1, 'subsample': 0.8, 'colsample_bytree': 0.8, 'gamma': 0.99, 'objective': 'binary:logistic'}\n",
      "LOG-LOSS: 0.4997545034693541, ROC-AUC: 0.7396963101591435                        \n",
      "SPACE:                                                                           \n",
      "{'labelCol': 'label', 'predictionCol': 'prediction', 'eval_metric': 'logloss', 'max_depth': 7, 'eta': 0.5, 'min_child_weight': 50.0, 'featuresCol': 'features', 'num_round': 100, 'silent': 0, 'nworkers': 1, 'nthread': 1, 'subsample': 0.9, 'colsample_bytree': 0.5, 'gamma': 0.99, 'objective': 'binary:logistic'}\n",
      "LOG-LOSS: 0.49995347290588, ROC-AUC: 0.7393997395913146                          \n",
      "SPACE:                                                                           \n",
      "{'labelCol': 'label', 'predictionCol': 'prediction', 'eval_metric': 'logloss', 'max_depth': 7, 'eta': 0.5, 'min_child_weight': 50.0, 'featuresCol': 'features', 'num_round': 100, 'silent': 0, 'nworkers': 1, 'nthread': 1, 'subsample': 0.9, 'colsample_bytree': 0.95, 'gamma': 0.99, 'objective': 'binary:logistic'}\n",
      "LOG-LOSS: 0.4996431771963407, ROC-AUC: 0.7400466324179908                        \n",
      "SPACE:                                                                           \n",
      "{'labelCol': 'label', 'predictionCol': 'prediction', 'eval_metric': 'logloss', 'max_depth': 7, 'eta': 0.5, 'min_child_weight': 50.0, 'featuresCol': 'features', 'num_round': 100, 'silent': 0, 'nworkers': 1, 'nthread': 1, 'subsample': 0.8, 'colsample_bytree': 0.9, 'gamma': 0.99, 'objective': 'binary:logistic'}\n",
      "LOG-LOSS: 0.4996411389500869, ROC-AUC: 0.7399817261598678                        \n",
      "100%|██████████| 10/10 [30:17<00:00, 181.76s/trial, best loss: 0.4996411389500869]\n",
      "CPU times: user 2.11 s, sys: 889 ms, total: 3 s\n",
      "Wall time: 30min 17s\n"
     ]
    }
   ],
   "source": [
    "%%time\n",
    "\n",
    "subsample_choice = [0.5, 0.8, 0.9, 0.95]\n",
    "colsample_bytree_choice = [0.5, 0.8, 0.9, 0.95]\n",
    "\n",
    "space = {\n",
    "    # Optimize\n",
    "    'subsample': hp.choice('subsample', subsample_choice),\n",
    "    'colsample_bytree': hp.choice('colsample_bytree', colsample_bytree_choice),\n",
    "    \n",
    "    # Fixed\n",
    "    'num_round': num_round,\n",
    "    'eta': eta,\n",
    "    'max_depth': max_depth,\n",
    "    'min_child_weight': min_child_weight,\n",
    "    'gamma': gamma,\n",
    "    \n",
    "    **static_params\n",
    "}\n",
    "\n",
    "\n",
    "trials = Trials()\n",
    "best = fmin(fn=objective,\n",
    "            space=space,\n",
    "            algo=tpe.suggest,\n",
    "            max_evals=10,\n",
    "            trials=trials)"
   ]
  },
  {
   "cell_type": "code",
   "execution_count": 27,
   "metadata": {},
   "outputs": [
    {
     "data": {
      "text/plain": [
       "{'colsample_bytree': 2, 'subsample': 1}"
      ]
     },
     "execution_count": 27,
     "metadata": {},
     "output_type": "execute_result"
    }
   ],
   "source": [
    "best"
   ]
  },
  {
   "cell_type": "code",
   "execution_count": 28,
   "metadata": {},
   "outputs": [],
   "source": [
    "subsample = subsample_choice[best['subsample']]\n",
    "colsample_bytree = colsample_bytree_choice[best['colsample_bytree']]"
   ]
  },
  {
   "cell_type": "markdown",
   "metadata": {},
   "source": [
    "### Tune regularization parameters\n",
    "\n",
    "> Tune regularization parameters (lambda, alpha) for xgboost which can help reduce model complexity and enhance performance."
   ]
  },
  {
   "cell_type": "code",
   "execution_count": 34,
   "metadata": {},
   "outputs": [
    {
     "name": "stdout",
     "output_type": "stream",
     "text": [
      "SPACE:                                                \n",
      "{'lambda': 0.1, 'predictionCol': 'prediction', 'subsample': 0.8, 'max_depth': 7, 'eta': 0.5, 'alpha': 0.1, 'gamma': 0.99, 'labelCol': 'label', 'num_round': 100, 'silent': 0, 'nworkers': 1, 'objective': 'binary:logistic', 'eval_metric': 'logloss', 'colsample_bytree': 0.9, 'featuresCol': 'features', 'min_child_weight': 50.0, 'nthread': 1}\n",
      "LOG-LOSS: 0.49991685136862735, ROC-AUC: 0.7395248261655747\n",
      "SPACE:                                                                            \n",
      "{'lambda': 0.1, 'predictionCol': 'prediction', 'subsample': 0.8, 'max_depth': 7, 'eta': 0.5, 'alpha': 0.01, 'gamma': 0.99, 'labelCol': 'label', 'num_round': 100, 'silent': 0, 'nworkers': 1, 'objective': 'binary:logistic', 'eval_metric': 'logloss', 'colsample_bytree': 0.9, 'featuresCol': 'features', 'min_child_weight': 50.0, 'nthread': 1}\n",
      "LOG-LOSS: 0.49995706504042214, ROC-AUC: 0.7394848780717508                        \n",
      "SPACE:                                                                            \n",
      "{'lambda': 0.0, 'predictionCol': 'prediction', 'subsample': 0.8, 'max_depth': 7, 'eta': 0.5, 'alpha': 0.1, 'gamma': 0.99, 'labelCol': 'label', 'num_round': 100, 'silent': 0, 'nworkers': 1, 'objective': 'binary:logistic', 'eval_metric': 'logloss', 'colsample_bytree': 0.9, 'featuresCol': 'features', 'min_child_weight': 50.0, 'nthread': 1}\n",
      "LOG-LOSS: 0.5000424415644545, ROC-AUC: 0.7394269326237347                         \n",
      "SPACE:                                                                            \n",
      "{'lambda': 0.01, 'predictionCol': 'prediction', 'subsample': 0.8, 'max_depth': 7, 'eta': 0.5, 'alpha': 0.001, 'gamma': 0.99, 'labelCol': 'label', 'num_round': 100, 'silent': 0, 'nworkers': 1, 'objective': 'binary:logistic', 'eval_metric': 'logloss', 'colsample_bytree': 0.9, 'featuresCol': 'features', 'min_child_weight': 50.0, 'nthread': 1}\n",
      "LOG-LOSS: 0.49991230886492766, ROC-AUC: 0.7397418925397944                        \n",
      "SPACE:                                                                            \n",
      "{'lambda': 0.0, 'predictionCol': 'prediction', 'subsample': 0.8, 'max_depth': 7, 'eta': 0.5, 'alpha': 0.001, 'gamma': 0.99, 'labelCol': 'label', 'num_round': 100, 'silent': 0, 'nworkers': 1, 'objective': 'binary:logistic', 'eval_metric': 'logloss', 'colsample_bytree': 0.9, 'featuresCol': 'features', 'min_child_weight': 50.0, 'nthread': 1}\n",
      "LOG-LOSS: 0.5003850835029079, ROC-AUC: 0.7390496784816032                         \n",
      "SPACE:                                                                            \n",
      "{'lambda': 0.001, 'predictionCol': 'prediction', 'subsample': 0.8, 'max_depth': 7, 'eta': 0.5, 'alpha': 0.1, 'gamma': 0.99, 'labelCol': 'label', 'num_round': 100, 'silent': 0, 'nworkers': 1, 'objective': 'binary:logistic', 'eval_metric': 'logloss', 'colsample_bytree': 0.9, 'featuresCol': 'features', 'min_child_weight': 50.0, 'nthread': 1}\n",
      "LOG-LOSS: 0.500069764850415, ROC-AUC: 0.7393867586023062                          \n",
      "SPACE:                                                                            \n",
      "{'lambda': 0.1, 'predictionCol': 'prediction', 'subsample': 0.8, 'max_depth': 7, 'eta': 0.5, 'alpha': 0.0, 'gamma': 0.99, 'labelCol': 'label', 'num_round': 100, 'silent': 0, 'nworkers': 1, 'objective': 'binary:logistic', 'eval_metric': 'logloss', 'colsample_bytree': 0.9, 'featuresCol': 'features', 'min_child_weight': 50.0, 'nthread': 1}\n",
      "LOG-LOSS: 0.49998887529595154, ROC-AUC: 0.7395400117445454                        \n",
      "SPACE:                                                                            \n",
      "{'lambda': 0.0, 'predictionCol': 'prediction', 'subsample': 0.8, 'max_depth': 7, 'eta': 0.5, 'alpha': 0.001, 'gamma': 0.99, 'labelCol': 'label', 'num_round': 100, 'silent': 0, 'nworkers': 1, 'objective': 'binary:logistic', 'eval_metric': 'logloss', 'colsample_bytree': 0.9, 'featuresCol': 'features', 'min_child_weight': 50.0, 'nthread': 1}\n",
      "LOG-LOSS: 0.5003850835029079, ROC-AUC: 0.7390496784815966                         \n",
      "SPACE:                                                                            \n",
      "{'lambda': 0.001, 'predictionCol': 'prediction', 'subsample': 0.8, 'max_depth': 7, 'eta': 0.5, 'alpha': 0.0, 'gamma': 0.99, 'labelCol': 'label', 'num_round': 100, 'silent': 0, 'nworkers': 1, 'objective': 'binary:logistic', 'eval_metric': 'logloss', 'colsample_bytree': 0.9, 'featuresCol': 'features', 'min_child_weight': 50.0, 'nthread': 1}\n",
      "LOG-LOSS: 0.5003786222966377, ROC-AUC: 0.739084469015155                          \n",
      "SPACE:                                                                            \n",
      "{'lambda': 0.001, 'predictionCol': 'prediction', 'subsample': 0.8, 'max_depth': 7, 'eta': 0.5, 'alpha': 0.0, 'gamma': 0.99, 'labelCol': 'label', 'num_round': 100, 'silent': 0, 'nworkers': 1, 'objective': 'binary:logistic', 'eval_metric': 'logloss', 'colsample_bytree': 0.9, 'featuresCol': 'features', 'min_child_weight': 50.0, 'nthread': 1}\n",
      "LOG-LOSS: 0.5003786222966377, ROC-AUC: 0.739084469015159                          \n",
      "100%|██████████| 10/10 [33:33<00:00, 201.38s/trial, best loss: 0.49991230886492766]\n",
      "CPU times: user 2.12 s, sys: 944 ms, total: 3.06 s\n",
      "Wall time: 33min 33s\n"
     ]
    },
    {
     "data": {
      "text/plain": [
       "{'alpha': 3, 'reg_lambda': 2}"
      ]
     },
     "execution_count": 34,
     "metadata": {},
     "output_type": "execute_result"
    }
   ],
   "source": [
    "%%time\n",
    "\n",
    "reg_lambda_choice = [0.0, 1e-1, 1e-2, 1e-3]\n",
    "alpha_choice = [0.0, 1e-1, 1e-2, 1e-3]\n",
    "\n",
    "space = {\n",
    "    # Optimize\n",
    "    'reg_lambda': hp.choice('reg_lambda', reg_lambda_choice),\n",
    "    'alpha': hp.choice('alpha', alpha_choice),\n",
    "    \n",
    "    # Fixed\n",
    "    'num_round': num_round,\n",
    "    'eta': eta,\n",
    "    'max_depth': max_depth,\n",
    "    'min_child_weight': min_child_weight,\n",
    "    'gamma': gamma,\n",
    "    'subsample': subsample,\n",
    "    'colsample_bytree': colsample_bytree,\n",
    "    \n",
    "    **static_params\n",
    "}\n",
    "\n",
    "\n",
    "trials = Trials()\n",
    "best = fmin(fn=objective,\n",
    "            space=space,\n",
    "            algo=tpe.suggest,\n",
    "            max_evals=10,\n",
    "            trials=trials)\n",
    "best"
   ]
  },
  {
   "cell_type": "code",
   "execution_count": 35,
   "metadata": {},
   "outputs": [],
   "source": [
    "reg_lambda = reg_lambda_choice[best['reg_lambda']]\n",
    "alpha = alpha_choice[best['alpha']]"
   ]
  },
  {
   "cell_type": "markdown",
   "metadata": {},
   "source": [
    "### Lower the learning rate and decide the optimal parameters"
   ]
  },
  {
   "cell_type": "code",
   "execution_count": 47,
   "metadata": {},
   "outputs": [
    {
     "data": {
      "text/plain": [
       "{'alpha': 0.001,\n",
       " 'colsample_bytree': 0.9,\n",
       " 'eta': 0.5,\n",
       " 'eval_metric': 'logloss',\n",
       " 'featuresCol': 'features',\n",
       " 'gamma': 0.99,\n",
       " 'labelCol': 'label',\n",
       " 'max_depth': 7,\n",
       " 'min_child_weight': 50.0,\n",
       " 'nthread': 1,\n",
       " 'num_round': 100,\n",
       " 'nworkers': 1,\n",
       " 'objective': 'binary:logistic',\n",
       " 'predictionCol': 'prediction',\n",
       " 'reg_lambda': 0.01,\n",
       " 'silent': 0,\n",
       " 'subsample': 0.8}"
      ]
     },
     "execution_count": 47,
     "metadata": {},
     "output_type": "execute_result"
    }
   ],
   "source": [
    "tuned_xgb_params = {    \n",
    "    'num_round': num_round,\n",
    "    'eta': eta,\n",
    "    'max_depth': max_depth,\n",
    "    'min_child_weight': min_child_weight,\n",
    "    'gamma': gamma,\n",
    "    'subsample': subsample,\n",
    "    'colsample_bytree': colsample_bytree,\n",
    "    \n",
    "    'reg_lambda': reg_lambda,\n",
    "    'alpha': alpha,\n",
    "    \n",
    "    **static_params\n",
    "}\n",
    "tuned_xgb_params"
   ]
  },
  {
   "cell_type": "code",
   "execution_count": 48,
   "metadata": {},
   "outputs": [
    {
     "data": {
      "text/plain": [
       "{'alpha': 0.001,\n",
       " 'colsample_bytree': 0.9,\n",
       " 'eta': 0.05,\n",
       " 'eval_metric': 'logloss',\n",
       " 'featuresCol': 'features',\n",
       " 'gamma': 0.99,\n",
       " 'labelCol': 'label',\n",
       " 'max_depth': 7,\n",
       " 'min_child_weight': 50.0,\n",
       " 'nthread': 1,\n",
       " 'num_round': 100,\n",
       " 'nworkers': 1,\n",
       " 'objective': 'binary:logistic',\n",
       " 'predictionCol': 'prediction',\n",
       " 'reg_lambda': 0.01,\n",
       " 'silent': 0,\n",
       " 'subsample': 0.8}"
      ]
     },
     "execution_count": 48,
     "metadata": {},
     "output_type": "execute_result"
    }
   ],
   "source": [
    "# Lowering the learning rate, i.e. eta\n",
    "tuned_xgb_params['eta'] /= 10\n",
    "tuned_xgb_params"
   ]
  },
  {
   "cell_type": "code",
   "execution_count": 49,
   "metadata": {},
   "outputs": [],
   "source": [
    "xgb_tuned = XGBoostEstimator(**tuned_xgb_params).fit(train_df)"
   ]
  },
  {
   "cell_type": "code",
   "execution_count": 50,
   "metadata": {},
   "outputs": [
    {
     "data": {
      "text/plain": [
       "(0.5053375826043808, 0.7329226393107793)"
      ]
     },
     "execution_count": 50,
     "metadata": {},
     "output_type": "execute_result"
    }
   ],
   "source": [
    "log_loss = logloss(xgb_tuned, val_df, probabilities_col='probabilities')\n",
    "roc_auc = rocauc(xgb_tuned, val_df, probabilities_col='probabilities')\n",
    "log_loss, roc_auc"
   ]
  },
  {
   "cell_type": "markdown",
   "metadata": {},
   "source": [
    "## LogisticRegression Tuning\n",
    "\n",
    "Подберем гиперпараметры для логрега из предыдущих практик"
   ]
  },
  {
   "cell_type": "code",
   "execution_count": 88,
   "metadata": {},
   "outputs": [],
   "source": [
    "from pyspark.ml.classification import LogisticRegression\n",
    "\n",
    "def log_reg_objective(space):\n",
    "    logistic_regression = LogisticRegression(**space)\n",
    "    print('SPACE:', space)\n",
    "    success = False\n",
    "    attempts = 0\n",
    "    model = None\n",
    "    while not success and attempts < 2:\n",
    "        try:\n",
    "            model = logistic_regression.fit(train_df)\n",
    "            success = True\n",
    "        except Exception as e:\n",
    "            attempts += 1\n",
    "            print(e)\n",
    "            print('Try again')\n",
    "        \n",
    "    log_loss = logloss(model, val_df, probabilities_col='probabilities')\n",
    "    roc_auc = rocauc(model, val_df, probabilities_col='probabilities')\n",
    "    \n",
    "    print('LOG-LOSS: {}, ROC-AUC: {}'.format(log_loss, roc_auc))\n",
    "\n",
    "    return {'loss': log_loss, 'rocauc': roc_auc, 'status': STATUS_OK }"
   ]
  },
  {
   "cell_type": "code",
   "execution_count": 89,
   "metadata": {},
   "outputs": [],
   "source": [
    "static_params = {\n",
    "    'featuresCol': \"features\", \n",
    "    'labelCol': \"label\", \n",
    "    'predictionCol': \"prediction\",\n",
    "    'probabilityCol': \"probabilities\",\n",
    "    'rawPredictionCol': \"rawPrediction\",\n",
    "    'family': 'binomial',\n",
    "}"
   ]
  },
  {
   "cell_type": "code",
   "execution_count": 90,
   "metadata": {},
   "outputs": [],
   "source": [
    "baseline_params = {\n",
    "    'maxIter': 100,\n",
    "    'tol': 1e-6,\n",
    "    'aggregationDepth': 2,\n",
    "\n",
    "    'standardization': True,\n",
    "    'fitIntercept': True,\n",
    "    'threshold': 0.5,\n",
    "\n",
    "    'regParam': 0.001,\n",
    "    'elasticNetParam': 0.1,\n",
    "}\n",
    "\n",
    "baseline_log_reg_model = LogisticRegression(**{**static_params, **baseline_params}).fit(train_df)"
   ]
  },
  {
   "cell_type": "code",
   "execution_count": 91,
   "metadata": {},
   "outputs": [
    {
     "data": {
      "text/plain": [
       "(0.527406253894106, 0.7029238695402533)"
      ]
     },
     "execution_count": 91,
     "metadata": {},
     "output_type": "execute_result"
    }
   ],
   "source": [
    "log_loss = logloss(baseline_log_reg_model, val_df, probabilities_col='probabilities')\n",
    "roc_auc = rocauc(baseline_log_reg_model, val_df, probabilities_col='probabilities')\n",
    "log_loss, roc_auc"
   ]
  },
  {
   "cell_type": "markdown",
   "metadata": {},
   "source": [
    "### Tune the training regime parameters (maxIter, tol, aggregationDepth)"
   ]
  },
  {
   "cell_type": "code",
   "execution_count": 92,
   "metadata": {},
   "outputs": [
    {
     "name": "stdout",
     "output_type": "stream",
     "text": [
      "SPACE:                                                \n",
      "{'threshold': 0.5, 'labelCol': 'label', 'predictionCol': 'prediction', 'standardization': True, 'elasticNetParam': 0.1, 'rawPredictionCol': 'rawPrediction', 'featuresCol': 'features', 'aggregationDepth': 3, 'tol': 0.0001, 'fitIntercept': True, 'maxIter': 100, 'probabilityCol': 'probabilities', 'regParam': 0.001, 'family': 'binomial'}\n",
      "LOG-LOSS: 0.52740317429959, ROC-AUC: 0.7029338903756053\n",
      "SPACE:                                                                        \n",
      "{'threshold': 0.5, 'labelCol': 'label', 'predictionCol': 'prediction', 'standardization': True, 'elasticNetParam': 0.1, 'rawPredictionCol': 'rawPrediction', 'featuresCol': 'features', 'aggregationDepth': 2, 'tol': 1e-05, 'fitIntercept': True, 'maxIter': 50, 'probabilityCol': 'probabilities', 'regParam': 0.001, 'family': 'binomial'}\n",
      "LOG-LOSS: 0.5274008770364704, ROC-AUC: 0.7029273379344602                     \n",
      "SPACE:                                                                          \n",
      "{'threshold': 0.5, 'labelCol': 'label', 'predictionCol': 'prediction', 'standardization': True, 'elasticNetParam': 0.1, 'rawPredictionCol': 'rawPrediction', 'featuresCol': 'features', 'aggregationDepth': 2, 'tol': 0.0001, 'fitIntercept': True, 'maxIter': 50, 'probabilityCol': 'probabilities', 'regParam': 0.001, 'family': 'binomial'}\n",
      "LOG-LOSS: 0.52740317429959, ROC-AUC: 0.702933890375603                          \n",
      "SPACE:                                                                          \n",
      "{'threshold': 0.5, 'labelCol': 'label', 'predictionCol': 'prediction', 'standardization': True, 'elasticNetParam': 0.1, 'rawPredictionCol': 'rawPrediction', 'featuresCol': 'features', 'aggregationDepth': 2, 'tol': 1e-07, 'fitIntercept': True, 'maxIter': 50, 'probabilityCol': 'probabilities', 'regParam': 0.001, 'family': 'binomial'}\n",
      "LOG-LOSS: 0.5274008770364704, ROC-AUC: 0.7029273379344572                       \n",
      "SPACE:                                                                          \n",
      "{'threshold': 0.5, 'labelCol': 'label', 'predictionCol': 'prediction', 'standardization': True, 'elasticNetParam': 0.1, 'rawPredictionCol': 'rawPrediction', 'featuresCol': 'features', 'aggregationDepth': 3, 'tol': 0.0001, 'fitIntercept': True, 'maxIter': 100, 'probabilityCol': 'probabilities', 'regParam': 0.001, 'family': 'binomial'}\n",
      "LOG-LOSS: 0.52740317429959, ROC-AUC: 0.7029338903756059                         \n",
      "SPACE:                                                                          \n",
      "{'threshold': 0.5, 'labelCol': 'label', 'predictionCol': 'prediction', 'standardization': True, 'elasticNetParam': 0.1, 'rawPredictionCol': 'rawPrediction', 'featuresCol': 'features', 'aggregationDepth': 2, 'tol': 1e-05, 'fitIntercept': True, 'maxIter': 50, 'probabilityCol': 'probabilities', 'regParam': 0.001, 'family': 'binomial'}\n",
      "LOG-LOSS: 0.5274008770364704, ROC-AUC: 0.7029273379344573                       \n",
      "SPACE:                                                                          \n",
      "{'threshold': 0.5, 'labelCol': 'label', 'predictionCol': 'prediction', 'standardization': True, 'elasticNetParam': 0.1, 'rawPredictionCol': 'rawPrediction', 'featuresCol': 'features', 'aggregationDepth': 2, 'tol': 1e-07, 'fitIntercept': True, 'maxIter': 100, 'probabilityCol': 'probabilities', 'regParam': 0.001, 'family': 'binomial'}\n",
      "LOG-LOSS: 0.527406253894106, ROC-AUC: 0.7029238695402535                        \n",
      "SPACE:                                                                          \n",
      "{'threshold': 0.5, 'labelCol': 'label', 'predictionCol': 'prediction', 'standardization': True, 'elasticNetParam': 0.1, 'rawPredictionCol': 'rawPrediction', 'featuresCol': 'features', 'aggregationDepth': 3, 'tol': 1e-07, 'fitIntercept': True, 'maxIter': 150, 'probabilityCol': 'probabilities', 'regParam': 0.001, 'family': 'binomial'}\n",
      "LOG-LOSS: 0.5274067686076684, ROC-AUC: 0.70292287592224                         \n",
      "SPACE:                                                                          \n",
      "{'threshold': 0.5, 'labelCol': 'label', 'predictionCol': 'prediction', 'standardization': True, 'elasticNetParam': 0.1, 'rawPredictionCol': 'rawPrediction', 'featuresCol': 'features', 'aggregationDepth': 2, 'tol': 1e-05, 'fitIntercept': True, 'maxIter': 50, 'probabilityCol': 'probabilities', 'regParam': 0.001, 'family': 'binomial'}\n",
      "LOG-LOSS: 0.5274008770364704, ROC-AUC: 0.702927337934458                        \n",
      "SPACE:                                                                          \n",
      "{'threshold': 0.5, 'labelCol': 'label', 'predictionCol': 'prediction', 'standardization': True, 'elasticNetParam': 0.1, 'rawPredictionCol': 'rawPrediction', 'featuresCol': 'features', 'aggregationDepth': 2, 'tol': 1e-07, 'fitIntercept': True, 'maxIter': 150, 'probabilityCol': 'probabilities', 'regParam': 0.001, 'family': 'binomial'}\n",
      "LOG-LOSS: 0.5274067686076684, ROC-AUC: 0.7029228759222411                       \n",
      "SPACE:                                                                           \n",
      "{'threshold': 0.5, 'labelCol': 'label', 'predictionCol': 'prediction', 'standardization': True, 'elasticNetParam': 0.1, 'rawPredictionCol': 'rawPrediction', 'featuresCol': 'features', 'aggregationDepth': 2, 'tol': 1e-07, 'fitIntercept': True, 'maxIter': 50, 'probabilityCol': 'probabilities', 'regParam': 0.001, 'family': 'binomial'}\n",
      "LOG-LOSS: 0.5274008770364704, ROC-AUC: 0.7029273379344565                        \n",
      "SPACE:                                                                           \n",
      "{'threshold': 0.5, 'labelCol': 'label', 'predictionCol': 'prediction', 'standardization': True, 'elasticNetParam': 0.1, 'rawPredictionCol': 'rawPrediction', 'featuresCol': 'features', 'aggregationDepth': 2, 'tol': 0.0001, 'fitIntercept': True, 'maxIter': 50, 'probabilityCol': 'probabilities', 'regParam': 0.001, 'family': 'binomial'}\n",
      "LOG-LOSS: 0.52740317429959, ROC-AUC: 0.7029338903756077                          \n",
      "SPACE:                                                                           \n",
      "{'threshold': 0.5, 'labelCol': 'label', 'predictionCol': 'prediction', 'standardization': True, 'elasticNetParam': 0.1, 'rawPredictionCol': 'rawPrediction', 'featuresCol': 'features', 'aggregationDepth': 2, 'tol': 1e-05, 'fitIntercept': True, 'maxIter': 150, 'probabilityCol': 'probabilities', 'regParam': 0.001, 'family': 'binomial'}\n",
      "LOG-LOSS: 0.5274066977935213, ROC-AUC: 0.7029227724203659                        \n",
      "SPACE:                                                                           \n",
      "{'threshold': 0.5, 'labelCol': 'label', 'predictionCol': 'prediction', 'standardization': True, 'elasticNetParam': 0.1, 'rawPredictionCol': 'rawPrediction', 'featuresCol': 'features', 'aggregationDepth': 2, 'tol': 1e-07, 'fitIntercept': True, 'maxIter': 150, 'probabilityCol': 'probabilities', 'regParam': 0.001, 'family': 'binomial'}\n",
      "LOG-LOSS: 0.5274067686076684, ROC-AUC: 0.7029228759222403                        \n",
      "SPACE:                                                                           \n",
      "{'threshold': 0.5, 'labelCol': 'label', 'predictionCol': 'prediction', 'standardization': True, 'elasticNetParam': 0.1, 'rawPredictionCol': 'rawPrediction', 'featuresCol': 'features', 'aggregationDepth': 2, 'tol': 0.0001, 'fitIntercept': True, 'maxIter': 100, 'probabilityCol': 'probabilities', 'regParam': 0.001, 'family': 'binomial'}\n",
      "LOG-LOSS: 0.52740317429959, ROC-AUC: 0.702933890375606                           \n",
      "SPACE:                                                                           \n",
      "{'threshold': 0.5, 'labelCol': 'label', 'predictionCol': 'prediction', 'standardization': True, 'elasticNetParam': 0.1, 'rawPredictionCol': 'rawPrediction', 'featuresCol': 'features', 'aggregationDepth': 2, 'tol': 0.0001, 'fitIntercept': True, 'maxIter': 150, 'probabilityCol': 'probabilities', 'regParam': 0.001, 'family': 'binomial'}\n",
      "LOG-LOSS: 0.52740317429959, ROC-AUC: 0.7029338903756075                          \n",
      "SPACE:                                                                           \n",
      "{'threshold': 0.5, 'labelCol': 'label', 'predictionCol': 'prediction', 'standardization': True, 'elasticNetParam': 0.1, 'rawPredictionCol': 'rawPrediction', 'featuresCol': 'features', 'aggregationDepth': 3, 'tol': 1e-05, 'fitIntercept': True, 'maxIter': 150, 'probabilityCol': 'probabilities', 'regParam': 0.001, 'family': 'binomial'}\n"
     ]
    },
    {
     "name": "stdout",
     "output_type": "stream",
     "text": [
      "LOG-LOSS: 0.5274066977935213, ROC-AUC: 0.7029227724203663                        \n",
      "SPACE:                                                                           \n",
      "{'threshold': 0.5, 'labelCol': 'label', 'predictionCol': 'prediction', 'standardization': True, 'elasticNetParam': 0.1, 'rawPredictionCol': 'rawPrediction', 'featuresCol': 'features', 'aggregationDepth': 3, 'tol': 1e-05, 'fitIntercept': True, 'maxIter': 150, 'probabilityCol': 'probabilities', 'regParam': 0.001, 'family': 'binomial'}\n",
      "LOG-LOSS: 0.5274066977935213, ROC-AUC: 0.7029227724203682                        \n",
      "SPACE:                                                                           \n",
      "{'threshold': 0.5, 'labelCol': 'label', 'predictionCol': 'prediction', 'standardization': True, 'elasticNetParam': 0.1, 'rawPredictionCol': 'rawPrediction', 'featuresCol': 'features', 'aggregationDepth': 3, 'tol': 1e-06, 'fitIntercept': True, 'maxIter': 50, 'probabilityCol': 'probabilities', 'regParam': 0.001, 'family': 'binomial'}\n",
      "LOG-LOSS: 0.5274008770364704, ROC-AUC: 0.7029273379344607                        \n",
      "SPACE:                                                                           \n",
      "{'threshold': 0.5, 'labelCol': 'label', 'predictionCol': 'prediction', 'standardization': True, 'elasticNetParam': 0.1, 'rawPredictionCol': 'rawPrediction', 'featuresCol': 'features', 'aggregationDepth': 2, 'tol': 0.0001, 'fitIntercept': True, 'maxIter': 100, 'probabilityCol': 'probabilities', 'regParam': 0.001, 'family': 'binomial'}\n",
      "LOG-LOSS: 0.52740317429959, ROC-AUC: 0.7029338903756068                          \n",
      "100%|██████████| 20/20 [18:12<00:00, 54.65s/trial, best loss: 0.5274008770364704]\n",
      "CPU times: user 3.06 s, sys: 1.01 s, total: 4.07 s\n",
      "Wall time: 18min 13s\n"
     ]
    },
    {
     "data": {
      "text/plain": [
       "{'aggregationDepth': 0, 'maxIter': 0, 'tol': 1}"
      ]
     },
     "execution_count": 92,
     "metadata": {},
     "output_type": "execute_result"
    }
   ],
   "source": [
    "%%time\n",
    "\n",
    "max_iter_choice = [50, 100, 150]\n",
    "tol_choice = [1e-4, 1e-5, 1e-6, 1e-7]\n",
    "aggregation_depth_choice = [2, 3]\n",
    "\n",
    "space = {\n",
    "    # Optimize\n",
    "    'maxIter': hp.choice('maxIter', max_iter_choice),\n",
    "    'tol': hp.choice('tol', tol_choice),\n",
    "    'aggregationDepth': hp.choice('aggregationDepth', aggregation_depth_choice),\n",
    "    \n",
    "    # Fixed\n",
    "    'standardization': baseline_params['standardization'],\n",
    "    'fitIntercept': baseline_params['fitIntercept'],\n",
    "    'threshold': baseline_params['threshold'],\n",
    "\n",
    "    'regParam': baseline_params['regParam'],\n",
    "    'elasticNetParam': baseline_params['elasticNetParam'],\n",
    "    \n",
    "    **static_params\n",
    "}\n",
    "\n",
    "trials = Trials()\n",
    "best = fmin(fn=log_reg_objective,\n",
    "            space=space,\n",
    "            algo=tpe.suggest,\n",
    "            max_evals=20,\n",
    "            trials=trials)\n",
    "\n",
    "best"
   ]
  },
  {
   "cell_type": "code",
   "execution_count": 93,
   "metadata": {},
   "outputs": [],
   "source": [
    "max_iter = max_iter_choice[best['maxIter']]\n",
    "tol = tol_choice[best['tol']]\n",
    "aggregation_depth = aggregation_depth_choice[best['aggregationDepth']]"
   ]
  },
  {
   "cell_type": "markdown",
   "metadata": {},
   "source": [
    "### Tune the internals of the model (standardization, fitIntercept, threshold)"
   ]
  },
  {
   "cell_type": "code",
   "execution_count": 94,
   "metadata": {},
   "outputs": [
    {
     "name": "stdout",
     "output_type": "stream",
     "text": [
      "SPACE:                                                \n",
      "{'threshold': 0.5, 'labelCol': 'label', 'predictionCol': 'prediction', 'standardization': False, 'elasticNetParam': 0.1, 'rawPredictionCol': 'rawPrediction', 'featuresCol': 'features', 'aggregationDepth': 2, 'tol': 1e-05, 'fitIntercept': True, 'maxIter': 50, 'probabilityCol': 'probabilities', 'regParam': 0.001, 'family': 'binomial'}\n",
      "LOG-LOSS: 0.532695208180498, ROC-AUC: 0.6985678818649214\n",
      "SPACE:                                                                         \n",
      "{'threshold': 0.6, 'labelCol': 'label', 'predictionCol': 'prediction', 'standardization': True, 'elasticNetParam': 0.1, 'rawPredictionCol': 'rawPrediction', 'featuresCol': 'features', 'aggregationDepth': 2, 'tol': 1e-05, 'fitIntercept': True, 'maxIter': 50, 'probabilityCol': 'probabilities', 'regParam': 0.001, 'family': 'binomial'}\n",
      "LOG-LOSS: 0.5274008770364704, ROC-AUC: 0.702927337934458                       \n",
      "SPACE:                                                                          \n",
      "{'threshold': 0.3, 'labelCol': 'label', 'predictionCol': 'prediction', 'standardization': False, 'elasticNetParam': 0.1, 'rawPredictionCol': 'rawPrediction', 'featuresCol': 'features', 'aggregationDepth': 2, 'tol': 1e-05, 'fitIntercept': False, 'maxIter': 50, 'probabilityCol': 'probabilities', 'regParam': 0.001, 'family': 'binomial'}\n",
      "LOG-LOSS: 0.5376835993242981, ROC-AUC: 0.6861432253255983                       \n",
      "SPACE:                                                                          \n",
      "{'threshold': 0.5, 'labelCol': 'label', 'predictionCol': 'prediction', 'standardization': True, 'elasticNetParam': 0.1, 'rawPredictionCol': 'rawPrediction', 'featuresCol': 'features', 'aggregationDepth': 2, 'tol': 1e-05, 'fitIntercept': False, 'maxIter': 50, 'probabilityCol': 'probabilities', 'regParam': 0.001, 'family': 'binomial'}\n",
      "LOG-LOSS: 0.5274748891683849, ROC-AUC: 0.7025790546625632                       \n",
      "SPACE:                                                                          \n",
      "{'threshold': 0.4, 'labelCol': 'label', 'predictionCol': 'prediction', 'standardization': True, 'elasticNetParam': 0.1, 'rawPredictionCol': 'rawPrediction', 'featuresCol': 'features', 'aggregationDepth': 2, 'tol': 1e-05, 'fitIntercept': True, 'maxIter': 50, 'probabilityCol': 'probabilities', 'regParam': 0.001, 'family': 'binomial'}\n",
      "LOG-LOSS: 0.5274008770364704, ROC-AUC: 0.7029273379344587                       \n",
      "SPACE:                                                                          \n",
      "{'threshold': 0.6, 'labelCol': 'label', 'predictionCol': 'prediction', 'standardization': True, 'elasticNetParam': 0.1, 'rawPredictionCol': 'rawPrediction', 'featuresCol': 'features', 'aggregationDepth': 2, 'tol': 1e-05, 'fitIntercept': True, 'maxIter': 50, 'probabilityCol': 'probabilities', 'regParam': 0.001, 'family': 'binomial'}\n",
      "LOG-LOSS: 0.5274008770364704, ROC-AUC: 0.7029273379344609                       \n",
      "SPACE:                                                                          \n",
      "{'threshold': 0.3, 'labelCol': 'label', 'predictionCol': 'prediction', 'standardization': True, 'elasticNetParam': 0.1, 'rawPredictionCol': 'rawPrediction', 'featuresCol': 'features', 'aggregationDepth': 2, 'tol': 1e-05, 'fitIntercept': True, 'maxIter': 50, 'probabilityCol': 'probabilities', 'regParam': 0.001, 'family': 'binomial'}\n",
      "LOG-LOSS: 0.5274008770364704, ROC-AUC: 0.7029273379344607                       \n",
      "SPACE:                                                                          \n",
      "{'threshold': 0.5, 'labelCol': 'label', 'predictionCol': 'prediction', 'standardization': False, 'elasticNetParam': 0.1, 'rawPredictionCol': 'rawPrediction', 'featuresCol': 'features', 'aggregationDepth': 2, 'tol': 1e-05, 'fitIntercept': True, 'maxIter': 50, 'probabilityCol': 'probabilities', 'regParam': 0.001, 'family': 'binomial'}\n",
      "LOG-LOSS: 0.532695208180498, ROC-AUC: 0.6985678818649229                        \n",
      "SPACE:                                                                          \n",
      "{'threshold': 0.5, 'labelCol': 'label', 'predictionCol': 'prediction', 'standardization': False, 'elasticNetParam': 0.1, 'rawPredictionCol': 'rawPrediction', 'featuresCol': 'features', 'aggregationDepth': 2, 'tol': 1e-05, 'fitIntercept': True, 'maxIter': 50, 'probabilityCol': 'probabilities', 'regParam': 0.001, 'family': 'binomial'}\n",
      "LOG-LOSS: 0.532695208180498, ROC-AUC: 0.6985678818649217                        \n",
      "SPACE:                                                                          \n",
      "{'threshold': 0.3, 'labelCol': 'label', 'predictionCol': 'prediction', 'standardization': True, 'elasticNetParam': 0.1, 'rawPredictionCol': 'rawPrediction', 'featuresCol': 'features', 'aggregationDepth': 2, 'tol': 1e-05, 'fitIntercept': False, 'maxIter': 50, 'probabilityCol': 'probabilities', 'regParam': 0.001, 'family': 'binomial'}\n",
      "LOG-LOSS: 0.5274748891683849, ROC-AUC: 0.7025790546625585                       \n",
      "SPACE:                                                                           \n",
      "{'threshold': 0.5, 'labelCol': 'label', 'predictionCol': 'prediction', 'standardization': True, 'elasticNetParam': 0.1, 'rawPredictionCol': 'rawPrediction', 'featuresCol': 'features', 'aggregationDepth': 2, 'tol': 1e-05, 'fitIntercept': False, 'maxIter': 50, 'probabilityCol': 'probabilities', 'regParam': 0.001, 'family': 'binomial'}\n",
      "LOG-LOSS: 0.5274748891683849, ROC-AUC: 0.7025790546625577                        \n",
      "SPACE:                                                                           \n",
      "{'threshold': 0.7, 'labelCol': 'label', 'predictionCol': 'prediction', 'standardization': True, 'elasticNetParam': 0.1, 'rawPredictionCol': 'rawPrediction', 'featuresCol': 'features', 'aggregationDepth': 2, 'tol': 1e-05, 'fitIntercept': False, 'maxIter': 50, 'probabilityCol': 'probabilities', 'regParam': 0.001, 'family': 'binomial'}\n",
      "LOG-LOSS: 0.5274748891683849, ROC-AUC: 0.702579054662559                         \n",
      "SPACE:                                                                           \n",
      "{'threshold': 0.4, 'labelCol': 'label', 'predictionCol': 'prediction', 'standardization': True, 'elasticNetParam': 0.1, 'rawPredictionCol': 'rawPrediction', 'featuresCol': 'features', 'aggregationDepth': 2, 'tol': 1e-05, 'fitIntercept': False, 'maxIter': 50, 'probabilityCol': 'probabilities', 'regParam': 0.001, 'family': 'binomial'}\n",
      "LOG-LOSS: 0.5274748891683849, ROC-AUC: 0.7025790546625604                        \n",
      "SPACE:                                                                           \n",
      "{'threshold': 0.5, 'labelCol': 'label', 'predictionCol': 'prediction', 'standardization': True, 'elasticNetParam': 0.1, 'rawPredictionCol': 'rawPrediction', 'featuresCol': 'features', 'aggregationDepth': 2, 'tol': 1e-05, 'fitIntercept': True, 'maxIter': 50, 'probabilityCol': 'probabilities', 'regParam': 0.001, 'family': 'binomial'}\n",
      "LOG-LOSS: 0.5274008770364704, ROC-AUC: 0.7029273379344584                        \n",
      "SPACE:                                                                           \n",
      "{'threshold': 0.6, 'labelCol': 'label', 'predictionCol': 'prediction', 'standardization': False, 'elasticNetParam': 0.1, 'rawPredictionCol': 'rawPrediction', 'featuresCol': 'features', 'aggregationDepth': 2, 'tol': 1e-05, 'fitIntercept': False, 'maxIter': 50, 'probabilityCol': 'probabilities', 'regParam': 0.001, 'family': 'binomial'}\n",
      "LOG-LOSS: 0.5376835993242981, ROC-AUC: 0.6861432253255981                        \n",
      "SPACE:                                                                           \n",
      "{'threshold': 0.5, 'labelCol': 'label', 'predictionCol': 'prediction', 'standardization': True, 'elasticNetParam': 0.1, 'rawPredictionCol': 'rawPrediction', 'featuresCol': 'features', 'aggregationDepth': 2, 'tol': 1e-05, 'fitIntercept': False, 'maxIter': 50, 'probabilityCol': 'probabilities', 'regParam': 0.001, 'family': 'binomial'}\n",
      "LOG-LOSS: 0.5274748891683849, ROC-AUC: 0.7025790546625603                        \n",
      "SPACE:                                                                           \n",
      "{'threshold': 0.6, 'labelCol': 'label', 'predictionCol': 'prediction', 'standardization': True, 'elasticNetParam': 0.1, 'rawPredictionCol': 'rawPrediction', 'featuresCol': 'features', 'aggregationDepth': 2, 'tol': 1e-05, 'fitIntercept': False, 'maxIter': 50, 'probabilityCol': 'probabilities', 'regParam': 0.001, 'family': 'binomial'}\n"
     ]
    },
    {
     "name": "stdout",
     "output_type": "stream",
     "text": [
      "LOG-LOSS: 0.5274748891683849, ROC-AUC: 0.7025790546625578                        \n",
      "SPACE:                                                                           \n",
      "{'threshold': 0.4, 'labelCol': 'label', 'predictionCol': 'prediction', 'standardization': False, 'elasticNetParam': 0.1, 'rawPredictionCol': 'rawPrediction', 'featuresCol': 'features', 'aggregationDepth': 2, 'tol': 1e-05, 'fitIntercept': True, 'maxIter': 50, 'probabilityCol': 'probabilities', 'regParam': 0.001, 'family': 'binomial'}\n",
      "LOG-LOSS: 0.532695208180498, ROC-AUC: 0.6985678818649215                         \n",
      "SPACE:                                                                           \n",
      "{'threshold': 0.6, 'labelCol': 'label', 'predictionCol': 'prediction', 'standardization': True, 'elasticNetParam': 0.1, 'rawPredictionCol': 'rawPrediction', 'featuresCol': 'features', 'aggregationDepth': 2, 'tol': 1e-05, 'fitIntercept': False, 'maxIter': 50, 'probabilityCol': 'probabilities', 'regParam': 0.001, 'family': 'binomial'}\n",
      "LOG-LOSS: 0.5274748891683849, ROC-AUC: 0.7025790546625585                        \n",
      "SPACE:                                                                           \n",
      "{'threshold': 0.4, 'labelCol': 'label', 'predictionCol': 'prediction', 'standardization': True, 'elasticNetParam': 0.1, 'rawPredictionCol': 'rawPrediction', 'featuresCol': 'features', 'aggregationDepth': 2, 'tol': 1e-05, 'fitIntercept': True, 'maxIter': 50, 'probabilityCol': 'probabilities', 'regParam': 0.001, 'family': 'binomial'}\n",
      "LOG-LOSS: 0.5274008770364704, ROC-AUC: 0.7029273379344572                        \n",
      "100%|██████████| 20/20 [12:04<00:00, 36.24s/trial, best loss: 0.5274008770364704]\n",
      "CPU times: user 2.86 s, sys: 1.02 s, total: 3.88 s\n",
      "Wall time: 12min 4s\n"
     ]
    },
    {
     "data": {
      "text/plain": [
       "{'fitIntercept': 0, 'standardization': 0, 'threshold': 3}"
      ]
     },
     "execution_count": 94,
     "metadata": {},
     "output_type": "execute_result"
    }
   ],
   "source": [
    "%%time\n",
    "\n",
    "standardization_choice = [True, False]\n",
    "fit_intercept_choice = [True, False]\n",
    "threshold_choice = [0.3, 0.4, 0.5, 0.6, 0.7]\n",
    "\n",
    "space = {\n",
    "    # Optimize\n",
    "    'standardization': hp.choice('standardization', standardization_choice),\n",
    "    'fitIntercept': hp.choice('fitIntercept', fit_intercept_choice),\n",
    "    'threshold': hp.choice('threshold', threshold_choice),\n",
    "    \n",
    "    # Fixed\n",
    "    'maxIter': max_iter,\n",
    "    'tol': tol,\n",
    "    'aggregationDepth': aggregation_depth,\n",
    "\n",
    "    'regParam': baseline_params['regParam'],\n",
    "    'elasticNetParam': baseline_params['elasticNetParam'],\n",
    "    \n",
    "    **static_params\n",
    "}\n",
    "\n",
    "trials = Trials()\n",
    "best = fmin(fn=log_reg_objective,\n",
    "            space=space,\n",
    "            algo=tpe.suggest,\n",
    "            max_evals=20,\n",
    "            trials=trials)\n",
    "\n",
    "best"
   ]
  },
  {
   "cell_type": "code",
   "execution_count": 95,
   "metadata": {},
   "outputs": [],
   "source": [
    "standardization = standardization_choice[best['standardization']]\n",
    "fit_intercept = fit_intercept_choice[best['fitIntercept']]\n",
    "threshold = threshold_choice[best['threshold']]"
   ]
  },
  {
   "cell_type": "markdown",
   "metadata": {},
   "source": [
    "### Tune the regularization params (regParam, elasticNetParam)"
   ]
  },
  {
   "cell_type": "code",
   "execution_count": 113,
   "metadata": {},
   "outputs": [
    {
     "name": "stdout",
     "output_type": "stream",
     "text": [
      "SPACE:                                                \n",
      "{'threshold': 0.6, 'labelCol': 'label', 'predictionCol': 'prediction', 'standardization': True, 'elasticNetParam': 0.001, 'rawPredictionCol': 'rawPrediction', 'featuresCol': 'features', 'aggregationDepth': 2, 'tol': 1e-05, 'fitIntercept': True, 'maxIter': 50, 'probabilityCol': 'probabilities', 'regParam': 0.01, 'family': 'binomial'}\n",
      "LOG-LOSS: 0.5283168620914481, ROC-AUC: 0.7013060028294131\n",
      "SPACE:                                                                          \n",
      "{'threshold': 0.6, 'labelCol': 'label', 'predictionCol': 'prediction', 'standardization': True, 'elasticNetParam': 0.001, 'rawPredictionCol': 'rawPrediction', 'featuresCol': 'features', 'aggregationDepth': 2, 'tol': 1e-05, 'fitIntercept': True, 'maxIter': 50, 'probabilityCol': 'probabilities', 'regParam': 0.1, 'family': 'binomial'}\n",
      "LOG-LOSS: 0.5340970699983068, ROC-AUC: 0.6994847445821358                       \n",
      "SPACE:                                                                          \n",
      "{'threshold': 0.6, 'labelCol': 'label', 'predictionCol': 'prediction', 'standardization': True, 'elasticNetParam': 0.1, 'rawPredictionCol': 'rawPrediction', 'featuresCol': 'features', 'aggregationDepth': 2, 'tol': 1e-05, 'fitIntercept': True, 'maxIter': 50, 'probabilityCol': 'probabilities', 'regParam': 0.01, 'family': 'binomial'}\n",
      "LOG-LOSS: 0.528851857417497, ROC-AUC: 0.702615919404607                         \n",
      "SPACE:                                                                          \n",
      "{'threshold': 0.6, 'labelCol': 'label', 'predictionCol': 'prediction', 'standardization': True, 'elasticNetParam': 0.01, 'rawPredictionCol': 'rawPrediction', 'featuresCol': 'features', 'aggregationDepth': 2, 'tol': 1e-05, 'fitIntercept': True, 'maxIter': 50, 'probabilityCol': 'probabilities', 'regParam': 0.1, 'family': 'binomial'}\n",
      "LOG-LOSS: 0.535580895148847, ROC-AUC: 0.7002052118718162                        \n",
      "SPACE:                                                                          \n",
      "{'threshold': 0.6, 'labelCol': 'label', 'predictionCol': 'prediction', 'standardization': True, 'elasticNetParam': 0.1, 'rawPredictionCol': 'rawPrediction', 'featuresCol': 'features', 'aggregationDepth': 2, 'tol': 1e-05, 'fitIntercept': True, 'maxIter': 50, 'probabilityCol': 'probabilities', 'regParam': 0.001, 'family': 'binomial'}\n",
      "LOG-LOSS: 0.5274008770364704, ROC-AUC: 0.7029273379344609                       \n",
      "SPACE:                                                                          \n",
      "{'threshold': 0.6, 'labelCol': 'label', 'predictionCol': 'prediction', 'standardization': True, 'elasticNetParam': 0.0001, 'rawPredictionCol': 'rawPrediction', 'featuresCol': 'features', 'aggregationDepth': 2, 'tol': 1e-05, 'fitIntercept': True, 'maxIter': 50, 'probabilityCol': 'probabilities', 'regParam': 0.0, 'family': 'binomial'}\n",
      "LOG-LOSS: 0.5309279723193953, ROC-AUC: 0.7025619910652299                       \n",
      "SPACE:                                                                          \n",
      "{'threshold': 0.6, 'labelCol': 'label', 'predictionCol': 'prediction', 'standardization': True, 'elasticNetParam': 0.01, 'rawPredictionCol': 'rawPrediction', 'featuresCol': 'features', 'aggregationDepth': 2, 'tol': 1e-05, 'fitIntercept': True, 'maxIter': 50, 'probabilityCol': 'probabilities', 'regParam': 0.0, 'family': 'binomial'}\n",
      "LOG-LOSS: 0.5309279723193953, ROC-AUC: 0.7025619910652314                       \n",
      "SPACE:                                                                          \n",
      "{'threshold': 0.6, 'labelCol': 'label', 'predictionCol': 'prediction', 'standardization': True, 'elasticNetParam': 0.1, 'rawPredictionCol': 'rawPrediction', 'featuresCol': 'features', 'aggregationDepth': 2, 'tol': 1e-05, 'fitIntercept': True, 'maxIter': 50, 'probabilityCol': 'probabilities', 'regParam': 0.01, 'family': 'binomial'}\n",
      "LOG-LOSS: 0.528851857417497, ROC-AUC: 0.7026159194046115                        \n",
      "SPACE:                                                                          \n",
      "{'threshold': 0.6, 'labelCol': 'label', 'predictionCol': 'prediction', 'standardization': True, 'elasticNetParam': 0.0001, 'rawPredictionCol': 'rawPrediction', 'featuresCol': 'features', 'aggregationDepth': 2, 'tol': 1e-05, 'fitIntercept': True, 'maxIter': 50, 'probabilityCol': 'probabilities', 'regParam': 0.001, 'family': 'binomial'}\n",
      "LOG-LOSS: 0.5284816418946222, ROC-AUC: 0.7024053928041525                       \n",
      "SPACE:                                                                          \n",
      "{'threshold': 0.6, 'labelCol': 'label', 'predictionCol': 'prediction', 'standardization': True, 'elasticNetParam': 0.001, 'rawPredictionCol': 'rawPrediction', 'featuresCol': 'features', 'aggregationDepth': 2, 'tol': 1e-05, 'fitIntercept': True, 'maxIter': 50, 'probabilityCol': 'probabilities', 'regParam': 0.0, 'family': 'binomial'}\n",
      "LOG-LOSS: 0.5309279723193953, ROC-AUC: 0.702561991065227                        \n",
      "SPACE:                                                                           \n",
      "{'threshold': 0.6, 'labelCol': 'label', 'predictionCol': 'prediction', 'standardization': True, 'elasticNetParam': 0.001, 'rawPredictionCol': 'rawPrediction', 'featuresCol': 'features', 'aggregationDepth': 2, 'tol': 1e-05, 'fitIntercept': True, 'maxIter': 50, 'probabilityCol': 'probabilities', 'regParam': 0.1, 'family': 'binomial'}\n",
      "LOG-LOSS: 0.5340970699983068, ROC-AUC: 0.6994847445821345                        \n",
      "SPACE:                                                                           \n",
      "{'threshold': 0.6, 'labelCol': 'label', 'predictionCol': 'prediction', 'standardization': True, 'elasticNetParam': 0.01, 'rawPredictionCol': 'rawPrediction', 'featuresCol': 'features', 'aggregationDepth': 2, 'tol': 1e-05, 'fitIntercept': True, 'maxIter': 50, 'probabilityCol': 'probabilities', 'regParam': 0.01, 'family': 'binomial'}\n",
      "LOG-LOSS: 0.5279673243466524, ROC-AUC: 0.7017953525155722                        \n",
      "SPACE:                                                                           \n",
      "{'threshold': 0.6, 'labelCol': 'label', 'predictionCol': 'prediction', 'standardization': True, 'elasticNetParam': 0.01, 'rawPredictionCol': 'rawPrediction', 'featuresCol': 'features', 'aggregationDepth': 2, 'tol': 1e-05, 'fitIntercept': True, 'maxIter': 50, 'probabilityCol': 'probabilities', 'regParam': 0.0, 'family': 'binomial'}\n",
      "LOG-LOSS: 0.5309279723193953, ROC-AUC: 0.7025619910652288                        \n",
      "SPACE:                                                                           \n",
      "{'threshold': 0.6, 'labelCol': 'label', 'predictionCol': 'prediction', 'standardization': True, 'elasticNetParam': 0.1, 'rawPredictionCol': 'rawPrediction', 'featuresCol': 'features', 'aggregationDepth': 2, 'tol': 1e-05, 'fitIntercept': True, 'maxIter': 50, 'probabilityCol': 'probabilities', 'regParam': 0.1, 'family': 'binomial'}\n",
      "LOG-LOSS: 0.5474239250437446, ROC-AUC: 0.688493441650438                         \n",
      "SPACE:                                                                           \n",
      "{'threshold': 0.6, 'labelCol': 'label', 'predictionCol': 'prediction', 'standardization': True, 'elasticNetParam': 0.0, 'rawPredictionCol': 'rawPrediction', 'featuresCol': 'features', 'aggregationDepth': 2, 'tol': 1e-05, 'fitIntercept': True, 'maxIter': 50, 'probabilityCol': 'probabilities', 'regParam': 0.1, 'family': 'binomial'}\n",
      "LOG-LOSS: 0.5340586731296344, ROC-AUC: 0.6990298914533086                        \n",
      "SPACE:                                                                           \n",
      "{'threshold': 0.6, 'labelCol': 'label', 'predictionCol': 'prediction', 'standardization': True, 'elasticNetParam': 0.001, 'rawPredictionCol': 'rawPrediction', 'featuresCol': 'features', 'aggregationDepth': 2, 'tol': 1e-05, 'fitIntercept': True, 'maxIter': 50, 'probabilityCol': 'probabilities', 'regParam': 0.0, 'family': 'binomial'}\n",
      "LOG-LOSS: 0.5309279723193953, ROC-AUC: 0.7025619910652317                        \n",
      "SPACE:                                                                           \n",
      "{'threshold': 0.6, 'labelCol': 'label', 'predictionCol': 'prediction', 'standardization': True, 'elasticNetParam': 0.001, 'rawPredictionCol': 'rawPrediction', 'featuresCol': 'features', 'aggregationDepth': 2, 'tol': 1e-05, 'fitIntercept': True, 'maxIter': 50, 'probabilityCol': 'probabilities', 'regParam': 0.001, 'family': 'binomial'}\n"
     ]
    },
    {
     "name": "stdout",
     "output_type": "stream",
     "text": [
      "LOG-LOSS: 0.5284330975562895, ROC-AUC: 0.7024076594179998                        \n",
      "SPACE:                                                                           \n",
      "{'threshold': 0.6, 'labelCol': 'label', 'predictionCol': 'prediction', 'standardization': True, 'elasticNetParam': 0.01, 'rawPredictionCol': 'rawPrediction', 'featuresCol': 'features', 'aggregationDepth': 2, 'tol': 1e-05, 'fitIntercept': True, 'maxIter': 50, 'probabilityCol': 'probabilities', 'regParam': 0.1, 'family': 'binomial'}\n",
      "LOG-LOSS: 0.535580895148847, ROC-AUC: 0.7002052118718166                         \n",
      "SPACE:                                                                           \n",
      "{'threshold': 0.6, 'labelCol': 'label', 'predictionCol': 'prediction', 'standardization': True, 'elasticNetParam': 0.0, 'rawPredictionCol': 'rawPrediction', 'featuresCol': 'features', 'aggregationDepth': 2, 'tol': 1e-05, 'fitIntercept': True, 'maxIter': 50, 'probabilityCol': 'probabilities', 'regParam': 0.01, 'family': 'binomial'}\n",
      "LOG-LOSS: 0.5283944054695343, ROC-AUC: 0.7012493628181216                        \n",
      "SPACE:                                                                           \n",
      "{'threshold': 0.6, 'labelCol': 'label', 'predictionCol': 'prediction', 'standardization': True, 'elasticNetParam': 0.0, 'rawPredictionCol': 'rawPrediction', 'featuresCol': 'features', 'aggregationDepth': 2, 'tol': 1e-05, 'fitIntercept': True, 'maxIter': 50, 'probabilityCol': 'probabilities', 'regParam': 0.001, 'family': 'binomial'}\n",
      "LOG-LOSS: 0.5284861261757985, ROC-AUC: 0.7023863623622217                        \n",
      "SPACE:                                                                           \n",
      "{'threshold': 0.6, 'labelCol': 'label', 'predictionCol': 'prediction', 'standardization': True, 'elasticNetParam': 0.1, 'rawPredictionCol': 'rawPrediction', 'featuresCol': 'features', 'aggregationDepth': 2, 'tol': 1e-05, 'fitIntercept': True, 'maxIter': 50, 'probabilityCol': 'probabilities', 'regParam': 0.001, 'family': 'binomial'}\n",
      "LOG-LOSS: 0.5274008770364704, ROC-AUC: 0.7029273379344618                        \n",
      "SPACE:                                                                           \n",
      "{'threshold': 0.6, 'labelCol': 'label', 'predictionCol': 'prediction', 'standardization': True, 'elasticNetParam': 0.1, 'rawPredictionCol': 'rawPrediction', 'featuresCol': 'features', 'aggregationDepth': 2, 'tol': 1e-05, 'fitIntercept': True, 'maxIter': 50, 'probabilityCol': 'probabilities', 'regParam': 0.001, 'family': 'binomial'}\n",
      "LOG-LOSS: 0.5274008770364704, ROC-AUC: 0.7029273379344616                        \n",
      "SPACE:                                                                           \n",
      "{'threshold': 0.6, 'labelCol': 'label', 'predictionCol': 'prediction', 'standardization': True, 'elasticNetParam': 0.1, 'rawPredictionCol': 'rawPrediction', 'featuresCol': 'features', 'aggregationDepth': 2, 'tol': 1e-05, 'fitIntercept': True, 'maxIter': 50, 'probabilityCol': 'probabilities', 'regParam': 0.001, 'family': 'binomial'}\n",
      "LOG-LOSS: 0.5274008770364704, ROC-AUC: 0.7029273379344573                        \n",
      "SPACE:                                                                           \n",
      "{'threshold': 0.6, 'labelCol': 'label', 'predictionCol': 'prediction', 'standardization': True, 'elasticNetParam': 0.1, 'rawPredictionCol': 'rawPrediction', 'featuresCol': 'features', 'aggregationDepth': 2, 'tol': 1e-05, 'fitIntercept': True, 'maxIter': 50, 'probabilityCol': 'probabilities', 'regParam': 0.001, 'family': 'binomial'}\n",
      "LOG-LOSS: 0.5274008770364704, ROC-AUC: 0.7029273379344604                        \n",
      "SPACE:                                                                           \n",
      "{'threshold': 0.6, 'labelCol': 'label', 'predictionCol': 'prediction', 'standardization': True, 'elasticNetParam': 0.1, 'rawPredictionCol': 'rawPrediction', 'featuresCol': 'features', 'aggregationDepth': 2, 'tol': 1e-05, 'fitIntercept': True, 'maxIter': 50, 'probabilityCol': 'probabilities', 'regParam': 0.001, 'family': 'binomial'}\n",
      "LOG-LOSS: 0.5274008770364704, ROC-AUC: 0.7029273379344604                        \n",
      "100%|██████████| 25/25 [12:38<00:00, 30.35s/trial, best loss: 0.5274008770364704]\n",
      "CPU times: user 3.71 s, sys: 1.35 s, total: 5.06 s\n",
      "Wall time: 12min 38s\n"
     ]
    },
    {
     "data": {
      "text/plain": [
       "{'elasticNetParam': 1, 'regParam': 3}"
      ]
     },
     "execution_count": 113,
     "metadata": {},
     "output_type": "execute_result"
    }
   ],
   "source": [
    "%%time\n",
    "\n",
    "reg_param_choice = [0.0, 1e-1, 1e-2, 1e-3]\n",
    "elastic_net_param_choice = [0.0, 1e-1, 1e-2, 1e-3, 1e-4]\n",
    "\n",
    "space = {\n",
    "    # Optimize\n",
    "    'regParam': hp.choice('regParam', reg_param_choice),\n",
    "    'elasticNetParam': hp.choice('elasticNetParam', elastic_net_param_choice),\n",
    "    \n",
    "    # Fixed\n",
    "    'maxIter': max_iter,\n",
    "    'tol': tol,\n",
    "    'aggregationDepth': aggregation_depth,\n",
    "\n",
    "    'standardization': standardization,\n",
    "    'fitIntercept': fit_intercept,\n",
    "    'threshold': threshold,\n",
    "    \n",
    "    **static_params\n",
    "}\n",
    "\n",
    "trials = Trials()\n",
    "best = fmin(fn=log_reg_objective,\n",
    "            space=space,\n",
    "            algo=tpe.suggest,\n",
    "            max_evals=25,\n",
    "            trials=trials)\n",
    "\n",
    "best"
   ]
  },
  {
   "cell_type": "code",
   "execution_count": 114,
   "metadata": {},
   "outputs": [],
   "source": [
    "reg_param = reg_param_choice[best['regParam']]\n",
    "elastic_net_param = elastic_net_param_choice[best['elasticNetParam']]"
   ]
  },
  {
   "cell_type": "markdown",
   "metadata": {},
   "source": [
    "### Decide on the optimal parameters"
   ]
  },
  {
   "cell_type": "code",
   "execution_count": 115,
   "metadata": {},
   "outputs": [
    {
     "data": {
      "text/plain": [
       "{'aggregationDepth': 2,\n",
       " 'elasticNetParam': 0.1,\n",
       " 'family': 'binomial',\n",
       " 'featuresCol': 'features',\n",
       " 'fitIntercept': True,\n",
       " 'labelCol': 'label',\n",
       " 'maxIter': 50,\n",
       " 'predictionCol': 'prediction',\n",
       " 'probabilityCol': 'probabilities',\n",
       " 'rawPredictionCol': 'rawPrediction',\n",
       " 'regParam': 0.001,\n",
       " 'standardization': True,\n",
       " 'threshold': 0.6,\n",
       " 'tol': 1e-05}"
      ]
     },
     "execution_count": 115,
     "metadata": {},
     "output_type": "execute_result"
    }
   ],
   "source": [
    "tuned_log_reg_params = {\n",
    "    'maxIter': max_iter,\n",
    "    'tol': tol,\n",
    "    'aggregationDepth': aggregation_depth,\n",
    "\n",
    "    'standardization': standardization,\n",
    "    'fitIntercept': fit_intercept,\n",
    "    'threshold': threshold,\n",
    "    \n",
    "    'regParam': reg_param,\n",
    "    'elasticNetParam': elastic_net_param,\n",
    "\n",
    "    **static_params\n",
    "}\n",
    "tuned_log_reg_params"
   ]
  },
  {
   "cell_type": "code",
   "execution_count": 116,
   "metadata": {},
   "outputs": [],
   "source": [
    "tuned_log_reg_model = LogisticRegression(**tuned_log_reg_params).fit(train_df)"
   ]
  },
  {
   "cell_type": "code",
   "execution_count": 117,
   "metadata": {},
   "outputs": [
    {
     "data": {
      "text/plain": [
       "(0.5274008770364704, 0.7029273379344584)"
      ]
     },
     "execution_count": 117,
     "metadata": {},
     "output_type": "execute_result"
    }
   ],
   "source": [
    "log_loss = logloss(tuned_log_reg_model, val_df, probabilities_col='probabilities')\n",
    "roc_auc = rocauc(tuned_log_reg_model, val_df, probabilities_col='probabilities')\n",
    "log_loss, roc_auc"
   ]
  },
  {
   "cell_type": "markdown",
   "metadata": {},
   "source": [
    "---\n",
    "## Optional [MongoTrials](https://hyperopt.github.io/hyperopt/scaleout/mongodb/)\n",
    "\n",
    "> For parallel search, hyperopt includes a MongoTrials implementation that supports asynchronous updates.\n",
    "\n",
    "**TLDR** Преимущества использования `MongoTrials`:\n",
    "* `MongoTrials` позволяет параллельно запускать несколько вычислений целевой функции\n",
    "* Динамический уровень параллелизма - можно добавлять/удалять воркеров, которые вычисляют целевую функцию\n",
    "* Все результаты сохраняются в БД - история запусков никуда не потеряется\n",
    "\n",
    "*За выполнение данного задания можно получить дополнительно +0.4 к итоговому баллу*"
   ]
  },
  {
   "cell_type": "markdown",
   "metadata": {},
   "source": [
    "### XGBoost Tuning"
   ]
  },
  {
   "cell_type": "code",
   "execution_count": 118,
   "metadata": {},
   "outputs": [],
   "source": [
    "######################################\n",
    "######### YOUR CODE HERE #############\n",
    "######################################"
   ]
  },
  {
   "cell_type": "markdown",
   "metadata": {},
   "source": [
    "# Results\n",
    "\n",
    "Подведем итоги.\n",
    "\n",
    "Обучите модели с найденными (оптимальными) гиперпараметрами и сделайте сравнение на отложенной выборке"
   ]
  },
  {
   "cell_type": "code",
   "execution_count": 119,
   "metadata": {},
   "outputs": [],
   "source": [
    "all_metrics = {}\n",
    "CONTROL_NAME = 'xgb baseline'\n",
    "for model_name, model in [\n",
    "    (CONTROL_NAME, baseline_model),\n",
    "    ('xgb tuned', xgb_tuned),\n",
    "    ('log_reg baseline', baseline_log_reg_model),\n",
    "    ('log_reg tuned', tuned_log_reg_model),\n",
    "]:\n",
    "    model_test_metrics = {\n",
    "        'logloss': logloss(model, test_df, probabilities_col='probabilities'),\n",
    "        'rocauc': rocauc(model, test_df, probabilities_col='probabilities')\n",
    "    }\n",
    "    all_metrics[model_name] = model_test_metrics"
   ]
  },
  {
   "cell_type": "markdown",
   "metadata": {},
   "source": [
    "Итоговая таблица"
   ]
  },
  {
   "cell_type": "code",
   "execution_count": 120,
   "metadata": {},
   "outputs": [
    {
     "data": {
      "text/html": [
       "<div>\n",
       "<style scoped>\n",
       "    .dataframe tbody tr th:only-of-type {\n",
       "        vertical-align: middle;\n",
       "    }\n",
       "\n",
       "    .dataframe tbody tr th {\n",
       "        vertical-align: top;\n",
       "    }\n",
       "\n",
       "    .dataframe thead th {\n",
       "        text-align: right;\n",
       "    }\n",
       "</style>\n",
       "<table border=\"1\" class=\"dataframe\">\n",
       "  <thead>\n",
       "    <tr style=\"text-align: right;\">\n",
       "      <th></th>\n",
       "      <th>log_reg baseline ate %</th>\n",
       "      <th>log_reg tuned ate %</th>\n",
       "      <th>metric</th>\n",
       "      <th>xgb tuned ate %</th>\n",
       "    </tr>\n",
       "  </thead>\n",
       "  <tbody>\n",
       "    <tr>\n",
       "      <th>0</th>\n",
       "      <td>-2.998783</td>\n",
       "      <td>-2.997869</td>\n",
       "      <td>rocauc</td>\n",
       "      <td>0.872427</td>\n",
       "    </tr>\n",
       "    <tr>\n",
       "      <th>1</th>\n",
       "      <td>2.908179</td>\n",
       "      <td>2.907683</td>\n",
       "      <td>logloss</td>\n",
       "      <td>-0.990472</td>\n",
       "    </tr>\n",
       "  </tbody>\n",
       "</table>\n",
       "</div>"
      ],
      "text/plain": [
       "   log_reg baseline ate %  log_reg tuned ate %   metric  xgb tuned ate %\n",
       "0               -2.998783            -2.997869   rocauc         0.872427\n",
       "1                2.908179             2.907683  logloss        -0.990472"
      ]
     },
     "execution_count": 120,
     "metadata": {},
     "output_type": "execute_result"
    }
   ],
   "source": [
    "get_ate(all_metrics, CONTROL_NAME)"
   ]
  }
 ],
 "metadata": {
  "kernelspec": {
   "display_name": "Python 3",
   "language": "python",
   "name": "python3"
  },
  "language_info": {
   "codemirror_mode": {
    "name": "ipython",
    "version": 3
   },
   "file_extension": ".py",
   "mimetype": "text/x-python",
   "name": "python",
   "nbconvert_exporter": "python",
   "pygments_lexer": "ipython3",
   "version": "3.5.6"
  },
  "toc": {
   "base_numbering": 1,
   "nav_menu": {},
   "number_sections": true,
   "sideBar": true,
   "skip_h1_title": false,
   "title_cell": "Table of Contents",
   "title_sidebar": "Contents",
   "toc_cell": true,
   "toc_position": {},
   "toc_section_display": true,
   "toc_window_display": true
  }
 },
 "nbformat": 4,
 "nbformat_minor": 2
}
