{
 "cells": [
  {
   "cell_type": "markdown",
   "metadata": {
    "toc": true
   },
   "source": [
    "<h1>Table of Contents<span class=\"tocSkip\"></span></h1>\n",
    "<div class=\"toc\"><ul class=\"toc-item\"><li><span><a href=\"#Movie-recommendation\" data-toc-modified-id=\"Movie-recommendation-1\"><span class=\"toc-item-num\">1&nbsp;&nbsp;</span>Movie recommendation</a></span><ul class=\"toc-item\"><li><span><a href=\"#Dataset\" data-toc-modified-id=\"Dataset-1.1\"><span class=\"toc-item-num\">1.1&nbsp;&nbsp;</span>Dataset</a></span></li><li><span><a href=\"#Evaluation-Protocol\" data-toc-modified-id=\"Evaluation-Protocol-1.2\"><span class=\"toc-item-num\">1.2&nbsp;&nbsp;</span>Evaluation Protocol</a></span></li><li><span><a href=\"#Models\" data-toc-modified-id=\"Models-1.3\"><span class=\"toc-item-num\">1.3&nbsp;&nbsp;</span>Models</a></span><ul class=\"toc-item\"><li><span><a href=\"#ALS\" data-toc-modified-id=\"ALS-1.3.1\"><span class=\"toc-item-num\">1.3.1&nbsp;&nbsp;</span><a href=\"https://spark.apache.org/docs/latest/ml-collaborative-filtering.html#explicit-vs-implicit-feedback\" target=\"_blank\">ALS</a></a></span></li><li><span><a href=\"#Ваша-формулировка\" data-toc-modified-id=\"Ваша-формулировка-1.3.2\"><span class=\"toc-item-num\">1.3.2&nbsp;&nbsp;</span>Ваша формулировка</a></span></li></ul></li><li><span><a href=\"#Evaluation-Results\" data-toc-modified-id=\"Evaluation-Results-1.4\"><span class=\"toc-item-num\">1.4&nbsp;&nbsp;</span>Evaluation Results</a></span></li></ul></li></ul></div>"
   ]
  },
  {
   "cell_type": "markdown",
   "metadata": {},
   "source": [
    "# Movie recommendation\n",
    "\n",
    "Ваша задача - рекомендация фильмов для пользователей\n"
   ]
  },
  {
   "cell_type": "code",
   "execution_count": 1,
   "metadata": {},
   "outputs": [],
   "source": [
    "%matplotlib inline\n",
    "%config InlineBackend.figure_format ='retina'\n",
    "\n",
    "import os\n",
    "import sys\n",
    "import glob\n",
    "import pickle\n",
    "import seaborn as sns\n",
    "import matplotlib.pyplot as plt\n",
    "import numpy as np\n",
    "import pandas as pd\n",
    "from scipy import spatial\n",
    "\n",
    "import pyspark\n",
    "from pyspark.conf import SparkConf\n",
    "from pyspark.ml.recommendation import ALS\n",
    "from pyspark.mllib.evaluation import RankingMetrics\n",
    "from pyspark.sql import SQLContext\n",
    "from pyspark.sql import SparkSession\n",
    "from pyspark.sql.window import Window\n",
    "\n",
    "\n",
    "spark = SparkSession \\\n",
    "    .builder \\\n",
    "    .master('local[*]') \\\n",
    "    .appName(\"spark_sql_examples\") \\\n",
    "    .config(\"spark.executor.memory\", \"4g\") \\\n",
    "    .getOrCreate()\n",
    "\n",
    "sc = spark.sparkContext\n",
    "sqlContext = SQLContext(sc)"
   ]
  },
  {
   "cell_type": "markdown",
   "metadata": {},
   "source": [
    "## Dataset \n",
    "\n",
    "`MovieLens-25M`"
   ]
  },
  {
   "cell_type": "code",
   "execution_count": 2,
   "metadata": {},
   "outputs": [],
   "source": [
    "DATA_PATH = '/workspace/data/ml-25m'\n",
    "\n",
    "RATINGS_PATH = os.path.join(DATA_PATH, 'ratings.csv')\n",
    "MOVIES_PATH = os.path.join(DATA_PATH, 'movies.csv')\n",
    "TAGS_PATH = os.path.join(DATA_PATH, 'tags.csv')"
   ]
  },
  {
   "cell_type": "code",
   "execution_count": 3,
   "metadata": {},
   "outputs": [],
   "source": [
    "SAMPLING_RATE = 0.01\n",
    "SEED = 90"
   ]
  },
  {
   "cell_type": "code",
   "execution_count": 4,
   "metadata": {},
   "outputs": [],
   "source": [
    "import pyspark.sql.functions as F\n",
    "from pyspark.sql.types import *\n",
    "\n",
    "\n",
    "def read_df(path, sampling_rate=None):\n",
    "    df = sqlContext.read.format(\"com.databricks.spark.csv\") \\\n",
    "        .option(\"delimiter\", \",\") \\\n",
    "        .option(\"header\", \"true\") \\\n",
    "        .option(\"inferSchema\", \"true\") \\\n",
    "        .load('file:///' + path)\n",
    "    if sampling_rate:\n",
    "        df = df.sample(False, sampling_rate, SEED)\n",
    "    return df"
   ]
  },
  {
   "cell_type": "code",
   "execution_count": 5,
   "metadata": {},
   "outputs": [
    {
     "data": {
      "text/plain": [
       "249572"
      ]
     },
     "execution_count": 5,
     "metadata": {},
     "output_type": "execute_result"
    }
   ],
   "source": [
    "ratings_df = read_df(RATINGS_PATH, SAMPLING_RATE)\n",
    "ratings_df.count()"
   ]
  },
  {
   "cell_type": "markdown",
   "metadata": {},
   "source": [
    "## Evaluation Protocol\n",
    "\n",
    "Так как мы хотим оценивать качество разных алгоритмов рекомендаций, то в первую очередь нам нужно определить\n",
    "* Как разбить данные на `Train`/`Validation`/`Test`;\n",
    "* Какие метрики использовать для оценки качества."
   ]
  },
  {
   "cell_type": "markdown",
   "metadata": {},
   "source": [
    "### Splits"
   ]
  },
  {
   "cell_type": "code",
   "execution_count": 6,
   "metadata": {},
   "outputs": [
    {
     "data": {
      "text/plain": [
       "[Row(userId=1238, movieId=4011, rating=5.0, timestamp=1495751585, tile=1)]"
      ]
     },
     "execution_count": 6,
     "metadata": {},
     "output_type": "execute_result"
    }
   ],
   "source": [
    "TILES = 10\n",
    "\n",
    "user_window = Window.orderBy('timestamp').partitionBy('userId')\n",
    "\n",
    "tiled_ratings_df = ratings_df \\\n",
    "    .withColumn('tile', F.ntile(TILES).over(user_window)) \\\n",
    "\n",
    "tiled_ratings_df \\\n",
    "    .take(1)"
   ]
  },
  {
   "cell_type": "code",
   "execution_count": 7,
   "metadata": {},
   "outputs": [
    {
     "name": "stdout",
     "output_type": "stream",
     "text": [
      "239953\n"
     ]
    },
    {
     "data": {
      "text/plain": [
       "Row(userId=1238, movieId=4011, rating=5.0, timestamp=1495751585)"
      ]
     },
     "execution_count": 7,
     "metadata": {},
     "output_type": "execute_result"
    }
   ],
   "source": [
    "train_ratings_df = tiled_ratings_df \\\n",
    "    .filter(F.col('tile') <= 8) \\\n",
    "    .drop('tile') \\\n",
    "    .cache()\n",
    "\n",
    "print(train_ratings_df.count())\n",
    "\n",
    "train_ratings_df.head()"
   ]
  },
  {
   "cell_type": "code",
   "execution_count": 8,
   "metadata": {},
   "outputs": [
    {
     "name": "stdout",
     "output_type": "stream",
     "text": [
      "5333\n"
     ]
    },
    {
     "data": {
      "text/plain": [
       "Row(userId=9852, movieId=146926, rating=2.5, timestamp=1475678637)"
      ]
     },
     "execution_count": 8,
     "metadata": {},
     "output_type": "execute_result"
    }
   ],
   "source": [
    "dev_ratings_df = tiled_ratings_df \\\n",
    "    .filter(F.col('tile') == 9) \\\n",
    "    .drop('tile') \\\n",
    "    .cache()\n",
    "\n",
    "print(dev_ratings_df.count())\n",
    "\n",
    "dev_ratings_df.head()"
   ]
  },
  {
   "cell_type": "code",
   "execution_count": 9,
   "metadata": {},
   "outputs": [
    {
     "name": "stdout",
     "output_type": "stream",
     "text": [
      "4286\n"
     ]
    },
    {
     "data": {
      "text/plain": [
       "Row(userId=9852, movieId=182823, rating=2.0, timestamp=1518461843)"
      ]
     },
     "execution_count": 9,
     "metadata": {},
     "output_type": "execute_result"
    }
   ],
   "source": [
    "test_ratings_df = tiled_ratings_df \\\n",
    "    .filter(F.col('tile') == 10) \\\n",
    "    .drop('tile') \\\n",
    "    .cache()\n",
    "\n",
    "print(test_ratings_df.count())\n",
    "\n",
    "test_ratings_df.head()"
   ]
  },
  {
   "cell_type": "markdown",
   "metadata": {},
   "source": [
    "### Metrics"
   ]
  },
  {
   "cell_type": "code",
   "execution_count": 10,
   "metadata": {},
   "outputs": [],
   "source": [
    "def evaluate_recommendations_on(model, recommendations_map_fn, df):\n",
    "    labels = df \\\n",
    "        .groupby('userId') \\\n",
    "        .agg(F.collect_set('movieId').alias('labels'))\n",
    "    \n",
    "    # print(labels.count())\n",
    "    \n",
    "    ATS = [1, 5, 10]\n",
    "    MAX_ATS = max(ATS)\n",
    "    \n",
    "    user_recs = model \\\n",
    "        .recommendForUserSubset(labels, MAX_ATS)\n",
    "\n",
    "    # print(user_recs.count())\n",
    "    # print(user_recs.take(10))\n",
    "\n",
    "    recs_and_labels = labels \\\n",
    "        .join(user_recs, 'userId') \\\n",
    "        .select('recommendations', 'labels') \\\n",
    "        .rdd \\\n",
    "        .map(lambda row: (list(map(recommendations_map_fn, row[0])), row[1]))\n",
    "    \n",
    "    # print(recs_and_labels.take(10))\n",
    "    \n",
    "    ranking_metrics = RankingMetrics(recs_and_labels)\n",
    "    \n",
    "    metrics_values = {}\n",
    "    \n",
    "    for N in ATS:\n",
    "        precision_n_handle = \"Precision@\" + str(N)\n",
    "        metrics_values[precision_n_handle] = ranking_metrics.precisionAt(N)\n",
    "        ndcg_n_handle = \"NDCG@\" + str(N)\n",
    "        metrics_values[ndcg_n_handle] = ranking_metrics.ndcgAt(N)\n",
    "    metrics_values[\"MAP\"] = ranking_metrics.meanAveragePrecision\n",
    "    return metrics_values"
   ]
  },
  {
   "cell_type": "code",
   "execution_count": 11,
   "metadata": {},
   "outputs": [],
   "source": [
    "def get_ate(groups, control_name) -> pd.DataFrame:\n",
    "    \"\"\"Get Average Treatment Effect\n",
    "    groups - dictionary where keys - names of models, values - dicts of pairs <metric_name>, <metric_value>\n",
    "    control_name - name of baseline model\n",
    "    \n",
    "    return pd.DataFrame (rows corresponds to metrics, cols corresponds to models and ATE with respect to control)\n",
    "    \"\"\"\n",
    "    \n",
    "    metric_names = []\n",
    "    for metric_name_values in groups.values():\n",
    "        for metric_name, _ in metric_name_values.items():\n",
    "            if metric_name not in metric_names:\n",
    "                metric_names.append(metric_name)\n",
    "    metric_names = list(sorted(metric_names))\n",
    "    \n",
    "    if control_name not in groups:\n",
    "        raise ValueError(\"Control experiment is not in the group.\")\n",
    "    control_values = groups[control_name]\n",
    "    if len(control_values) != len(metric_names):\n",
    "        raise ValueError(\"Control experiment does not have all the metrics computed.\")\n",
    "\n",
    "    model_names = list(sorted(groups.keys()))\n",
    "    metric_model_ates = []\n",
    "    for metric_name in metric_names:\n",
    "        control_value = control_values[metric_name]\n",
    "        model_ates = []\n",
    "        for model_name in model_names:\n",
    "            if metric_name in groups[model_name]:\n",
    "                ate = (groups[model_name][metric_name] - control_value) / control_value * 100\n",
    "            else:\n",
    "                ate = None\n",
    "            model_ates.append(ate)\n",
    "        metric_model_ates.append(model_ates)\n",
    "\n",
    "    ates_df = pd.DataFrame(data=metric_model_ates, index=metric_names, columns=model_names)\n",
    "    return ates_df"
   ]
  },
  {
   "cell_type": "code",
   "execution_count": 12,
   "metadata": {},
   "outputs": [],
   "source": [
    "all_metrics = {}"
   ]
  },
  {
   "cell_type": "markdown",
   "metadata": {},
   "source": [
    "## Models\n",
    "\n",
    "Теперь мы можем перейти к формулировке задачи в терминах машинного обучения.\n",
    "\n",
    "Одна из формулировок, к которой мы сведем нашу задачу - **Matrix Completetion**. Данную задачу будем решать с помощью `ALS`"
   ]
  },
  {
   "cell_type": "markdown",
   "metadata": {},
   "source": [
    "### [ALS](https://spark.apache.org/docs/latest/ml-collaborative-filtering.html#explicit-vs-implicit-feedback)"
   ]
  },
  {
   "cell_type": "code",
   "execution_count": 13,
   "metadata": {},
   "outputs": [],
   "source": [
    "def get_baseline_als_space():\n",
    "    space = {\n",
    "        'rank': 10,\n",
    "        'maxIter': 10,\n",
    "        'regParam': 0.1,\n",
    "        'implicitPrefs': False,\n",
    "        'alpha': 1.0,\n",
    "        'nonnegative': False,\n",
    "\n",
    "        'numUserBlocks': 10,\n",
    "        'numItemBlocks': 10,\n",
    "        'userCol': 'userId',\n",
    "        'itemCol': 'movieId',\n",
    "        'ratingCol': 'rating',\n",
    "        'seed': SEED,\n",
    "        'coldStartStrategy': 'nan',\n",
    "    }\n",
    "    return space"
   ]
  },
  {
   "cell_type": "code",
   "execution_count": 14,
   "metadata": {},
   "outputs": [],
   "source": [
    "als = ALS(**get_baseline_als_space())\n",
    "baseline_als_model = als.fit(train_ratings_df)"
   ]
  },
  {
   "cell_type": "code",
   "execution_count": 15,
   "metadata": {},
   "outputs": [
    {
     "name": "stdout",
     "output_type": "stream",
     "text": [
      "{'Precision@10': 0.013826084055295442, 'NDCG@10': 0.05717978758071188, 'Precision@5': 0.0160281148169979, 'Precision@1': 0.01654859481521848, 'MAP': 0.037278182675931026, 'NDCG@5': 0.041387595596643546, 'NDCG@1': 0.016548594815218476}\n",
      "{'Precision@10': 0.0001141291942478886, 'NDCG@10': 0.0005310130572983582, 'Precision@5': 0.00018260671079662182, 'Precision@1': 0.00022825838849577717, 'MAP': 0.0003823328007304271, 'NDCG@5': 0.0004590055528962292, 'NDCG@1': 0.00022825838849577733}\n",
      "{'Precision@10': 8.700696055684451e-05, 'NDCG@10': 0.00047300746913325357, 'Precision@5': 5.800464037122966e-05, 'Precision@1': 0.00029002320185614864, 'MAP': 0.0003625290023201855, 'NDCG@5': 0.0002900232018561487, 'NDCG@1': 0.00029002320185614815}\n"
     ]
    }
   ],
   "source": [
    "for eval_df in [train_ratings_df, dev_ratings_df, test_ratings_df]:\n",
    "    metrics = evaluate_recommendations_on(\n",
    "        model=baseline_als_model,\n",
    "        recommendations_map_fn=lambda rec: rec.movieId,\n",
    "        df=eval_df)\n",
    "    print(metrics)\n",
    "    \n",
    "BASELINE_HANDLE = '1.als_baseline'\n",
    "all_metrics[BASELINE_HANDLE] = metrics"
   ]
  },
  {
   "cell_type": "markdown",
   "metadata": {},
   "source": [
    "Покажите для выбранных вами фильмов топ-20 наиболее похожих фильмов"
   ]
  },
  {
   "cell_type": "code",
   "execution_count": 16,
   "metadata": {},
   "outputs": [
    {
     "data": {
      "text/plain": [
       "62423"
      ]
     },
     "execution_count": 16,
     "metadata": {},
     "output_type": "execute_result"
    }
   ],
   "source": [
    "movies_df = read_df(MOVIES_PATH)\n",
    "movies_df.count()"
   ]
  },
  {
   "cell_type": "code",
   "execution_count": 17,
   "metadata": {},
   "outputs": [],
   "source": [
    "def get_cosine_similarity(features_0, features_1):\n",
    "    similarity = 1 - spatial.distance.cosine(features_0, features_1)\n",
    "    return float(similarity)\n",
    "\n",
    "\n",
    "cosine_similarity_udf = F.udf(get_cosine_similarity, FloatType())\n",
    "\n",
    "\n",
    "def find_similar_to(movie_id, model, N=20):\n",
    "    movie_factors = model.itemFactors\n",
    "    \n",
    "    # print(movie_factors.take(10))\n",
    "    \n",
    "    selected_movie_factors = movie_factors \\\n",
    "        .filter(F.col('id') == movie_id) \\\n",
    "        .selectExpr('id as movieId', 'features as movieFeatures') \\\n",
    "        .cache()\n",
    "\n",
    "    # print(selected_movie_factors.collect())\n",
    "    \n",
    "    out = selected_movie_factors \\\n",
    "        .crossJoin(movie_factors) \\\n",
    "        .withColumn('sim', cosine_similarity_udf('movieFeatures', 'features')) \\\n",
    "        .select('movieId', 'id', 'sim') \\\n",
    "        .sort(F.col('sim').desc()) \\\n",
    "        .limit(N)\n",
    "    \n",
    "    return out"
   ]
  },
  {
   "cell_type": "code",
   "execution_count": 18,
   "metadata": {},
   "outputs": [
    {
     "data": {
      "text/plain": [
       "[Row(movieId=1, id=1, sim=1.0),\n",
       " Row(movieId=1, id=5247, sim=0.9805355668067932),\n",
       " Row(movieId=1, id=8822, sim=0.9742634296417236),\n",
       " Row(movieId=1, id=994, sim=0.9709194302558899),\n",
       " Row(movieId=1, id=1458, sim=0.9698500633239746),\n",
       " Row(movieId=1, id=129, sim=0.96310955286026),\n",
       " Row(movieId=1, id=116837, sim=0.9630640149116516),\n",
       " Row(movieId=1, id=5147, sim=0.9616589546203613),\n",
       " Row(movieId=1, id=33463, sim=0.9595453143119812),\n",
       " Row(movieId=1, id=8225, sim=0.9594824910163879),\n",
       " Row(movieId=1, id=5102, sim=0.9592540264129639),\n",
       " Row(movieId=1, id=95856, sim=0.9592218399047852),\n",
       " Row(movieId=1, id=72701, sim=0.9573711156845093),\n",
       " Row(movieId=1, id=54686, sim=0.9562532305717468),\n",
       " Row(movieId=1, id=7093, sim=0.9562276601791382),\n",
       " Row(movieId=1, id=34314, sim=0.9560893177986145),\n",
       " Row(movieId=1, id=85305, sim=0.9558175802230835),\n",
       " Row(movieId=1, id=89837, sim=0.9543654918670654),\n",
       " Row(movieId=1, id=96606, sim=0.9528065919876099),\n",
       " Row(movieId=1, id=55955, sim=0.9518386125564575)]"
      ]
     },
     "execution_count": 18,
     "metadata": {},
     "output_type": "execute_result"
    }
   ],
   "source": [
    "similar_movies = find_similar_to(1, baseline_als_model)\n",
    "similar_movies.collect()"
   ]
  },
  {
   "cell_type": "markdown",
   "metadata": {},
   "source": [
    "### The movie with the highest similarity 1.0 is the original movie, i.e. Toy Story (1995)"
   ]
  },
  {
   "cell_type": "code",
   "execution_count": 19,
   "metadata": {},
   "outputs": [
    {
     "data": {
      "text/plain": [
       "[Row(title='Toy Story (1995)', genres='Adventure|Animation|Children|Comedy|Fantasy'),\n",
       " Row(title='Pie in the Sky (1996)', genres='Comedy|Romance'),\n",
       " Row(title='Big Night (1996)', genres='Comedy|Drama'),\n",
       " Row(title='Touch (1997)', genres='Drama|Fantasy|Romance'),\n",
       " Row(title='Rookie of the Year (1993)', genres='Comedy|Fantasy'),\n",
       " Row(title='Wild Strawberries (Smultronstället) (1957)', genres='Drama'),\n",
       " Row(title='Smokey and the Bandit (1977)', genres='Action|Comedy'),\n",
       " Row(title='Front Page, The (1974)', genres='Comedy'),\n",
       " Row(title='Night of the Living Dead (1990)', genres='Horror'),\n",
       " Row(title=\"Unidentified Flying Oddball (a.k.a. Spaceman and King Arthur, The) (a.k.a. Spaceman in King Arthur's Court, A) (1979)\", genres='Adventure|Comedy|Fantasy|Sci-Fi'),\n",
       " Row(title='DuckTales: The Movie - Treasure of the Lost Lamp (1990)', genres='Adventure|Animation|Children|Comedy|Fantasy'),\n",
       " Row(title='Funny Ha Ha (2002)', genres='Comedy|Drama'),\n",
       " Row(title='Last Legion, The (2007)', genres='Action|Adventure|Fantasy|War'),\n",
       " Row(title='Fred Claus (2007)', genres='Children|Comedy|Fantasy'),\n",
       " Row(title='Planet 51 (2009)', genres='Adventure|Animation|Children|Comedy|Sci-Fi'),\n",
       " Row(title='Holy Rollers (2010)', genres='Crime|Drama'),\n",
       " Row(title='Kill List (2011)', genres='Horror|Mystery|Thriller'),\n",
       " Row(title='Knick Knack (1989)', genres='Animation|Children'),\n",
       " Row(title='Samsara (2011)', genres='Documentary'),\n",
       " Row(title='The Little Fox (1981)', genres='Adventure|Animation|Children')]"
      ]
     },
     "execution_count": 19,
     "metadata": {},
     "output_type": "execute_result"
    }
   ],
   "source": [
    "similar_movies \\\n",
    "    .join(movies_df, similar_movies['id'] == movies_df['movieId']) \\\n",
    "    .select('title', 'genres') \\\n",
    "    .collect()"
   ]
  },
  {
   "cell_type": "markdown",
   "metadata": {},
   "source": [
    "### Ваша формулировка\n",
    "\n",
    "На лекции было еще несколько ML формулировок задачи рекомендаций. Выберете одну из них и реализуйте метод."
   ]
  },
  {
   "cell_type": "markdown",
   "metadata": {},
   "source": [
    "## Based on Evaluation of Session-based Recommendation Algorithms: https://arxiv.org/pdf/1803.09587.pdf\n",
    "\n",
    "Found from reference [11] https://dl.acm.org/doi/10.1145/3298689.3347041"
   ]
  },
  {
   "cell_type": "markdown",
   "metadata": {},
   "source": [
    "### Session-based Recommendation"
   ]
  },
  {
   "cell_type": "markdown",
   "metadata": {},
   "source": [
    "### Simple Association Rules (AR)\n",
    "\n",
    "The equation (1) in the paper. The baseline version will treat each user as a single session.\n",
    "\n",
    "The normalizer in the equation (1) could be disregarded, since it only depends on the s, not the i, and used to treat the scores as probabilities. So the score function takes the form of:\n",
    "\n",
    "score_{AR}(i, s) = \\sum_{p\\in S_p} \\sum_{x=1}^{|p|} \\sum_{y=1}^{|p|} 1_{EQ}(s_|s|, p_|x|) 1_{EQ}(i, p_|y|)"
   ]
  },
  {
   "cell_type": "code",
   "execution_count": 20,
   "metadata": {},
   "outputs": [
    {
     "data": {
      "text/plain": [
       "[Row(movieId=42734, movieId2=115569, cooccurrence=1),\n",
       " Row(movieId=68749, movieId2=6371, cooccurrence=1),\n",
       " Row(movieId=1241, movieId2=42734, cooccurrence=1),\n",
       " Row(movieId=110603, movieId2=7369, cooccurrence=1),\n",
       " Row(movieId=2983, movieId2=2983, cooccurrence=6),\n",
       " Row(movieId=1235, movieId2=441, cooccurrence=1),\n",
       " Row(movieId=254, movieId2=1449, cooccurrence=1),\n",
       " Row(movieId=3900, movieId2=205, cooccurrence=1),\n",
       " Row(movieId=7934, movieId2=6537, cooccurrence=1),\n",
       " Row(movieId=6250, movieId2=6250, cooccurrence=21)]"
      ]
     },
     "execution_count": 20,
     "metadata": {},
     "output_type": "execute_result"
    }
   ],
   "source": [
    "cooccurrence_df = train_ratings_df \\\n",
    "    .selectExpr('userId', 'movieId as movieId2') \\\n",
    "    .join(train_ratings_df, 'userId') \\\n",
    "    .select('movieId', 'movieId2') \\\n",
    "    .groupBy('movieId', 'movieId2') \\\n",
    "    .agg(F.count('movieId').alias('cooccurrence')) \\\n",
    "    .cache()\n",
    "\n",
    "cooccurrence_df.take(10)"
   ]
  },
  {
   "cell_type": "code",
   "execution_count": 21,
   "metadata": {},
   "outputs": [
    {
     "data": {
      "text/plain": [
       "Row(movieId=54503, movieId2=344, cooccurrence=2)"
      ]
     },
     "execution_count": 21,
     "metadata": {},
     "output_type": "execute_result"
    }
   ],
   "source": [
    "cooccurrence_df \\\n",
    "    .filter(F.col('movieId') == 54503) \\\n",
    "    .filter(F.col('movieId2') == 344) \\\n",
    "    .head()"
   ]
  },
  {
   "cell_type": "code",
   "execution_count": 22,
   "metadata": {},
   "outputs": [
    {
     "data": {
      "text/plain": [
       "Row(movieId=344, movieId2=54503, cooccurrence=2)"
      ]
     },
     "execution_count": 22,
     "metadata": {},
     "output_type": "execute_result"
    }
   ],
   "source": [
    "cooccurrence_df \\\n",
    "    .filter(F.col('movieId2') == 54503) \\\n",
    "    .filter(F.col('movieId') == 344) \\\n",
    "    .head()"
   ]
  },
  {
   "cell_type": "code",
   "execution_count": 23,
   "metadata": {},
   "outputs": [
    {
     "data": {
      "text/plain": [
       "[Row(userId=1238, maxTimestamp=1495751585),\n",
       " Row(userId=1342, maxTimestamp=1429643758),\n",
       " Row(userId=1829, maxTimestamp=909021026),\n",
       " Row(userId=2122, maxTimestamp=1224769746),\n",
       " Row(userId=2142, maxTimestamp=1078330920),\n",
       " Row(userId=2659, maxTimestamp=1454173941),\n",
       " Row(userId=2866, maxTimestamp=936021626),\n",
       " Row(userId=3175, maxTimestamp=945925044),\n",
       " Row(userId=3749, maxTimestamp=843684095),\n",
       " Row(userId=3794, maxTimestamp=1484585985)]"
      ]
     },
     "execution_count": 23,
     "metadata": {},
     "output_type": "execute_result"
    }
   ],
   "source": [
    "user_max_timestamp_df = train_ratings_df \\\n",
    "    .groupBy('userId') \\\n",
    "    .agg(F.max('timestamp').alias('maxTimestamp')) \\\n",
    "    .cache()\n",
    "\n",
    "user_max_timestamp_df.take(10)"
   ]
  },
  {
   "cell_type": "code",
   "execution_count": 24,
   "metadata": {},
   "outputs": [
    {
     "data": {
      "text/plain": [
       "[Row(userId=1238, lastMovieId=4011),\n",
       " Row(userId=1342, lastMovieId=33171),\n",
       " Row(userId=1829, lastMovieId=1731),\n",
       " Row(userId=2122, lastMovieId=4993),\n",
       " Row(userId=2142, lastMovieId=3081),\n",
       " Row(userId=2659, lastMovieId=4993),\n",
       " Row(userId=2866, lastMovieId=2701),\n",
       " Row(userId=3175, lastMovieId=349),\n",
       " Row(userId=3749, lastMovieId=185),\n",
       " Row(userId=3794, lastMovieId=1485)]"
      ]
     },
     "execution_count": 24,
     "metadata": {},
     "output_type": "execute_result"
    }
   ],
   "source": [
    "user_last_movie_id_df = train_ratings_df \\\n",
    "    .join(user_max_timestamp_df, (\n",
    "        (train_ratings_df['userId'] == user_max_timestamp_df['userId']) &\n",
    "        (train_ratings_df['timestamp'] == user_max_timestamp_df['maxTimestamp']))) \\\n",
    "    .select(train_ratings_df['userId'], train_ratings_df['movieId'].alias('lastMovieId')) \\\n",
    "    .cache()\n",
    "\n",
    "user_last_movie_id_df.take(10)"
   ]
  },
  {
   "cell_type": "code",
   "execution_count": 30,
   "metadata": {},
   "outputs": [],
   "source": [
    "class AssosiationsRuleModel(object):\n",
    "\n",
    "    def __init__(self, user_last_movie_id_df, cooccurrence_df):\n",
    "        self.user_last_movie_id_df = user_last_movie_id_df\n",
    "        self.cooccurrence_df = cooccurrence_df\n",
    "    \n",
    "    def recommendForUserSubset(self, users_df, N):\n",
    "        def postprocess_recommendations(recommendations):\n",
    "            # Discard the first recommendation since it is always the last movie in the user session from\n",
    "            # the fact that it has the highest co-occurrence with itself.\n",
    "            # We would probably want to discard all movies we have seen in the training ratings set for the user,\n",
    "            # but I do not think it holds for general session-based recommendation problems.\n",
    "            recommendations = recommendations[1:]\n",
    "            # Limit the size up to N.\n",
    "            recommendations = recommendations[:N]\n",
    "            return recommendations\n",
    "\n",
    "        postprocess_recommendations_udf = F.udf(postprocess_recommendations, ArrayType(IntegerType()))\n",
    "        \n",
    "        w = Window.partitionBy('userId').orderBy(F.col('cooccurrence').desc())\n",
    "        \n",
    "        subset_user_last_movie_id_df = self.user_last_movie_id_df \\\n",
    "            .join(users_df, 'userId') \\\n",
    "            .select('userId', 'lastMovieId')\n",
    "        \n",
    "        user_raw_recommendations_df = subset_user_last_movie_id_df \\\n",
    "            .join(self.cooccurrence_df, \n",
    "                  subset_user_last_movie_id_df['lastMovieId'] == self.cooccurrence_df['movieId']) \\\n",
    "            .withColumn('rawRecommendations', F.collect_list('movieId2').over(w)) \\\n",
    "            .groupBy('userId') \\\n",
    "            .agg(F.max('rawRecommendations').alias('rawRecommendations')) \\\n",
    "            .select('userId', 'rawRecommendations')\n",
    "        \n",
    "        user_recommendations_df = user_raw_recommendations_df \\\n",
    "            .withColumn('recommendations', postprocess_recommendations_udf('rawRecommendations')) \\\n",
    "            .select('userId', 'recommendations')\n",
    "\n",
    "        return user_recommendations_df"
   ]
  },
  {
   "cell_type": "code",
   "execution_count": 31,
   "metadata": {},
   "outputs": [],
   "source": [
    "assosiations_rule_model = AssosiationsRuleModel(user_last_movie_id_df, cooccurrence_df)"
   ]
  },
  {
   "cell_type": "code",
   "execution_count": 32,
   "metadata": {},
   "outputs": [
    {
     "data": {
      "text/plain": [
       "[Row(userId=9852, recommendations=[115569, 6156, 1094, 4040, 2236, 54999, 1287, 111, 4956, 74754]),\n",
       " Row(userId=15727, recommendations=[4069, 858, 919, 160, 5266, 2423, 593, 3755, 1120, 555]),\n",
       " Row(userId=16574, recommendations=[2857, 766, 3169, 36523, 965, 610, 858, 2294, 930, 945]),\n",
       " Row(userId=26087, recommendations=[450, 3578, 2943, 6957, 1263, 1095, 26774, 2921, 1295, 26505]),\n",
       " Row(userId=29054, recommendations=[1923, 8636, 7934, 86286, 8371, 79357, 2087, 1644, 81932, 61240]),\n",
       " Row(userId=32855, recommendations=[4573, 5609, 1897, 2762, 5685, 223, 2795, 163, 5670, 5049]),\n",
       " Row(userId=38311, recommendations=[2762, 60126, 364, 778, 3481, 1407, 2953, 597, 8132, 2478]),\n",
       " Row(userId=63155, recommendations=[5333, 2287, 51709, 26472, 6548, 417, 4280, 5, 532, 2005]),\n",
       " Row(userId=67861, recommendations=[106782, 2571, 6863, 41997, 60074, 3461, 7117, 1248, 5449, 120635]),\n",
       " Row(userId=74166, recommendations=[37720, 783, 1324, 8132, 1682, 8818, 588, 916, 571, 4246])]"
      ]
     },
     "execution_count": 32,
     "metadata": {},
     "output_type": "execute_result"
    }
   ],
   "source": [
    "dev_labels = dev_ratings_df \\\n",
    "    .groupby('userId') \\\n",
    "    .agg(F.collect_set('movieId').alias('labels'))\n",
    "\n",
    "assosiations_rule_model \\\n",
    "    .recommendForUserSubset(dev_labels, 10) \\\n",
    "    .take(10)"
   ]
  },
  {
   "cell_type": "code",
   "execution_count": 33,
   "metadata": {},
   "outputs": [
    {
     "name": "stdout",
     "output_type": "stream",
     "text": [
      "{'Precision@10': 0.0265177886272896, 'NDCG@10': 0.04880000870236168, 'Precision@5': 0.03246327168388626, 'Precision@1': 0.04582003403138452, 'MAP': 0.028668608080256733, 'NDCG@5': 0.04221954818256252, 'NDCG@1': 0.04582003403138452}\n",
      "{'Precision@10': 0.00031956174389408815, 'NDCG@10': 0.0013589007601605663, 'Precision@5': 0.00031956174389408825, 'Precision@1': 0.00022825838849577763, 'MAP': 0.0008324184882048386, 'NDCG@5': 0.0008374123466361861, 'NDCG@1': 0.00022825838849577768}\n",
      "{'Precision@10': 0.00043503480278422267, 'NDCG@10': 0.0024580978252383458, 'Precision@5': 0.0006960556844547569, 'Precision@1': 0.0008700696055684461, 'MAP': 0.0019109306522299544, 'NDCG@5': 0.002199650952371221, 'NDCG@1': 0.000870069605568446}\n"
     ]
    }
   ],
   "source": [
    "for eval_df in [train_ratings_df, dev_ratings_df, test_ratings_df]:\n",
    "    metrics = evaluate_recommendations_on(\n",
    "        model=assosiations_rule_model,\n",
    "        recommendations_map_fn=lambda rec: rec,\n",
    "        df=eval_df)\n",
    "    print(metrics)\n",
    "    \n",
    "ASSOSIATIONS_RULE_MODEL_HANDLE = '2.assosiations_rule_model'\n",
    "all_metrics[ASSOSIATIONS_RULE_MODEL_HANDLE] = metrics"
   ]
  },
  {
   "cell_type": "markdown",
   "metadata": {},
   "source": [
    "## Hyperparameter optimization"
   ]
  },
  {
   "cell_type": "code",
   "execution_count": 34,
   "metadata": {},
   "outputs": [
    {
     "name": "stdout",
     "output_type": "stream",
     "text": [
      "Requirement already satisfied: hyperopt in /usr/lib/python3.5/site-packages (0.2.3)\n",
      "Requirement already satisfied: numpy in /usr/lib64/python3.5/site-packages (from hyperopt) (1.17.2)\n",
      "Requirement already satisfied: networkx==2.2 in /usr/lib/python3.5/site-packages (from hyperopt) (2.2)\n",
      "Requirement already satisfied: tqdm in /usr/lib/python3.5/site-packages (from hyperopt) (4.45.0)\n",
      "Requirement already satisfied: scipy in /usr/lib64/python3.5/site-packages (from hyperopt) (1.3.3)\n",
      "Requirement already satisfied: cloudpickle in /usr/lib/python3.5/site-packages (from hyperopt) (1.3.0)\n",
      "Requirement already satisfied: six in /usr/lib/python3.5/site-packages (from hyperopt) (1.14.0)\n",
      "Requirement already satisfied: future in /usr/lib/python3.5/site-packages (from hyperopt) (0.18.2)\n",
      "Requirement already satisfied: decorator>=4.3.0 in /usr/lib/python3.5/site-packages (from networkx==2.2->hyperopt) (4.4.1)\n"
     ]
    }
   ],
   "source": [
    "!pip3.5 install hyperopt"
   ]
  },
  {
   "cell_type": "code",
   "execution_count": 35,
   "metadata": {},
   "outputs": [],
   "source": [
    "from hyperopt import fmin, tpe, hp, Trials, STATUS_OK"
   ]
  },
  {
   "cell_type": "code",
   "execution_count": 36,
   "metadata": {},
   "outputs": [],
   "source": [
    "def als_objective(space):\n",
    "    estimator = ALS(**space)\n",
    "    print('SPACE: ' + str(space))\n",
    "    success = False\n",
    "    attempts = 0\n",
    "    model = None\n",
    "    while not success and attempts < 2:\n",
    "        try:\n",
    "            model = estimator.fit(train_ratings_df)\n",
    "            success = True\n",
    "        except Exception as e:\n",
    "            attempts += 1\n",
    "            print(e)\n",
    "            print('Try again')\n",
    "        \n",
    "    dev_metrics = evaluate_recommendations_on(\n",
    "        model=model,\n",
    "        recommendations_map_fn=lambda rec: rec.movieId,\n",
    "        df=dev_ratings_df)    \n",
    "    print('METRICS: ' + str(dev_metrics))\n",
    "    \n",
    "    trial_status_dict = {\n",
    "        'loss': -dev_metrics['MAP'],\n",
    "        'status': STATUS_OK,\n",
    "    }\n",
    "    return trial_status_dict"
   ]
  },
  {
   "cell_type": "code",
   "execution_count": 37,
   "metadata": {},
   "outputs": [],
   "source": [
    "def tune_als_paired_params(space, param1_name, param1_choice, param2_name, param2_choice):\n",
    "    assert param1_name in space\n",
    "    assert param2_name in space\n",
    "\n",
    "    space[param1_name] = hp.choice(param1_name, param1_choice)\n",
    "    space[param2_name] = hp.choice(param2_name, param2_choice)\n",
    "\n",
    "    trials = Trials()\n",
    "    best_choices = fmin(fn=als_objective,\n",
    "                        space=space,\n",
    "                        algo=tpe.suggest,\n",
    "                        max_evals=len(param1_choice)*len(param2_choice),\n",
    "                        trials=trials)\n",
    "\n",
    "    space[param1_name] = param1_choice[best_choices[param1_name]]\n",
    "    space[param2_name] = param2_choice[best_choices[param2_name]]\n",
    "    \n",
    "    return space"
   ]
  },
  {
   "cell_type": "code",
   "execution_count": 38,
   "metadata": {},
   "outputs": [],
   "source": [
    "space = get_baseline_als_space()"
   ]
  },
  {
   "cell_type": "code",
   "execution_count": 39,
   "metadata": {},
   "outputs": [
    {
     "name": "stdout",
     "output_type": "stream",
     "text": [
      "SPACE: {'itemCol': 'movieId', 'ratingCol': 'rating', 'regParam': 0.1, 'userCol': 'userId', 'numItemBlocks': 10, 'coldStartStrategy': 'nan', 'numUserBlocks': 10, 'implicitPrefs': True, 'rank': 10, 'seed': 90, 'maxIter': 10, 'alpha': 1.25, 'nonnegative': False}\n",
      "METRICS: {'Precision@10': 0.0002739100661949326, 'NDCG@10': 0.00104311753961057, 'Precision@5': 0.000273910066194933, 'Precision@1': 0.0, 'MAP': 0.0005664793498621388, 'NDCG@5': 0.0006571868698819413, 'NDCG@1': 0.0}\n",
      "SPACE: {'itemCol': 'movieId', 'ratingCol': 'rating', 'regParam': 0.1, 'userCol': 'userId', 'numItemBlocks': 10, 'coldStartStrategy': 'nan', 'numUserBlocks': 10, 'implicitPrefs': True, 'rank': 10, 'seed': 90, 'maxIter': 10, 'alpha': 0.75, 'nonnegative': False}\n",
      "METRICS: {'Precision@10': 0.0001826067107966219, 'NDCG@10': 0.0008468902088005056, 'Precision@5': 0.0001826067107966219, 'Precision@1': 0.00022825838849577725, 'MAP': 0.0005598671028938094, 'NDCG@5': 0.0005588813327732005, 'NDCG@1': 0.00022825838849577728}\n",
      "SPACE: {'itemCol': 'movieId', 'ratingCol': 'rating', 'regParam': 0.1, 'userCol': 'userId', 'numItemBlocks': 10, 'coldStartStrategy': 'nan', 'numUserBlocks': 10, 'implicitPrefs': True, 'rank': 10, 'seed': 90, 'maxIter': 10, 'alpha': 1.5, 'nonnegative': False}\n",
      "METRICS: {'Precision@10': 0.00025108422734535483, 'NDCG@10': 0.0009464231090092652, 'Precision@5': 0.0002282583884957772, 'Precision@1': 0.0, 'MAP': 0.0004992699354717158, 'NDCG@5': 0.0005231749998219997, 'NDCG@1': 0.0}\n",
      "SPACE: {'itemCol': 'movieId', 'ratingCol': 'rating', 'regParam': 0.1, 'userCol': 'userId', 'numItemBlocks': 10, 'coldStartStrategy': 'nan', 'numUserBlocks': 10, 'implicitPrefs': True, 'rank': 10, 'seed': 90, 'maxIter': 10, 'alpha': 1.0, 'nonnegative': False}\n",
      "METRICS: {'Precision@10': 0.00020543254964619943, 'NDCG@10': 0.0009366416013165166, 'Precision@5': 0.00022825838849577714, 'Precision@1': 0.0002282583884957774, 'MAP': 0.0006054282018673708, 'NDCG@5': 0.0006371805923933081, 'NDCG@1': 0.00022825838849577728}\n",
      "SPACE: {'itemCol': 'movieId', 'ratingCol': 'rating', 'regParam': 0.1, 'userCol': 'userId', 'numItemBlocks': 10, 'coldStartStrategy': 'nan', 'numUserBlocks': 10, 'implicitPrefs': False, 'rank': 10, 'seed': 90, 'maxIter': 10, 'alpha': 0.75, 'nonnegative': False}\n",
      "METRICS: {'Precision@10': 0.00011412919424788867, 'NDCG@10': 0.0005310130572983587, 'Precision@5': 0.00018260671079662182, 'Precision@1': 0.00022825838849577747, 'MAP': 0.000382332800730427, 'NDCG@5': 0.00045900555289622903, 'NDCG@1': 0.0002282583884957773}\n",
      "SPACE: {'itemCol': 'movieId', 'ratingCol': 'rating', 'regParam': 0.1, 'userCol': 'userId', 'numItemBlocks': 10, 'coldStartStrategy': 'nan', 'numUserBlocks': 10, 'implicitPrefs': True, 'rank': 10, 'seed': 90, 'maxIter': 10, 'alpha': 1.0, 'nonnegative': False}\n",
      "METRICS: {'Precision@10': 0.0002054325496461995, 'NDCG@10': 0.0009366416013165162, 'Precision@5': 0.0002282583884957773, 'Precision@1': 0.00022825838849577703, 'MAP': 0.0006054282018673712, 'NDCG@5': 0.0006371805923933084, 'NDCG@1': 0.00022825838849577722}\n",
      "SPACE: {'itemCol': 'movieId', 'ratingCol': 'rating', 'regParam': 0.1, 'userCol': 'userId', 'numItemBlocks': 10, 'coldStartStrategy': 'nan', 'numUserBlocks': 10, 'implicitPrefs': False, 'rank': 10, 'seed': 90, 'maxIter': 10, 'alpha': 1.0, 'nonnegative': False}\n",
      "METRICS: {'Precision@10': 0.00011412919424788858, 'NDCG@10': 0.0005310130572983583, 'Precision@5': 0.00018260671079662176, 'Precision@1': 0.00022825838849577733, 'MAP': 0.000382332800730427, 'NDCG@5': 0.00045900555289622865, 'NDCG@1': 0.00022825838849577763}\n",
      "SPACE: {'itemCol': 'movieId', 'ratingCol': 'rating', 'regParam': 0.1, 'userCol': 'userId', 'numItemBlocks': 10, 'coldStartStrategy': 'nan', 'numUserBlocks': 10, 'implicitPrefs': True, 'rank': 10, 'seed': 90, 'maxIter': 10, 'alpha': 1.5, 'nonnegative': False}\n",
      "METRICS: {'Precision@10': 0.00025108422734535483, 'NDCG@10': 0.0009464231090092654, 'Precision@5': 0.00022825838849577728, 'Precision@1': 0.0, 'MAP': 0.0004992699354717161, 'NDCG@5': 0.0005231749998219992, 'NDCG@1': 0.0}\n",
      "100%|██████████| 8/8 [07:09<00:00, 53.69s/trial, best loss: -0.0006054282018673712]\n",
      "CPU times: user 2.08 s, sys: 1.03 s, total: 3.12 s\n",
      "Wall time: 7min 9s\n"
     ]
    },
    {
     "data": {
      "text/plain": [
       "{'alpha': 1.0,\n",
       " 'coldStartStrategy': 'nan',\n",
       " 'implicitPrefs': True,\n",
       " 'itemCol': 'movieId',\n",
       " 'maxIter': 10,\n",
       " 'nonnegative': False,\n",
       " 'numItemBlocks': 10,\n",
       " 'numUserBlocks': 10,\n",
       " 'rank': 10,\n",
       " 'ratingCol': 'rating',\n",
       " 'regParam': 0.1,\n",
       " 'seed': 90,\n",
       " 'userCol': 'userId'}"
      ]
     },
     "execution_count": 39,
     "metadata": {},
     "output_type": "execute_result"
    }
   ],
   "source": [
    "%%time\n",
    "\n",
    "tune_als_paired_params(space, 'implicitPrefs', [True, False], 'alpha', [0.75, 1.0, 1.25, 1.5])"
   ]
  },
  {
   "cell_type": "code",
   "execution_count": 40,
   "metadata": {},
   "outputs": [
    {
     "name": "stdout",
     "output_type": "stream",
     "text": [
      "SPACE: {'itemCol': 'movieId', 'ratingCol': 'rating', 'regParam': 0.1, 'userCol': 'userId', 'numItemBlocks': 10, 'coldStartStrategy': 'nan', 'numUserBlocks': 10, 'implicitPrefs': True, 'rank': 10, 'seed': 90, 'maxIter': 10, 'alpha': 1.0, 'nonnegative': True}\n",
      "METRICS: {'Precision@10': 0.0003652134215932437, 'NDCG@10': 0.0013701094581588667, 'Precision@5': 0.00036521342159324374, 'Precision@1': 0.0004565167769915547, 'MAP': 0.000787400861584838, 'NDCG@5': 0.0008050741641001643, 'NDCG@1': 0.0004565167769915549}\n",
      "SPACE: {'itemCol': 'movieId', 'ratingCol': 'rating', 'regParam': 0.1, 'userCol': 'userId', 'numItemBlocks': 10, 'coldStartStrategy': 'nan', 'numUserBlocks': 10, 'implicitPrefs': True, 'rank': 8, 'seed': 90, 'maxIter': 10, 'alpha': 1.0, 'nonnegative': False}\n",
      "METRICS: {'Precision@10': 0.000342387582743666, 'NDCG@10': 0.0014411517838397697, 'Precision@5': 0.0005021684546907097, 'Precision@1': 0.00022825838849577722, 'MAP': 0.0008984503791625451, 'NDCG@5': 0.0011786680252591298, 'NDCG@1': 0.00022825838849577714}\n",
      "SPACE: {'itemCol': 'movieId', 'ratingCol': 'rating', 'regParam': 0.1, 'userCol': 'userId', 'numItemBlocks': 10, 'coldStartStrategy': 'nan', 'numUserBlocks': 10, 'implicitPrefs': True, 'rank': 12, 'seed': 90, 'maxIter': 10, 'alpha': 1.0, 'nonnegative': False}\n",
      "METRICS: {'Precision@10': 0.0002739100661949328, 'NDCG@10': 0.0011483191175915167, 'Precision@5': 0.00022825838849577722, 'Precision@1': 0.00022825838849577733, 'MAP': 0.0007050648000202894, 'NDCG@5': 0.00067301052702109, 'NDCG@1': 0.00022825838849577733}\n",
      "SPACE: {'itemCol': 'movieId', 'ratingCol': 'rating', 'regParam': 0.1, 'userCol': 'userId', 'numItemBlocks': 10, 'coldStartStrategy': 'nan', 'numUserBlocks': 10, 'implicitPrefs': True, 'rank': 15, 'seed': 90, 'maxIter': 10, 'alpha': 1.0, 'nonnegative': True}\n",
      "METRICS: {'Precision@10': 0.00031956174389408825, 'NDCG@10': 0.001295912352240917, 'Precision@5': 0.0003195617438940882, 'Precision@1': 0.0, 'MAP': 0.0007316949453447971, 'NDCG@5': 0.0008012018786862007, 'NDCG@1': 0.0}\n",
      "SPACE: {'itemCol': 'movieId', 'ratingCol': 'rating', 'regParam': 0.1, 'userCol': 'userId', 'numItemBlocks': 10, 'coldStartStrategy': 'nan', 'numUserBlocks': 10, 'implicitPrefs': True, 'rank': 15, 'seed': 90, 'maxIter': 10, 'alpha': 1.0, 'nonnegative': False}\n",
      "METRICS: {'Precision@10': 0.00027391006619493266, 'NDCG@10': 0.0009926640822103703, 'Precision@5': 0.00013695503309746633, 'Precision@1': 0.0, 'MAP': 0.0004935634757593212, 'NDCG@5': 0.0003564497401608883, 'NDCG@1': 0.0}\n",
      "SPACE: {'itemCol': 'movieId', 'ratingCol': 'rating', 'regParam': 0.1, 'userCol': 'userId', 'numItemBlocks': 10, 'coldStartStrategy': 'nan', 'numUserBlocks': 10, 'implicitPrefs': True, 'rank': 10, 'seed': 90, 'maxIter': 10, 'alpha': 1.0, 'nonnegative': True}\n",
      "METRICS: {'Precision@10': 0.0003652134215932434, 'NDCG@10': 0.001370109458158867, 'Precision@5': 0.0003652134215932438, 'Precision@1': 0.00045651677699155483, 'MAP': 0.0007874008615848383, 'NDCG@5': 0.0008050741641001638, 'NDCG@1': 0.0004565167769915547}\n",
      "SPACE: {'itemCol': 'movieId', 'ratingCol': 'rating', 'regParam': 0.1, 'userCol': 'userId', 'numItemBlocks': 10, 'coldStartStrategy': 'nan', 'numUserBlocks': 10, 'implicitPrefs': True, 'rank': 10, 'seed': 90, 'maxIter': 10, 'alpha': 1.0, 'nonnegative': True}\n",
      "METRICS: {'Precision@10': 0.0003652134215932435, 'NDCG@10': 0.001370109458158867, 'Precision@5': 0.00036521342159324374, 'Precision@1': 0.0004565167769915545, 'MAP': 0.0007874008615848378, 'NDCG@5': 0.0008050741641001644, 'NDCG@1': 0.00045651677699155456}\n",
      "SPACE: {'itemCol': 'movieId', 'ratingCol': 'rating', 'regParam': 0.1, 'userCol': 'userId', 'numItemBlocks': 10, 'coldStartStrategy': 'nan', 'numUserBlocks': 10, 'implicitPrefs': True, 'rank': 8, 'seed': 90, 'maxIter': 10, 'alpha': 1.0, 'nonnegative': False}\n",
      "METRICS: {'Precision@10': 0.0003423875827436659, 'NDCG@10': 0.0014411517838397692, 'Precision@5': 0.0005021684546907099, 'Precision@1': 0.00022825838849577725, 'MAP': 0.0008984503791625454, 'NDCG@5': 0.00117866802525913, 'NDCG@1': 0.0002282583884957771}\n",
      "100%|██████████| 8/8 [07:09<00:00, 53.67s/trial, best loss: -0.0008984503791625454]\n",
      "CPU times: user 2.05 s, sys: 1.01 s, total: 3.06 s\n",
      "Wall time: 7min 9s\n"
     ]
    },
    {
     "data": {
      "text/plain": [
       "{'alpha': 1.0,\n",
       " 'coldStartStrategy': 'nan',\n",
       " 'implicitPrefs': True,\n",
       " 'itemCol': 'movieId',\n",
       " 'maxIter': 10,\n",
       " 'nonnegative': False,\n",
       " 'numItemBlocks': 10,\n",
       " 'numUserBlocks': 10,\n",
       " 'rank': 8,\n",
       " 'ratingCol': 'rating',\n",
       " 'regParam': 0.1,\n",
       " 'seed': 90,\n",
       " 'userCol': 'userId'}"
      ]
     },
     "execution_count": 40,
     "metadata": {},
     "output_type": "execute_result"
    }
   ],
   "source": [
    "%%time\n",
    "\n",
    "tune_als_paired_params(space, 'rank', [8, 10, 12, 15], 'nonnegative', [True, False])"
   ]
  },
  {
   "cell_type": "code",
   "execution_count": 41,
   "metadata": {},
   "outputs": [
    {
     "name": "stdout",
     "output_type": "stream",
     "text": [
      "SPACE: {'itemCol': 'movieId', 'ratingCol': 'rating', 'regParam': 0.01, 'userCol': 'userId', 'numItemBlocks': 10, 'coldStartStrategy': 'nan', 'numUserBlocks': 10, 'implicitPrefs': True, 'rank': 8, 'seed': 90, 'maxIter': 10, 'alpha': 1.0, 'nonnegative': False}\n",
      "METRICS: {'Precision@10': 0.00036521342159324374, 'NDCG@10': 0.0015859450729445881, 'Precision@5': 0.0004565167769915548, 'Precision@1': 0.00045651677699155407, 'MAP': 0.0010302424249011785, 'NDCG@5': 0.001208769037279045, 'NDCG@1': 0.0004565167769915545}\n",
      "SPACE: {'itemCol': 'movieId', 'ratingCol': 'rating', 'regParam': 1.0, 'userCol': 'userId', 'numItemBlocks': 10, 'coldStartStrategy': 'nan', 'numUserBlocks': 10, 'implicitPrefs': True, 'rank': 8, 'seed': 90, 'maxIter': 12, 'alpha': 1.0, 'nonnegative': False}\n",
      "METRICS: {'Precision@10': 0.000410865099292399, 'NDCG@10': 0.0017359476109298946, 'Precision@5': 0.0004565167769915542, 'Precision@1': 0.0004565167769915544, 'MAP': 0.0010892091752625877, 'NDCG@5': 0.0011646058678419083, 'NDCG@1': 0.0004565167769915549}\n",
      "SPACE: {'itemCol': 'movieId', 'ratingCol': 'rating', 'regParam': 0.01, 'userCol': 'userId', 'numItemBlocks': 10, 'coldStartStrategy': 'nan', 'numUserBlocks': 10, 'implicitPrefs': True, 'rank': 8, 'seed': 90, 'maxIter': 10, 'alpha': 1.0, 'nonnegative': False}\n",
      "METRICS: {'Precision@10': 0.0003652134215932439, 'NDCG@10': 0.0015859450729445884, 'Precision@5': 0.00045651677699155466, 'Precision@1': 0.00045651677699155445, 'MAP': 0.001030242424901179, 'NDCG@5': 0.0012087690372790452, 'NDCG@1': 0.00045651677699155445}\n",
      "SPACE: {'itemCol': 'movieId', 'ratingCol': 'rating', 'regParam': 0.01, 'userCol': 'userId', 'numItemBlocks': 10, 'coldStartStrategy': 'nan', 'numUserBlocks': 10, 'implicitPrefs': True, 'rank': 8, 'seed': 90, 'maxIter': 10, 'alpha': 1.0, 'nonnegative': False}\n",
      "METRICS: {'Precision@10': 0.0003652134215932437, 'NDCG@10': 0.0015859450729445884, 'Precision@5': 0.00045651677699155483, 'Precision@1': 0.00045651677699155466, 'MAP': 0.0010302424249011787, 'NDCG@5': 0.0012087690372790446, 'NDCG@1': 0.00045651677699155423}\n",
      "SPACE: {'itemCol': 'movieId', 'ratingCol': 'rating', 'regParam': 1.0, 'userCol': 'userId', 'numItemBlocks': 10, 'coldStartStrategy': 'nan', 'numUserBlocks': 10, 'implicitPrefs': True, 'rank': 8, 'seed': 90, 'maxIter': 12, 'alpha': 1.0, 'nonnegative': False}\n",
      "METRICS: {'Precision@10': 0.00041086509929239934, 'NDCG@10': 0.0017359476109298948, 'Precision@5': 0.00045651677699155456, 'Precision@1': 0.0004565167769915545, 'MAP': 0.0010892091752625875, 'NDCG@5': 0.0011646058678419083, 'NDCG@1': 0.00045651677699155483}\n",
      "SPACE: {'itemCol': 'movieId', 'ratingCol': 'rating', 'regParam': 1.0, 'userCol': 'userId', 'numItemBlocks': 10, 'coldStartStrategy': 'nan', 'numUserBlocks': 10, 'implicitPrefs': True, 'rank': 8, 'seed': 90, 'maxIter': 8, 'alpha': 1.0, 'nonnegative': False}\n",
      "METRICS: {'Precision@10': 0.00038803926044282124, 'NDCG@10': 0.0015699796674462987, 'Precision@5': 0.0004565167769915545, 'Precision@1': 0.0, 'MAP': 0.0009340780112293466, 'NDCG@5': 0.0010975531608491478, 'NDCG@1': 0.0}\n",
      "SPACE: {'itemCol': 'movieId', 'ratingCol': 'rating', 'regParam': 1.0, 'userCol': 'userId', 'numItemBlocks': 10, 'coldStartStrategy': 'nan', 'numUserBlocks': 10, 'implicitPrefs': True, 'rank': 8, 'seed': 90, 'maxIter': 8, 'alpha': 1.0, 'nonnegative': False}\n",
      "METRICS: {'Precision@10': 0.00038803926044282124, 'NDCG@10': 0.001569979667446298, 'Precision@5': 0.00045651677699155456, 'Precision@1': 0.0, 'MAP': 0.0009340780112293472, 'NDCG@5': 0.0010975531608491485, 'NDCG@1': 0.0}\n",
      "SPACE: {'itemCol': 'movieId', 'ratingCol': 'rating', 'regParam': 0.1, 'userCol': 'userId', 'numItemBlocks': 10, 'coldStartStrategy': 'nan', 'numUserBlocks': 10, 'implicitPrefs': True, 'rank': 8, 'seed': 90, 'maxIter': 12, 'alpha': 1.0, 'nonnegative': False}\n",
      "METRICS: {'Precision@10': 0.00038803926044282146, 'NDCG@10': 0.0016052686378393922, 'Precision@5': 0.0004565167769915543, 'Precision@1': 0.0002282583884957772, 'MAP': 0.0009789748662152227, 'NDCG@5': 0.0011445319350761596, 'NDCG@1': 0.00022825838849577725}\n",
      "SPACE: {'itemCol': 'movieId', 'ratingCol': 'rating', 'regParam': 0.1, 'userCol': 'userId', 'numItemBlocks': 10, 'coldStartStrategy': 'nan', 'numUserBlocks': 10, 'implicitPrefs': True, 'rank': 8, 'seed': 90, 'maxIter': 10, 'alpha': 1.0, 'nonnegative': False}\n",
      "METRICS: {'Precision@10': 0.00034238758274366613, 'NDCG@10': 0.0014411517838397695, 'Precision@5': 0.0005021684546907099, 'Precision@1': 0.00022825838849577714, 'MAP': 0.0008984503791625455, 'NDCG@5': 0.0011786680252591306, 'NDCG@1': 0.00022825838849577714}\n",
      "100%|██████████| 9/9 [07:33<00:00, 50.38s/trial, best loss: -0.0010892091752625877]\n",
      "CPU times: user 2.2 s, sys: 1.08 s, total: 3.28 s\n",
      "Wall time: 7min 33s\n"
     ]
    },
    {
     "data": {
      "text/plain": [
       "{'alpha': 1.0,\n",
       " 'coldStartStrategy': 'nan',\n",
       " 'implicitPrefs': True,\n",
       " 'itemCol': 'movieId',\n",
       " 'maxIter': 12,\n",
       " 'nonnegative': False,\n",
       " 'numItemBlocks': 10,\n",
       " 'numUserBlocks': 10,\n",
       " 'rank': 8,\n",
       " 'ratingCol': 'rating',\n",
       " 'regParam': 1.0,\n",
       " 'seed': 90,\n",
       " 'userCol': 'userId'}"
      ]
     },
     "execution_count": 41,
     "metadata": {},
     "output_type": "execute_result"
    }
   ],
   "source": [
    "%%time\n",
    "\n",
    "tune_als_paired_params(space, 'maxIter', [8, 10, 12], 'regParam', [1e-2, 1e-1, 1e-0])"
   ]
  },
  {
   "cell_type": "code",
   "execution_count": 42,
   "metadata": {},
   "outputs": [],
   "source": [
    "als = ALS(**space)\n",
    "tuned_als_model = als.fit(train_ratings_df)"
   ]
  },
  {
   "cell_type": "code",
   "execution_count": 43,
   "metadata": {},
   "outputs": [
    {
     "name": "stdout",
     "output_type": "stream",
     "text": [
      "{'Precision@10': 0.03666381218234593, 'NDCG@10': 0.16977406574442344, 'Precision@5': 0.060798291757954606, 'Precision@1': 0.19885005060222208, 'MAP': 0.1344471993026565, 'NDCG@5': 0.16138844908134362, 'NDCG@1': 0.1988500506022222}\n",
      "{'Precision@10': 0.0004108650992923991, 'NDCG@10': 0.0017359476109298948, 'Precision@5': 0.0004565167769915546, 'Precision@1': 0.000456516776991554, 'MAP': 0.001089209175262587, 'NDCG@5': 0.0011646058678419083, 'NDCG@1': 0.000456516776991555}\n",
      "{'Precision@10': 0.00040603248259860807, 'NDCG@10': 0.002173119590180444, 'Precision@5': 0.0005800464037122969, 'Precision@1': 0.0008700696055684457, 'MAP': 0.0016051403159871845, 'NDCG@5': 0.0018172820429777632, 'NDCG@1': 0.0008700696055684457}\n"
     ]
    }
   ],
   "source": [
    "for eval_df in [train_ratings_df, dev_ratings_df, test_ratings_df]:\n",
    "    metrics = evaluate_recommendations_on(\n",
    "        model=tuned_als_model,\n",
    "        recommendations_map_fn=lambda rec: rec.movieId,\n",
    "        df=eval_df)\n",
    "    print(metrics)\n",
    "    \n",
    "TUNED_ALS_HANDLE = '3.als_tuned'\n",
    "all_metrics[TUNED_ALS_HANDLE] = metrics"
   ]
  },
  {
   "cell_type": "markdown",
   "metadata": {},
   "source": [
    "## Evaluation Results\n",
    "\n",
    "Сравните реализованные методы с помощью выбранных метрик. Не забывайте про оптимизацию гиперпараметров."
   ]
  },
  {
   "cell_type": "code",
   "execution_count": 44,
   "metadata": {},
   "outputs": [
    {
     "data": {
      "text/html": [
       "<div>\n",
       "<style scoped>\n",
       "    .dataframe tbody tr th:only-of-type {\n",
       "        vertical-align: middle;\n",
       "    }\n",
       "\n",
       "    .dataframe tbody tr th {\n",
       "        vertical-align: top;\n",
       "    }\n",
       "\n",
       "    .dataframe thead th {\n",
       "        text-align: right;\n",
       "    }\n",
       "</style>\n",
       "<table border=\"1\" class=\"dataframe\">\n",
       "  <thead>\n",
       "    <tr style=\"text-align: right;\">\n",
       "      <th></th>\n",
       "      <th>1.als_baseline</th>\n",
       "      <th>2.assosiations_rule_model</th>\n",
       "      <th>3.als_tuned</th>\n",
       "    </tr>\n",
       "  </thead>\n",
       "  <tbody>\n",
       "    <tr>\n",
       "      <th>MAP</th>\n",
       "      <td>0.0</td>\n",
       "      <td>427.111111</td>\n",
       "      <td>342.761905</td>\n",
       "    </tr>\n",
       "    <tr>\n",
       "      <th>NDCG@1</th>\n",
       "      <td>0.0</td>\n",
       "      <td>200.000000</td>\n",
       "      <td>200.000000</td>\n",
       "    </tr>\n",
       "    <tr>\n",
       "      <th>NDCG@10</th>\n",
       "      <td>0.0</td>\n",
       "      <td>419.674209</td>\n",
       "      <td>359.426062</td>\n",
       "    </tr>\n",
       "    <tr>\n",
       "      <th>NDCG@5</th>\n",
       "      <td>0.0</td>\n",
       "      <td>658.439648</td>\n",
       "      <td>526.598848</td>\n",
       "    </tr>\n",
       "    <tr>\n",
       "      <th>Precision@1</th>\n",
       "      <td>0.0</td>\n",
       "      <td>200.000000</td>\n",
       "      <td>200.000000</td>\n",
       "    </tr>\n",
       "    <tr>\n",
       "      <th>Precision@10</th>\n",
       "      <td>0.0</td>\n",
       "      <td>400.000000</td>\n",
       "      <td>366.666667</td>\n",
       "    </tr>\n",
       "    <tr>\n",
       "      <th>Precision@5</th>\n",
       "      <td>0.0</td>\n",
       "      <td>1100.000000</td>\n",
       "      <td>900.000000</td>\n",
       "    </tr>\n",
       "  </tbody>\n",
       "</table>\n",
       "</div>"
      ],
      "text/plain": [
       "              1.als_baseline  2.assosiations_rule_model  3.als_tuned\n",
       "MAP                      0.0                 427.111111   342.761905\n",
       "NDCG@1                   0.0                 200.000000   200.000000\n",
       "NDCG@10                  0.0                 419.674209   359.426062\n",
       "NDCG@5                   0.0                 658.439648   526.598848\n",
       "Precision@1              0.0                 200.000000   200.000000\n",
       "Precision@10             0.0                 400.000000   366.666667\n",
       "Precision@5              0.0                1100.000000   900.000000"
      ]
     },
     "execution_count": 44,
     "metadata": {},
     "output_type": "execute_result"
    }
   ],
   "source": [
    "get_ate(all_metrics, BASELINE_HANDLE)"
   ]
  }
 ],
 "metadata": {
  "kernelspec": {
   "display_name": "Python 3",
   "language": "python",
   "name": "python3"
  },
  "language_info": {
   "codemirror_mode": {
    "name": "ipython",
    "version": 3
   },
   "file_extension": ".py",
   "mimetype": "text/x-python",
   "name": "python",
   "nbconvert_exporter": "python",
   "pygments_lexer": "ipython3",
   "version": "3.5.6"
  },
  "toc": {
   "base_numbering": 1,
   "nav_menu": {},
   "number_sections": true,
   "sideBar": true,
   "skip_h1_title": false,
   "title_cell": "Table of Contents",
   "title_sidebar": "Contents",
   "toc_cell": true,
   "toc_position": {},
   "toc_section_display": true,
   "toc_window_display": true
  }
 },
 "nbformat": 4,
 "nbformat_minor": 2
}
