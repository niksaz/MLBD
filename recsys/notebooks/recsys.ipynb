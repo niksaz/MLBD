{
 "cells": [
  {
   "cell_type": "markdown",
   "metadata": {
    "toc": true
   },
   "source": [
    "<h1>Table of Contents<span class=\"tocSkip\"></span></h1>\n",
    "<div class=\"toc\"><ul class=\"toc-item\"><li><span><a href=\"#Movie-recommendation\" data-toc-modified-id=\"Movie-recommendation-1\"><span class=\"toc-item-num\">1&nbsp;&nbsp;</span>Movie recommendation</a></span><ul class=\"toc-item\"><li><span><a href=\"#Dataset\" data-toc-modified-id=\"Dataset-1.1\"><span class=\"toc-item-num\">1.1&nbsp;&nbsp;</span>Dataset</a></span></li><li><span><a href=\"#Evaluation-Protocol\" data-toc-modified-id=\"Evaluation-Protocol-1.2\"><span class=\"toc-item-num\">1.2&nbsp;&nbsp;</span>Evaluation Protocol</a></span></li><li><span><a href=\"#Models\" data-toc-modified-id=\"Models-1.3\"><span class=\"toc-item-num\">1.3&nbsp;&nbsp;</span>Models</a></span><ul class=\"toc-item\"><li><span><a href=\"#ALS\" data-toc-modified-id=\"ALS-1.3.1\"><span class=\"toc-item-num\">1.3.1&nbsp;&nbsp;</span><a href=\"https://spark.apache.org/docs/latest/ml-collaborative-filtering.html#explicit-vs-implicit-feedback\" target=\"_blank\">ALS</a></a></span></li><li><span><a href=\"#Ваша-формулировка\" data-toc-modified-id=\"Ваша-формулировка-1.3.2\"><span class=\"toc-item-num\">1.3.2&nbsp;&nbsp;</span>Ваша формулировка</a></span></li></ul></li><li><span><a href=\"#Evaluation-Results\" data-toc-modified-id=\"Evaluation-Results-1.4\"><span class=\"toc-item-num\">1.4&nbsp;&nbsp;</span>Evaluation Results</a></span></li></ul></li></ul></div>"
   ]
  },
  {
   "cell_type": "markdown",
   "metadata": {},
   "source": [
    "# Movie recommendation\n",
    "\n",
    "Ваша задача - рекомендация фильмов для пользователей\n"
   ]
  },
  {
   "cell_type": "code",
   "execution_count": 1,
   "metadata": {},
   "outputs": [],
   "source": [
    "%matplotlib inline\n",
    "%config InlineBackend.figure_format ='retina'\n",
    "\n",
    "import os\n",
    "import sys\n",
    "import glob\n",
    "import pickle\n",
    "import seaborn as sns\n",
    "import matplotlib.pyplot as plt\n",
    "import numpy as np\n",
    "import pandas as pd\n",
    "from scipy import spatial\n",
    "\n",
    "import pyspark\n",
    "from pyspark.conf import SparkConf\n",
    "from pyspark.ml.recommendation import ALS\n",
    "from pyspark.mllib.evaluation import RankingMetrics\n",
    "from pyspark.sql import SQLContext\n",
    "from pyspark.sql import SparkSession\n",
    "from pyspark.sql.window import Window\n",
    "\n",
    "\n",
    "spark = SparkSession \\\n",
    "    .builder \\\n",
    "    .master('local[*]') \\\n",
    "    .appName(\"spark_sql_examples\") \\\n",
    "    .config(\"spark.executor.memory\", \"8g\") \\\n",
    "    .getOrCreate()\n",
    "\n",
    "sc = spark.sparkContext\n",
    "sqlContext = SQLContext(sc)"
   ]
  },
  {
   "cell_type": "markdown",
   "metadata": {},
   "source": [
    "## Dataset \n",
    "\n",
    "`MovieLens-25M`"
   ]
  },
  {
   "cell_type": "code",
   "execution_count": 2,
   "metadata": {},
   "outputs": [],
   "source": [
    "DATA_PATH = '/workspace/data/ml-25m'\n",
    "\n",
    "RATINGS_PATH = os.path.join(DATA_PATH, 'ratings.csv')\n",
    "MOVIES_PATH = os.path.join(DATA_PATH, 'movies.csv')\n",
    "TAGS_PATH = os.path.join(DATA_PATH, 'tags.csv')\n",
    "\n",
    "SEED = 90"
   ]
  },
  {
   "cell_type": "code",
   "execution_count": 3,
   "metadata": {},
   "outputs": [],
   "source": [
    "import pyspark.sql.functions as F\n",
    "from pyspark.sql.types import *\n",
    "\n",
    "\n",
    "def read_df(path, sampling_rate=None):\n",
    "    df = sqlContext.read.format(\"com.databricks.spark.csv\") \\\n",
    "        .option(\"delimiter\", \",\") \\\n",
    "        .option(\"header\", \"true\") \\\n",
    "        .option(\"inferSchema\", \"true\") \\\n",
    "        .load('file:///' + path)\n",
    "    if sampling_rate:\n",
    "        df = df.sample(False, sampling_rate, SEED)\n",
    "    return df"
   ]
  },
  {
   "cell_type": "markdown",
   "metadata": {},
   "source": [
    "## Evaluation Protocol\n",
    "\n",
    "Так как мы хотим оценивать качество разных алгоритмов рекомендаций, то в первую очередь нам нужно определить\n",
    "* Как разбить данные на `Train`/`Validation`/`Test`;\n",
    "* Какие метрики использовать для оценки качества."
   ]
  },
  {
   "cell_type": "markdown",
   "metadata": {},
   "source": [
    "### Splits\n",
    "\n",
    "The splits has been done in a way that picks the 80% of the earliest (by timestamp) ratings of a user to the train set, the next 10% to the dev set and the rest 10% to the test test.\n",
    "\n",
    "This allows to solve the problem during evaluation with the user \"cold-start\", i.e. for every rating in the test set every user will have some at least some items before that timestamp, but does not resolve the problem with the item \"cold-start\" which is harder to mitigate.\n",
    "\n",
    "It also does not \"look into the future\" for every single user."
   ]
  },
  {
   "cell_type": "code",
   "execution_count": 4,
   "metadata": {},
   "outputs": [],
   "source": [
    "def split_ratings_df(sampling_rate=None):\n",
    "    ratings_df = read_df(RATINGS_PATH, sampling_rate)\n",
    "    print(ratings_df.count())\n",
    "    \n",
    "    TILES = 10\n",
    "\n",
    "    user_window = Window.orderBy('timestamp').partitionBy('userId')\n",
    "\n",
    "    tiled_ratings_df = ratings_df \\\n",
    "        .withColumn('tile', F.ntile(TILES).over(user_window))\n",
    "\n",
    "    train_ratings_df = tiled_ratings_df \\\n",
    "        .filter(F.col('tile') <= 8) \\\n",
    "        .drop('tile') \\\n",
    "        .cache()\n",
    "    print(train_ratings_df.count())\n",
    "    \n",
    "    dev_ratings_df = tiled_ratings_df \\\n",
    "        .filter(F.col('tile') == 9) \\\n",
    "        .drop('tile') \\\n",
    "        .cache()\n",
    "    print(dev_ratings_df.count())\n",
    "    \n",
    "    test_ratings_df = tiled_ratings_df \\\n",
    "        .filter(F.col('tile') == 10) \\\n",
    "        .drop('tile') \\\n",
    "        .cache()\n",
    "    print(test_ratings_df.count())\n",
    "    \n",
    "    return train_ratings_df, dev_ratings_df, test_ratings_df"
   ]
  },
  {
   "cell_type": "markdown",
   "metadata": {},
   "source": [
    "### Metrics\n",
    "\n",
    "I have picked several diagnostic metrics and a more comprehensive metric. For the diagnostic metrics I have picked Precision and Normalized discounted cumulative gain at positions 1, 5, 10. They allow to see the certain aspects of system performance, and allow for debugging (for example, AssosiationsRuleModel has been getting the Precision@1=0, because it has always recommended the last item from the training set, until I have fixed it).\n",
    "\n",
    "The general performance metric is Mean Average Precision, which accounts for both the relevance of the predictions and takes the order into account. This metric is useful as a loss for the hyperparameter optimization stage."
   ]
  },
  {
   "cell_type": "code",
   "execution_count": 5,
   "metadata": {},
   "outputs": [],
   "source": [
    "def evaluate_recommendations_on(model, recommendations_map_fn, df):\n",
    "    labels = df \\\n",
    "        .groupby('userId') \\\n",
    "        .agg(F.collect_set('movieId').alias('labels')) \\\n",
    "        .cache()\n",
    "        \n",
    "    ATS = [1, 5, 10]\n",
    "    MAX_ATS = max(ATS)\n",
    "    \n",
    "    user_recs = model \\\n",
    "        .recommendForUserSubset(labels, MAX_ATS) \\\n",
    "        .cache()\n",
    "    \n",
    "    assert labels.count() == user_recs.count()\n",
    "\n",
    "    recs_and_labels = labels \\\n",
    "        .join(user_recs, 'userId') \\\n",
    "        .select('recommendations', 'labels') \\\n",
    "        .rdd \\\n",
    "        .map(lambda row: (list(map(recommendations_map_fn, row[0])), row[1])) \\\n",
    "        .cache()\n",
    "    \n",
    "    ranking_metrics = RankingMetrics(recs_and_labels)\n",
    "    \n",
    "    metrics_values = {}\n",
    "    \n",
    "    for N in ATS:\n",
    "        precision_n_handle = \"Precision@\" + str(N)\n",
    "        metrics_values[precision_n_handle] = ranking_metrics.precisionAt(N)\n",
    "        ndcg_n_handle = \"NDCG@\" + str(N)\n",
    "        metrics_values[ndcg_n_handle] = ranking_metrics.ndcgAt(N)\n",
    "    metrics_values[\"MAP\"] = ranking_metrics.meanAveragePrecision\n",
    "    return metrics_values"
   ]
  },
  {
   "cell_type": "code",
   "execution_count": 6,
   "metadata": {},
   "outputs": [],
   "source": [
    "def get_ate(groups, control_name) -> pd.DataFrame:\n",
    "    \"\"\"Get Average Treatment Effect\n",
    "    groups - dictionary where keys - names of models, values - dicts of pairs <metric_name>, <metric_value>\n",
    "    control_name - name of baseline model\n",
    "    \n",
    "    return pd.DataFrame (rows corresponds to metrics, cols corresponds to models and ATE with respect to control)\n",
    "    \"\"\"\n",
    "    \n",
    "    metric_names = []\n",
    "    for metric_name_values in groups.values():\n",
    "        for metric_name, _ in metric_name_values.items():\n",
    "            if metric_name not in metric_names:\n",
    "                metric_names.append(metric_name)\n",
    "    metric_names = list(sorted(metric_names))\n",
    "    \n",
    "    if control_name not in groups:\n",
    "        raise ValueError(\"Control experiment is not in the group.\")\n",
    "    control_values = groups[control_name]\n",
    "    if len(control_values) != len(metric_names):\n",
    "        raise ValueError(\"Control experiment does not have all the metrics computed.\")\n",
    "\n",
    "    model_names = list(sorted(groups.keys()))\n",
    "    metric_model_ates = []\n",
    "    for metric_name in metric_names:\n",
    "        control_value = control_values[metric_name]\n",
    "        model_ates = []\n",
    "        for model_name in model_names:\n",
    "            if metric_name in groups[model_name]:\n",
    "                ate = (groups[model_name][metric_name] - control_value) / control_value * 100\n",
    "            else:\n",
    "                ate = None\n",
    "            model_ates.append(ate)\n",
    "        metric_model_ates.append(model_ates)\n",
    "\n",
    "    ates_df = pd.DataFrame(data=metric_model_ates, index=metric_names, columns=model_names)\n",
    "    return ates_df"
   ]
  },
  {
   "cell_type": "code",
   "execution_count": 7,
   "metadata": {},
   "outputs": [],
   "source": [
    "all_metrics = {}"
   ]
  },
  {
   "cell_type": "markdown",
   "metadata": {},
   "source": [
    "## Models\n",
    "\n",
    "Теперь мы можем перейти к формулировке задачи в терминах машинного обучения.\n",
    "\n",
    "Одна из формулировок, к которой мы сведем нашу задачу - **Matrix Completetion**. Данную задачу будем решать с помощью `ALS`"
   ]
  },
  {
   "cell_type": "code",
   "execution_count": 8,
   "metadata": {},
   "outputs": [
    {
     "name": "stdout",
     "output_type": "stream",
     "text": [
      "25000095\n",
      "20123411\n",
      "2445623\n",
      "2431061\n"
     ]
    }
   ],
   "source": [
    "train_ratings_df, dev_ratings_df, test_ratings_df = split_ratings_df()"
   ]
  },
  {
   "cell_type": "markdown",
   "metadata": {},
   "source": [
    "### [ALS](https://spark.apache.org/docs/latest/ml-collaborative-filtering.html#explicit-vs-implicit-feedback)"
   ]
  },
  {
   "cell_type": "code",
   "execution_count": 9,
   "metadata": {},
   "outputs": [],
   "source": [
    "def get_baseline_als_space():\n",
    "    space = {\n",
    "        'rank': 10,\n",
    "        'maxIter': 10,\n",
    "        'regParam': 0.1,\n",
    "        'implicitPrefs': False,\n",
    "        'alpha': 1.0,\n",
    "        'nonnegative': False,\n",
    "\n",
    "        'numUserBlocks': 10,\n",
    "        'numItemBlocks': 10,\n",
    "        'userCol': 'userId',\n",
    "        'itemCol': 'movieId',\n",
    "        'ratingCol': 'rating',\n",
    "        'seed': SEED,\n",
    "        'coldStartStrategy': 'nan',\n",
    "    }\n",
    "    return space"
   ]
  },
  {
   "cell_type": "code",
   "execution_count": 10,
   "metadata": {},
   "outputs": [],
   "source": [
    "als = ALS(**get_baseline_als_space())\n",
    "baseline_als_model = als.fit(train_ratings_df)"
   ]
  },
  {
   "cell_type": "code",
   "execution_count": 11,
   "metadata": {},
   "outputs": [
    {
     "name": "stdout",
     "output_type": "stream",
     "text": [
      "{'NDCG@5': 0.00017637827044626967, 'Precision@5': 0.00018456881648322575, 'MAP': 3.8610239522794426e-06, 'Precision@1': 0.00014150275930380657, 'Precision@10': 0.00017780129321217424, 'NDCG@10': 0.00017456509633644512, 'NDCG@1': 0.00014150275930380657}\n",
      "{'NDCG@5': 7.688792036277059e-06, 'Precision@5': 8.613211435883877e-06, 'MAP': 7.251632737680066e-07, 'Precision@1': 0.0, 'Precision@10': 9.228440824161288e-06, 'NDCG@10': 8.84849400421429e-06, 'NDCG@1': 0.0}\n",
      "{'NDCG@5': 2.3391599451119216e-05, 'Precision@5': 1.722642287176776e-05, 'MAP': 8.256419136002381e-07, 'Precision@1': 4.9218351062193566e-05, 'Precision@10': 1.1689358377270964e-05, 'NDCG@10': 1.7319877774538593e-05, 'NDCG@1': 4.9218351062193566e-05}\n",
      "CPU times: user 745 ms, sys: 257 ms, total: 1 s\n",
      "Wall time: 14min 49s\n"
     ]
    }
   ],
   "source": [
    "%%time\n",
    "\n",
    "for eval_df in [train_ratings_df, dev_ratings_df, test_ratings_df]:\n",
    "    metrics = evaluate_recommendations_on(\n",
    "        model=baseline_als_model,\n",
    "        recommendations_map_fn=lambda rec: rec.movieId,\n",
    "        df=eval_df)\n",
    "    print(metrics)\n",
    "    \n",
    "BASELINE_HANDLE = '1.als_baseline'\n",
    "all_metrics[BASELINE_HANDLE] = metrics"
   ]
  },
  {
   "cell_type": "markdown",
   "metadata": {},
   "source": [
    "Покажите для выбранных вами фильмов топ-20 наиболее похожих фильмов"
   ]
  },
  {
   "cell_type": "code",
   "execution_count": 12,
   "metadata": {},
   "outputs": [
    {
     "data": {
      "text/plain": [
       "62423"
      ]
     },
     "execution_count": 12,
     "metadata": {},
     "output_type": "execute_result"
    }
   ],
   "source": [
    "movies_df = read_df(MOVIES_PATH)\n",
    "movies_df.count()"
   ]
  },
  {
   "cell_type": "code",
   "execution_count": 13,
   "metadata": {},
   "outputs": [],
   "source": [
    "def get_cosine_similarity(features_0, features_1):\n",
    "    similarity = 1 - spatial.distance.cosine(features_0, features_1)\n",
    "    return float(similarity)\n",
    "\n",
    "\n",
    "cosine_similarity_udf = F.udf(get_cosine_similarity, FloatType())\n",
    "\n",
    "\n",
    "def find_similar_to(movie_id, model, N=20):\n",
    "    movie_factors = model.itemFactors\n",
    "\n",
    "    selected_movie_factors = movie_factors \\\n",
    "        .filter(F.col('id') == movie_id) \\\n",
    "        .selectExpr('id as movieId', 'features as movieFeatures') \\\n",
    "        .cache()\n",
    "    \n",
    "    out = selected_movie_factors \\\n",
    "        .crossJoin(movie_factors) \\\n",
    "        .withColumn('sim', cosine_similarity_udf('movieFeatures', 'features')) \\\n",
    "        .select('movieId', 'id', 'sim') \\\n",
    "        .sort(F.col('sim').desc()) \\\n",
    "        .limit(N)\n",
    "    \n",
    "    return out"
   ]
  },
  {
   "cell_type": "code",
   "execution_count": 14,
   "metadata": {},
   "outputs": [
    {
     "data": {
      "text/plain": [
       "[Row(movieId=1, id=1, sim=1.0),\n",
       " Row(movieId=1, id=3114, sim=0.9954542517662048),\n",
       " Row(movieId=1, id=78499, sim=0.990972101688385),\n",
       " Row(movieId=1, id=27624, sim=0.9887143969535828),\n",
       " Row(movieId=1, id=2355, sim=0.9836386442184448),\n",
       " Row(movieId=1, id=8961, sim=0.9826635718345642),\n",
       " Row(movieId=1, id=6377, sim=0.9790077805519104),\n",
       " Row(movieId=1, id=4886, sim=0.9785723686218262),\n",
       " Row(movieId=1, id=136489, sim=0.978314995765686),\n",
       " Row(movieId=1, id=7639, sim=0.9772404432296753),\n",
       " Row(movieId=1, id=26940, sim=0.9770073890686035),\n",
       " Row(movieId=1, id=171515, sim=0.9765953421592712),\n",
       " Row(movieId=1, id=588, sim=0.9761655330657959),\n",
       " Row(movieId=1, id=74342, sim=0.9758329391479492),\n",
       " Row(movieId=1, id=66369, sim=0.9754895567893982),\n",
       " Row(movieId=1, id=184485, sim=0.9753639101982117),\n",
       " Row(movieId=1, id=116975, sim=0.9752519130706787),\n",
       " Row(movieId=1, id=33524, sim=0.9749162197113037),\n",
       " Row(movieId=1, id=8827, sim=0.9743496775627136),\n",
       " Row(movieId=1, id=162422, sim=0.9742727279663086)]"
      ]
     },
     "execution_count": 14,
     "metadata": {},
     "output_type": "execute_result"
    }
   ],
   "source": [
    "similar_movies = find_similar_to(1, baseline_als_model)\n",
    "similar_movies.collect()"
   ]
  },
  {
   "cell_type": "markdown",
   "metadata": {},
   "source": [
    "### The movie with the highest similarity 1.0 is the original movie, i.e. Toy Story (1995)"
   ]
  },
  {
   "cell_type": "code",
   "execution_count": 15,
   "metadata": {},
   "outputs": [
    {
     "data": {
      "text/plain": [
       "[Row(title='Toy Story (1995)', genres='Adventure|Animation|Children|Comedy|Fantasy'),\n",
       " Row(title='Aladdin (1992)', genres='Adventure|Animation|Children|Comedy|Musical'),\n",
       " Row(title=\"Bug's Life, A (1998)\", genres='Adventure|Animation|Children|Comedy'),\n",
       " Row(title='Toy Story 2 (1999)', genres='Adventure|Animation|Children|Comedy|Fantasy'),\n",
       " Row(title='Monsters, Inc. (2001)', genres='Adventure|Animation|Children|Comedy|Fantasy'),\n",
       " Row(title='Finding Nemo (2003)', genres='Adventure|Animation|Children|Comedy'),\n",
       " Row(title='Nice Guys Sleep Alone (1999)', genres='Comedy|Romance'),\n",
       " Row(title='Bill Cosby, Himself (1983)', genres='Comedy|Documentary'),\n",
       " Row(title='Incredibles, The (2004)', genres='Action|Adventure|Animation|Children|Comedy'),\n",
       " Row(title='Late Shift, The (1996)', genres='Comedy'),\n",
       " Row(title='Live from Baghdad (2002)', genres='Drama|War'),\n",
       " Row(title='Death Takes a Holiday (1934)', genres='Fantasy|Romance'),\n",
       " Row(title='Man Who Quit Smoking, The (Mannen som slutade röka) (1972)', genres='Comedy'),\n",
       " Row(title='Captain Newman, M.D. (1963)', genres='Comedy|Drama|War'),\n",
       " Row(title='Toy Story 3 (2010)', genres='Adventure|Animation|Children|Comedy|Fantasy|IMAX'),\n",
       " Row(title='Long Way Round (2004)', genres='Adventure|Documentary'),\n",
       " Row(title='Terror on the Midway (1942)', genres='Animation|Fantasy'),\n",
       " Row(title=\"The League of Gentlemen's Apocalypse (2005)\", genres='Comedy'),\n",
       " Row(title='Summer School Teachers (1974)', genres='Comedy'),\n",
       " Row(title='Natalee Holloway (2009)', genres='Drama|Mystery')]"
      ]
     },
     "execution_count": 15,
     "metadata": {},
     "output_type": "execute_result"
    }
   ],
   "source": [
    "similar_movies \\\n",
    "    .join(movies_df, similar_movies['id'] == movies_df['movieId']) \\\n",
    "    .select('title', 'genres') \\\n",
    "    .collect()"
   ]
  },
  {
   "cell_type": "markdown",
   "metadata": {},
   "source": [
    "### Ваша формулировка\n",
    "\n",
    "На лекции было еще несколько ML формулировок задачи рекомендаций. Выберете одну из них и реализуйте метод."
   ]
  },
  {
   "cell_type": "markdown",
   "metadata": {},
   "source": [
    "## Based on Evaluation of Session-based Recommendation Algorithms: https://arxiv.org/pdf/1803.09587.pdf\n",
    "\n",
    "Found from reference [11] https://dl.acm.org/doi/10.1145/3298689.3347041"
   ]
  },
  {
   "cell_type": "markdown",
   "metadata": {},
   "source": [
    "### Session-based Recommendation"
   ]
  },
  {
   "cell_type": "markdown",
   "metadata": {},
   "source": [
    "### Simple Association Rules (AR)\n",
    "\n",
    "The equation (1) in the paper. The baseline version will treat each user as a single session.\n",
    "\n",
    "The normalizer in the equation (1) could be disregarded, since it only depends on the s, not the i, and used to treat the scores as probabilities. So the score function takes the form of:\n",
    "\n",
    "score_{AR}(i, s) = \\sum_{p\\in S_p} \\sum_{x=1}^{|p|} \\sum_{y=1}^{|p|} 1_{EQ}(s_|s|, p_|x|) 1_{EQ}(i, p_|y|)"
   ]
  },
  {
   "cell_type": "code",
   "execution_count": 16,
   "metadata": {},
   "outputs": [
    {
     "name": "stdout",
     "output_type": "stream",
     "text": [
      "25000095\n",
      "20123411\n",
      "2445623\n",
      "2431061\n"
     ]
    },
    {
     "data": {
      "text/plain": [
       "200208"
      ]
     },
     "execution_count": 16,
     "metadata": {},
     "output_type": "execute_result"
    }
   ],
   "source": [
    "train_ratings_df, dev_ratings_df, test_ratings_df = split_ratings_df()\n",
    "\n",
    "# Subsample for training, since there is not enough memory for pair co-occurence calculation on a single machine.\n",
    "train_ratings_df = train_ratings_df.sample(False, 0.01, seed=SEED).cache()\n",
    "train_ratings_df.count()"
   ]
  },
  {
   "cell_type": "code",
   "execution_count": 17,
   "metadata": {},
   "outputs": [
    {
     "name": "stdout",
     "output_type": "stream",
     "text": [
      "CPU times: user 18 ms, sys: 3.42 ms, total: 21.4 ms\n",
      "Wall time: 8.05 s\n"
     ]
    },
    {
     "data": {
      "text/plain": [
       "[Row(movieId=648, movieId2=648, cooccurrence=320),\n",
       " Row(movieId=46347, movieId2=3033, cooccurrence=1),\n",
       " Row(movieId=49272, movieId2=296, cooccurrence=2),\n",
       " Row(movieId=3852, movieId2=673, cooccurrence=1),\n",
       " Row(movieId=2133, movieId2=4519, cooccurrence=1),\n",
       " Row(movieId=780, movieId2=2471, cooccurrence=1),\n",
       " Row(movieId=5876, movieId2=7121, cooccurrence=1),\n",
       " Row(movieId=6731, movieId2=6731, cooccurrence=12),\n",
       " Row(movieId=111235, movieId2=6971, cooccurrence=1),\n",
       " Row(movieId=98116, movieId2=3430, cooccurrence=1)]"
      ]
     },
     "execution_count": 17,
     "metadata": {},
     "output_type": "execute_result"
    }
   ],
   "source": [
    "%%time\n",
    "\n",
    "cooccurrence_df = train_ratings_df \\\n",
    "    .selectExpr('userId', 'movieId as movieId2') \\\n",
    "    .join(train_ratings_df, 'userId') \\\n",
    "    .select('movieId', 'movieId2') \\\n",
    "    .groupBy('movieId', 'movieId2') \\\n",
    "    .agg(F.count('movieId').alias('cooccurrence')) \\\n",
    "    .cache()\n",
    "\n",
    "cooccurrence_df.take(10)"
   ]
  },
  {
   "cell_type": "code",
   "execution_count": 18,
   "metadata": {},
   "outputs": [
    {
     "data": {
      "text/plain": [
       "Row(movieId=49272, movieId2=296, cooccurrence=2)"
      ]
     },
     "execution_count": 18,
     "metadata": {},
     "output_type": "execute_result"
    }
   ],
   "source": [
    "cooccurrence_df \\\n",
    "    .filter(F.col('movieId') == 49272) \\\n",
    "    .filter(F.col('movieId2') == 296) \\\n",
    "    .head()"
   ]
  },
  {
   "cell_type": "code",
   "execution_count": 19,
   "metadata": {},
   "outputs": [
    {
     "data": {
      "text/plain": [
       "Row(movieId=296, movieId2=49272, cooccurrence=2)"
      ]
     },
     "execution_count": 19,
     "metadata": {},
     "output_type": "execute_result"
    }
   ],
   "source": [
    "cooccurrence_df \\\n",
    "    .filter(F.col('movieId') == 296) \\\n",
    "    .filter(F.col('movieId2') == 49272) \\\n",
    "    .head()"
   ]
  },
  {
   "cell_type": "code",
   "execution_count": 20,
   "metadata": {},
   "outputs": [
    {
     "data": {
      "text/plain": [
       "[Row(userId=148, maxTimestamp=1454942724),\n",
       " Row(userId=463, maxTimestamp=854641157),\n",
       " Row(userId=496, maxTimestamp=1397231655),\n",
       " Row(userId=833, maxTimestamp=1467561417),\n",
       " Row(userId=1238, maxTimestamp=1495912728),\n",
       " Row(userId=1342, maxTimestamp=1429640019),\n",
       " Row(userId=1580, maxTimestamp=1341025712),\n",
       " Row(userId=1829, maxTimestamp=909019436),\n",
       " Row(userId=3749, maxTimestamp=843684126),\n",
       " Row(userId=3794, maxTimestamp=1484585769)]"
      ]
     },
     "execution_count": 20,
     "metadata": {},
     "output_type": "execute_result"
    }
   ],
   "source": [
    "user_max_timestamp_df = train_ratings_df \\\n",
    "    .groupBy('userId') \\\n",
    "    .agg(F.max('timestamp').alias('maxTimestamp')) \\\n",
    "    .cache()\n",
    "\n",
    "user_max_timestamp_df.take(10)"
   ]
  },
  {
   "cell_type": "code",
   "execution_count": 21,
   "metadata": {},
   "outputs": [
    {
     "data": {
      "text/plain": [
       "[Row(userId=148, lastMovieId=1222),\n",
       " Row(userId=463, lastMovieId=648),\n",
       " Row(userId=496, lastMovieId=66200),\n",
       " Row(userId=833, lastMovieId=104841),\n",
       " Row(userId=1238, lastMovieId=55247),\n",
       " Row(userId=1342, lastMovieId=78039),\n",
       " Row(userId=1580, lastMovieId=105),\n",
       " Row(userId=1829, lastMovieId=1474),\n",
       " Row(userId=3749, lastMovieId=589),\n",
       " Row(userId=3794, lastMovieId=96079)]"
      ]
     },
     "execution_count": 21,
     "metadata": {},
     "output_type": "execute_result"
    }
   ],
   "source": [
    "user_last_movie_id_df = train_ratings_df \\\n",
    "    .join(user_max_timestamp_df, (\n",
    "        (train_ratings_df['userId'] == user_max_timestamp_df['userId']) &\n",
    "        (train_ratings_df['timestamp'] == user_max_timestamp_df['maxTimestamp']))) \\\n",
    "    .select(train_ratings_df['userId'], train_ratings_df['movieId'].alias('lastMovieId')) \\\n",
    "    .cache()\n",
    "\n",
    "user_last_movie_id_df.take(10)"
   ]
  },
  {
   "cell_type": "code",
   "execution_count": 22,
   "metadata": {},
   "outputs": [],
   "source": [
    "class AssosiationsRuleModel(object):\n",
    "\n",
    "    def __init__(self, user_last_movie_id_df, cooccurrence_df):\n",
    "        self.user_last_movie_id_df = user_last_movie_id_df\n",
    "        self.cooccurrence_df = cooccurrence_df\n",
    "    \n",
    "    def recommendForUserSubset(self, users_df, N):\n",
    "        def postprocess_recommendations(recommendations):\n",
    "            # Discard the first recommendation since it is always the last movie in the user session from\n",
    "            # the fact that it has the highest co-occurrence with itself.\n",
    "            # We would probably want to discard all movies we have seen in the training ratings set for the user,\n",
    "            # but I do not think it holds for general session-based recommendation problems.\n",
    "            recommendations = recommendations[1:]\n",
    "            # Limit the size up to N.\n",
    "            recommendations = recommendations[:N]\n",
    "            return recommendations\n",
    "\n",
    "        postprocess_recommendations_udf = F.udf(postprocess_recommendations, ArrayType(IntegerType()))\n",
    "        \n",
    "        w = Window.partitionBy('userId').orderBy(F.col('cooccurrence').desc())\n",
    "        \n",
    "        subset_user_last_movie_id_df = users_df \\\n",
    "            .join(self.user_last_movie_id_df, 'userId', how='left') \\\n",
    "            .select('userId', 'lastMovieId')\n",
    "        \n",
    "        user_raw_recommendations_df = subset_user_last_movie_id_df \\\n",
    "            .join(self.cooccurrence_df, \n",
    "                  subset_user_last_movie_id_df['lastMovieId'] == self.cooccurrence_df['movieId'],\n",
    "                  how='left') \\\n",
    "            .withColumn('rawRecommendations', F.collect_list('movieId2').over(w)) \\\n",
    "            .groupBy('userId') \\\n",
    "            .agg(F.max('rawRecommendations').alias('rawRecommendations')) \\\n",
    "            .select('userId', 'rawRecommendations')\n",
    "        \n",
    "        user_recommendations_df = user_raw_recommendations_df \\\n",
    "            .withColumn('recommendations', postprocess_recommendations_udf('rawRecommendations')) \\\n",
    "            .select('userId', 'recommendations')\n",
    "\n",
    "        return user_recommendations_df"
   ]
  },
  {
   "cell_type": "code",
   "execution_count": 23,
   "metadata": {},
   "outputs": [],
   "source": [
    "assosiations_rule_model = AssosiationsRuleModel(user_last_movie_id_df, cooccurrence_df)"
   ]
  },
  {
   "cell_type": "code",
   "execution_count": 24,
   "metadata": {},
   "outputs": [
    {
     "data": {
      "text/plain": [
       "[Row(userId=148, recommendations=[260, 4993, 2918, 1265, 56174, 329, 1094, 2997, 1210, 780]),\n",
       " Row(userId=463, recommendations=[527, 2028, 3527, 377, 608, 1206, 593, 1080, 7153, 6377]),\n",
       " Row(userId=471, recommendations=[]),\n",
       " Row(userId=496, recommendations=[5378, 91535, 5826, 27706, 111375, 5196, 73321, 2858, 3948, 72605]),\n",
       " Row(userId=833, recommendations=[1203, 95510, 5218, 1196, 79132, 4878, 1682, 5618, 97304, 6365]),\n",
       " Row(userId=1088, recommendations=[]),\n",
       " Row(userId=1238, recommendations=[2959, 68358, 5952, 7458, 1610, 1923, 293, 48774, 1580, 6870]),\n",
       " Row(userId=1342, recommendations=[76093, 50872, 4848, 40412, 5096, 6377, 115231, 50601, 97752, 76210]),\n",
       " Row(userId=1580, recommendations=[318, 364, 5, 361, 1213, 1953, 236, 185, 1387, 2987]),\n",
       " Row(userId=1591, recommendations=[])]"
      ]
     },
     "execution_count": 24,
     "metadata": {},
     "output_type": "execute_result"
    }
   ],
   "source": [
    "dev_labels = dev_ratings_df \\\n",
    "    .groupby('userId') \\\n",
    "    .agg(F.collect_set('movieId').alias('labels'))\n",
    "\n",
    "assosiations_rule_model \\\n",
    "    .recommendForUserSubset(dev_labels, 10) \\\n",
    "    .take(10)"
   ]
  },
  {
   "cell_type": "code",
   "execution_count": 25,
   "metadata": {},
   "outputs": [
    {
     "name": "stdout",
     "output_type": "stream",
     "text": [
      "{'NDCG@5': 0.007916663365450152, 'Precision@5': 0.007466423856134762, 'MAP': 0.0019036979068597997, 'Precision@1': 0.008311749035627937, 'Precision@10': 0.006934250435274794, 'NDCG@10': 0.0081844900393176, 'NDCG@1': 0.008311749035627937}\n",
      "CPU times: user 265 ms, sys: 84.2 ms, total: 349 ms\n",
      "Wall time: 1min 19s\n"
     ]
    }
   ],
   "source": [
    "%%time\n",
    "\n",
    "for eval_df in [test_ratings_df]:\n",
    "    metrics = evaluate_recommendations_on(\n",
    "        model=assosiations_rule_model,\n",
    "        recommendations_map_fn=lambda rec: rec,\n",
    "        df=eval_df)\n",
    "    print(metrics)\n",
    "    \n",
    "ASSOSIATIONS_RULE_MODEL_HANDLE = '2.assosiations_rule_model'\n",
    "all_metrics[ASSOSIATIONS_RULE_MODEL_HANDLE] = metrics"
   ]
  },
  {
   "cell_type": "markdown",
   "metadata": {},
   "source": [
    "## Hyperparameter optimization\n",
    "\n",
    "Tune the parameters on 1% of the data, but train the final model on the full dataset."
   ]
  },
  {
   "cell_type": "code",
   "execution_count": 26,
   "metadata": {},
   "outputs": [
    {
     "name": "stdout",
     "output_type": "stream",
     "text": [
      "249572\n",
      "239953\n",
      "5333\n",
      "4286\n"
     ]
    }
   ],
   "source": [
    "train_ratings_df, dev_ratings_df, test_ratings_df = split_ratings_df(sampling_rate=0.01)"
   ]
  },
  {
   "cell_type": "code",
   "execution_count": 27,
   "metadata": {},
   "outputs": [
    {
     "name": "stdout",
     "output_type": "stream",
     "text": [
      "Requirement already satisfied: hyperopt in /usr/lib/python3.5/site-packages (0.2.3)\n",
      "Requirement already satisfied: future in /usr/lib/python3.5/site-packages (from hyperopt) (0.18.2)\n",
      "Requirement already satisfied: tqdm in /usr/lib/python3.5/site-packages (from hyperopt) (4.45.0)\n",
      "Requirement already satisfied: networkx==2.2 in /usr/lib/python3.5/site-packages (from hyperopt) (2.2)\n",
      "Requirement already satisfied: cloudpickle in /usr/lib/python3.5/site-packages (from hyperopt) (1.3.0)\n",
      "Requirement already satisfied: numpy in /usr/lib64/python3.5/site-packages (from hyperopt) (1.17.2)\n",
      "Requirement already satisfied: scipy in /usr/lib64/python3.5/site-packages (from hyperopt) (1.3.3)\n",
      "Requirement already satisfied: six in /usr/lib/python3.5/site-packages (from hyperopt) (1.14.0)\n",
      "Requirement already satisfied: decorator>=4.3.0 in /usr/lib/python3.5/site-packages (from networkx==2.2->hyperopt) (4.4.1)\n"
     ]
    }
   ],
   "source": [
    "!pip3.5 install hyperopt"
   ]
  },
  {
   "cell_type": "code",
   "execution_count": 28,
   "metadata": {},
   "outputs": [],
   "source": [
    "from hyperopt import fmin, tpe, hp, Trials, STATUS_OK"
   ]
  },
  {
   "cell_type": "code",
   "execution_count": 29,
   "metadata": {},
   "outputs": [],
   "source": [
    "def als_objective(space):\n",
    "    estimator = ALS(**space)\n",
    "    print('SPACE: ' + str(space))\n",
    "    success = False\n",
    "    attempts = 0\n",
    "    model = None\n",
    "    while not success and attempts < 2:\n",
    "        try:\n",
    "            model = estimator.fit(train_ratings_df)\n",
    "            success = True\n",
    "        except Exception as e:\n",
    "            attempts += 1\n",
    "            print(e)\n",
    "            print('Try again')\n",
    "        \n",
    "    dev_metrics = evaluate_recommendations_on(\n",
    "        model=model,\n",
    "        recommendations_map_fn=lambda rec: rec.movieId,\n",
    "        df=dev_ratings_df)    \n",
    "    print('METRICS: ' + str(dev_metrics))\n",
    "    \n",
    "    trial_status_dict = {\n",
    "        'loss': -dev_metrics['MAP'],\n",
    "        'status': STATUS_OK,\n",
    "    }\n",
    "    return trial_status_dict"
   ]
  },
  {
   "cell_type": "code",
   "execution_count": 30,
   "metadata": {},
   "outputs": [],
   "source": [
    "def tune_als_paired_params(space, param1_name, param1_choice, param2_name, param2_choice):\n",
    "    assert param1_name in space\n",
    "    assert param2_name in space\n",
    "\n",
    "    space[param1_name] = hp.choice(param1_name, param1_choice)\n",
    "    space[param2_name] = hp.choice(param2_name, param2_choice)\n",
    "\n",
    "    trials = Trials()\n",
    "    best_choices = fmin(fn=als_objective,\n",
    "                        space=space,\n",
    "                        algo=tpe.suggest,\n",
    "                        max_evals=5,\n",
    "                        trials=trials)\n",
    "\n",
    "    space[param1_name] = param1_choice[best_choices[param1_name]]\n",
    "    space[param2_name] = param2_choice[best_choices[param2_name]]\n",
    "    \n",
    "    return space"
   ]
  },
  {
   "cell_type": "code",
   "execution_count": 31,
   "metadata": {},
   "outputs": [],
   "source": [
    "space = get_baseline_als_space()"
   ]
  },
  {
   "cell_type": "markdown",
   "metadata": {},
   "source": [
    "### Tuning the higher level model definition parameters which considers whether to use explicit or implicit user preferences"
   ]
  },
  {
   "cell_type": "code",
   "execution_count": 33,
   "metadata": {},
   "outputs": [
    {
     "name": "stdout",
     "output_type": "stream",
     "text": [
      "SPACE: {'implicitPrefs': True, 'numItemBlocks': 10, 'rank': 10, 'nonnegative': False, 'userCol': 'userId', 'ratingCol': 'rating', 'numUserBlocks': 10, 'itemCol': 'movieId', 'seed': 90, 'regParam': 0.1, 'coldStartStrategy': 'nan', 'maxIter': 10, 'alpha': 0.75}\n",
      "METRICS: {'NDCG@5': 0.0005588813327732003, 'Precision@5': 0.00018260671079662174, 'MAP': 0.0005598671028938093, 'Precision@1': 0.00022825838849577741, 'Precision@10': 0.00018260671079662182, 'NDCG@10': 0.0008468902088005061, 'NDCG@1': 0.00022825838849577736}\n",
      "SPACE: {'implicitPrefs': True, 'numItemBlocks': 10, 'rank': 10, 'nonnegative': False, 'userCol': 'userId', 'ratingCol': 'rating', 'numUserBlocks': 10, 'itemCol': 'movieId', 'seed': 90, 'regParam': 0.1, 'coldStartStrategy': 'nan', 'maxIter': 10, 'alpha': 1.25}\n",
      "METRICS: {'NDCG@5': 0.000657186869881941, 'Precision@5': 0.0002739100661949327, 'MAP': 0.000566479349862139, 'Precision@1': 0.0, 'Precision@10': 0.00027391006619493266, 'NDCG@10': 0.0010431175396105692, 'NDCG@1': 0.0}\n",
      "SPACE: {'implicitPrefs': False, 'numItemBlocks': 10, 'rank': 10, 'nonnegative': False, 'userCol': 'userId', 'ratingCol': 'rating', 'numUserBlocks': 10, 'itemCol': 'movieId', 'seed': 90, 'regParam': 0.1, 'coldStartStrategy': 'nan', 'maxIter': 10, 'alpha': 0.75}\n",
      "METRICS: {'NDCG@5': 0.0004590055528962294, 'Precision@5': 0.00018260671079662174, 'MAP': 0.00038233280073042704, 'Precision@1': 0.00022825838849577744, 'Precision@10': 0.00011412919424788868, 'NDCG@10': 0.0005310130572983582, 'NDCG@1': 0.00022825838849577752}\n",
      "SPACE: {'implicitPrefs': True, 'numItemBlocks': 10, 'rank': 10, 'nonnegative': False, 'userCol': 'userId', 'ratingCol': 'rating', 'numUserBlocks': 10, 'itemCol': 'movieId', 'seed': 90, 'regParam': 0.1, 'coldStartStrategy': 'nan', 'maxIter': 10, 'alpha': 1.0}\n",
      "METRICS: {'NDCG@5': 0.0006371805923933077, 'Precision@5': 0.0002282583884957773, 'MAP': 0.0006054282018673712, 'Precision@1': 0.0002282583884957774, 'Precision@10': 0.0002054325496461994, 'NDCG@10': 0.0009366416013165164, 'NDCG@1': 0.0002282583884957772}\n",
      "SPACE: {'implicitPrefs': False, 'numItemBlocks': 10, 'rank': 10, 'nonnegative': False, 'userCol': 'userId', 'ratingCol': 'rating', 'numUserBlocks': 10, 'itemCol': 'movieId', 'seed': 90, 'regParam': 0.1, 'coldStartStrategy': 'nan', 'maxIter': 10, 'alpha': 0.75}\n",
      "METRICS: {'NDCG@5': 0.00045900555289622914, 'Precision@5': 0.0001826067107966218, 'MAP': 0.00038233280073042704, 'Precision@1': 0.00022825838849577758, 'Precision@10': 0.00011412919424788865, 'NDCG@10': 0.0005310130572983582, 'NDCG@1': 0.0002282583884957775}\n",
      "100%|██████████| 5/5 [03:05<00:00, 37.17s/trial, best loss: -0.0006054282018673712]\n",
      "CPU times: user 1.11 s, sys: 388 ms, total: 1.5 s\n",
      "Wall time: 3min 5s\n"
     ]
    },
    {
     "data": {
      "text/plain": [
       "{'alpha': 1.0,\n",
       " 'coldStartStrategy': 'nan',\n",
       " 'implicitPrefs': True,\n",
       " 'itemCol': 'movieId',\n",
       " 'maxIter': 10,\n",
       " 'nonnegative': False,\n",
       " 'numItemBlocks': 10,\n",
       " 'numUserBlocks': 10,\n",
       " 'rank': 10,\n",
       " 'ratingCol': 'rating',\n",
       " 'regParam': 0.1,\n",
       " 'seed': 90,\n",
       " 'userCol': 'userId'}"
      ]
     },
     "execution_count": 33,
     "metadata": {},
     "output_type": "execute_result"
    }
   ],
   "source": [
    "%%time\n",
    "\n",
    "tune_als_paired_params(space, 'implicitPrefs', [True, False], 'alpha', [0.75, 1.0, 1.25, 1.5])"
   ]
  },
  {
   "cell_type": "markdown",
   "metadata": {},
   "source": [
    "### Tuning the factorization limitations"
   ]
  },
  {
   "cell_type": "code",
   "execution_count": 38,
   "metadata": {},
   "outputs": [
    {
     "name": "stdout",
     "output_type": "stream",
     "text": [
      "SPACE: {'implicitPrefs': True, 'numItemBlocks': 10, 'rank': 8, 'nonnegative': True, 'userCol': 'userId', 'ratingCol': 'rating', 'numUserBlocks': 10, 'itemCol': 'movieId', 'seed': 90, 'regParam': 1.0, 'coldStartStrategy': 'nan', 'maxIter': 12, 'alpha': 1.0}\n",
      "METRICS: {'NDCG@5': 0.0008029633784081257, 'Precision@5': 0.0002739100661949328, 'MAP': 0.0008525269652866089, 'Precision@1': 0.00022825838849577722, 'Precision@10': 0.0003423875827436659, 'NDCG@10': 0.0013894059677839019, 'NDCG@1': 0.00022825838849577706}\n",
      "SPACE: {'implicitPrefs': True, 'numItemBlocks': 10, 'rank': 12, 'nonnegative': True, 'userCol': 'userId', 'ratingCol': 'rating', 'numUserBlocks': 10, 'itemCol': 'movieId', 'seed': 90, 'regParam': 0.1, 'coldStartStrategy': 'nan', 'maxIter': 8, 'alpha': 1.0}\n",
      "METRICS: {'NDCG@5': 0.0008872067580996447, 'Precision@5': 0.00027391006619493266, 'MAP': 0.0009428339547033911, 'Precision@1': 0.0004565167769915549, 'Precision@10': 0.00029673590504451054, 'NDCG@10': 0.0013904146709633567, 'NDCG@1': 0.00045651677699155445}\n",
      "SPACE: {'implicitPrefs': True, 'numItemBlocks': 10, 'rank': 12, 'nonnegative': True, 'userCol': 'userId', 'ratingCol': 'rating', 'numUserBlocks': 10, 'itemCol': 'movieId', 'seed': 90, 'regParam': 1.0, 'coldStartStrategy': 'nan', 'maxIter': 8, 'alpha': 1.0}\n",
      "METRICS: {'NDCG@5': 0.0004646348143373654, 'Precision@5': 0.00018260671079662187, 'MAP': 0.0005371318427698251, 'Precision@1': 0.0, 'Precision@10': 0.00027391006619493277, 'NDCG@10': 0.0010161019426749936, 'NDCG@1': 0.0}\n",
      "SPACE: {'implicitPrefs': True, 'numItemBlocks': 10, 'rank': 8, 'nonnegative': True, 'userCol': 'userId', 'ratingCol': 'rating', 'numUserBlocks': 10, 'itemCol': 'movieId', 'seed': 90, 'regParam': 1.0, 'coldStartStrategy': 'nan', 'maxIter': 12, 'alpha': 1.0}\n",
      "METRICS: {'NDCG@5': 0.0008029633784081263, 'Precision@5': 0.0002739100661949328, 'MAP': 0.0008525269652866089, 'Precision@1': 0.00022825838849577733, 'Precision@10': 0.00034238758274366575, 'NDCG@10': 0.001389405967783903, 'NDCG@1': 0.00022825838849577722}\n",
      "SPACE: {'implicitPrefs': True, 'numItemBlocks': 10, 'rank': 12, 'nonnegative': False, 'userCol': 'userId', 'ratingCol': 'rating', 'numUserBlocks': 10, 'itemCol': 'movieId', 'seed': 90, 'regParam': 0.01, 'coldStartStrategy': 'nan', 'maxIter': 10, 'alpha': 1.0}\n",
      "METRICS: {'NDCG@5': 0.0006589483696038672, 'Precision@5': 0.00018260671079662187, 'MAP': 0.0008198280453473333, 'Precision@1': 0.00045651677699155483, 'Precision@10': 0.00029673590504451065, 'NDCG@10': 0.0012782508273973402, 'NDCG@1': 0.0004565167769915544}\n",
      "100%|██████████| 5/5 [03:17<00:00, 39.49s/trial, best loss: -0.0009428339547033911]\n",
      "CPU times: user 1.14 s, sys: 399 ms, total: 1.53 s\n",
      "Wall time: 3min 17s\n"
     ]
    },
    {
     "data": {
      "text/plain": [
       "{'alpha': 1.0,\n",
       " 'coldStartStrategy': 'nan',\n",
       " 'implicitPrefs': True,\n",
       " 'itemCol': 'movieId',\n",
       " 'maxIter': <hyperopt.pyll.base.Apply at 0x7f62d6ada9b0>,\n",
       " 'nonnegative': True,\n",
       " 'numItemBlocks': 10,\n",
       " 'numUserBlocks': 10,\n",
       " 'rank': 12,\n",
       " 'ratingCol': 'rating',\n",
       " 'regParam': <hyperopt.pyll.base.Apply at 0x7f62d6adac50>,\n",
       " 'seed': 90,\n",
       " 'userCol': 'userId'}"
      ]
     },
     "execution_count": 38,
     "metadata": {},
     "output_type": "execute_result"
    }
   ],
   "source": [
    "%%time\n",
    "\n",
    "tune_als_paired_params(space, 'rank', [8, 10, 12, 15], 'nonnegative', [True, False])"
   ]
  },
  {
   "cell_type": "markdown",
   "metadata": {},
   "source": [
    "### Tuning the best training procedure for the tuned above model kind "
   ]
  },
  {
   "cell_type": "code",
   "execution_count": 39,
   "metadata": {},
   "outputs": [
    {
     "name": "stdout",
     "output_type": "stream",
     "text": [
      "SPACE: {'implicitPrefs': True, 'numItemBlocks': 10, 'rank': 12, 'nonnegative': True, 'userCol': 'userId', 'ratingCol': 'rating', 'numUserBlocks': 10, 'itemCol': 'movieId', 'seed': 90, 'regParam': 0.1, 'coldStartStrategy': 'nan', 'maxIter': 8, 'alpha': 1.0}\n",
      "METRICS: {'NDCG@5': 0.0008872067580996445, 'Precision@5': 0.00027391006619493277, 'MAP': 0.0009428339547033905, 'Precision@1': 0.00045651677699155466, 'Precision@10': 0.0002967359050445105, 'NDCG@10': 0.0013904146709633547, 'NDCG@1': 0.0004565167769915546}\n",
      "SPACE: {'implicitPrefs': True, 'numItemBlocks': 10, 'rank': 12, 'nonnegative': True, 'userCol': 'userId', 'ratingCol': 'rating', 'numUserBlocks': 10, 'itemCol': 'movieId', 'seed': 90, 'regParam': 0.1, 'coldStartStrategy': 'nan', 'maxIter': 8, 'alpha': 1.0}\n",
      "METRICS: {'NDCG@5': 0.0008872067580996447, 'Precision@5': 0.0002739100661949328, 'MAP': 0.0009428339547033904, 'Precision@1': 0.0004565167769915544, 'Precision@10': 0.0002967359050445104, 'NDCG@10': 0.001390414670963356, 'NDCG@1': 0.0004565167769915543}\n",
      "SPACE: {'implicitPrefs': True, 'numItemBlocks': 10, 'rank': 12, 'nonnegative': True, 'userCol': 'userId', 'ratingCol': 'rating', 'numUserBlocks': 10, 'itemCol': 'movieId', 'seed': 90, 'regParam': 0.1, 'coldStartStrategy': 'nan', 'maxIter': 8, 'alpha': 1.0}\n",
      "METRICS: {'NDCG@5': 0.0008872067580996443, 'Precision@5': 0.00027391006619493293, 'MAP': 0.0009428339547033909, 'Precision@1': 0.00045651677699155445, 'Precision@10': 0.00029673590504451054, 'NDCG@10': 0.0013904146709633556, 'NDCG@1': 0.00045651677699155456}\n",
      "SPACE: {'implicitPrefs': True, 'numItemBlocks': 10, 'rank': 12, 'nonnegative': True, 'userCol': 'userId', 'ratingCol': 'rating', 'numUserBlocks': 10, 'itemCol': 'movieId', 'seed': 90, 'regParam': 0.01, 'coldStartStrategy': 'nan', 'maxIter': 10, 'alpha': 1.0}\n",
      "METRICS: {'NDCG@5': 0.000899698672748635, 'Precision@5': 0.0003195617438940883, 'MAP': 0.0009146186816809968, 'Precision@1': 0.0004565167769915544, 'Precision@10': 0.00031956174389408825, 'NDCG@10': 0.00140049933793393, 'NDCG@1': 0.00045651677699155396}\n",
      "SPACE: {'implicitPrefs': True, 'numItemBlocks': 10, 'rank': 12, 'nonnegative': True, 'userCol': 'userId', 'ratingCol': 'rating', 'numUserBlocks': 10, 'itemCol': 'movieId', 'seed': 90, 'regParam': 0.01, 'coldStartStrategy': 'nan', 'maxIter': 12, 'alpha': 1.0}\n",
      "METRICS: {'NDCG@5': 0.0008372350405226007, 'Precision@5': 0.0002739100661949327, 'MAP': 0.0009204610094817813, 'Precision@1': 0.0004565167769915544, 'Precision@10': 0.00031956174389408836, 'NDCG@10': 0.001406517974662268, 'NDCG@1': 0.0004565167769915547}\n",
      "100%|██████████| 5/5 [03:16<00:00, 39.31s/trial, best loss: -0.0009428339547033909]\n",
      "CPU times: user 1.14 s, sys: 424 ms, total: 1.56 s\n",
      "Wall time: 3min 16s\n"
     ]
    },
    {
     "data": {
      "text/plain": [
       "{'alpha': 1.0,\n",
       " 'coldStartStrategy': 'nan',\n",
       " 'implicitPrefs': True,\n",
       " 'itemCol': 'movieId',\n",
       " 'maxIter': 8,\n",
       " 'nonnegative': True,\n",
       " 'numItemBlocks': 10,\n",
       " 'numUserBlocks': 10,\n",
       " 'rank': 12,\n",
       " 'ratingCol': 'rating',\n",
       " 'regParam': 0.1,\n",
       " 'seed': 90,\n",
       " 'userCol': 'userId'}"
      ]
     },
     "execution_count": 39,
     "metadata": {},
     "output_type": "execute_result"
    }
   ],
   "source": [
    "%%time\n",
    "\n",
    "tune_als_paired_params(space, 'maxIter', [8, 10, 12], 'regParam', [1e-2, 1e-1, 1e-0])"
   ]
  },
  {
   "cell_type": "markdown",
   "metadata": {},
   "source": [
    "As noted before we use the whole ratingss set for the training and evaluation of the tuned ALS model."
   ]
  },
  {
   "cell_type": "code",
   "execution_count": null,
   "metadata": {},
   "outputs": [],
   "source": [
    "train_ratings_df, dev_ratings_df, test_ratings_df = split_ratings_df()"
   ]
  },
  {
   "cell_type": "code",
   "execution_count": null,
   "metadata": {},
   "outputs": [],
   "source": [
    "als = ALS(**space)\n",
    "tuned_als_model = als.fit(train_ratings_df)"
   ]
  },
  {
   "cell_type": "code",
   "execution_count": null,
   "metadata": {},
   "outputs": [],
   "source": [
    "%%time\n",
    "\n",
    "for eval_df in [test_ratings_df]:\n",
    "    metrics = evaluate_recommendations_on(\n",
    "        model=tuned_als_model,\n",
    "        recommendations_map_fn=lambda rec: rec.movieId,\n",
    "        df=eval_df)\n",
    "    print(metrics)\n",
    "    \n",
    "TUNED_ALS_HANDLE = '3.als_tuned'\n",
    "all_metrics[TUNED_ALS_HANDLE] = metrics"
   ]
  },
  {
   "cell_type": "markdown",
   "metadata": {},
   "source": [
    "## Evaluation Results\n",
    "\n",
    "Сравните реализованные методы с помощью выбранных метрик. Не забывайте про оптимизацию гиперпараметров."
   ]
  },
  {
   "cell_type": "code",
   "execution_count": 32,
   "metadata": {},
   "outputs": [
    {
     "data": {
      "text/html": [
       "<div>\n",
       "<style scoped>\n",
       "    .dataframe tbody tr th:only-of-type {\n",
       "        vertical-align: middle;\n",
       "    }\n",
       "\n",
       "    .dataframe tbody tr th {\n",
       "        vertical-align: top;\n",
       "    }\n",
       "\n",
       "    .dataframe thead th {\n",
       "        text-align: right;\n",
       "    }\n",
       "</style>\n",
       "<table border=\"1\" class=\"dataframe\">\n",
       "  <thead>\n",
       "    <tr style=\"text-align: right;\">\n",
       "      <th></th>\n",
       "      <th>1.als_baseline</th>\n",
       "      <th>2.assosiations_rule_model</th>\n",
       "    </tr>\n",
       "  </thead>\n",
       "  <tbody>\n",
       "    <tr>\n",
       "      <th>MAP</th>\n",
       "      <td>0.0</td>\n",
       "      <td>230471.858756</td>\n",
       "    </tr>\n",
       "    <tr>\n",
       "      <th>NDCG@1</th>\n",
       "      <td>0.0</td>\n",
       "      <td>16787.500000</td>\n",
       "    </tr>\n",
       "    <tr>\n",
       "      <th>NDCG@10</th>\n",
       "      <td>0.0</td>\n",
       "      <td>47154.894901</td>\n",
       "    </tr>\n",
       "    <tr>\n",
       "      <th>NDCG@5</th>\n",
       "      <td>0.0</td>\n",
       "      <td>33744.044662</td>\n",
       "    </tr>\n",
       "    <tr>\n",
       "      <th>Precision@1</th>\n",
       "      <td>0.0</td>\n",
       "      <td>16787.500000</td>\n",
       "    </tr>\n",
       "    <tr>\n",
       "      <th>Precision@10</th>\n",
       "      <td>0.0</td>\n",
       "      <td>59221.052632</td>\n",
       "    </tr>\n",
       "    <tr>\n",
       "      <th>Precision@5</th>\n",
       "      <td>0.0</td>\n",
       "      <td>43242.857143</td>\n",
       "    </tr>\n",
       "  </tbody>\n",
       "</table>\n",
       "</div>"
      ],
      "text/plain": [
       "              1.als_baseline  2.assosiations_rule_model\n",
       "MAP                      0.0              230471.858756\n",
       "NDCG@1                   0.0               16787.500000\n",
       "NDCG@10                  0.0               47154.894901\n",
       "NDCG@5                   0.0               33744.044662\n",
       "Precision@1              0.0               16787.500000\n",
       "Precision@10             0.0               59221.052632\n",
       "Precision@5              0.0               43242.857143"
      ]
     },
     "execution_count": 32,
     "metadata": {},
     "output_type": "execute_result"
    }
   ],
   "source": [
    "get_ate(all_metrics, BASELINE_HANDLE)"
   ]
  },
  {
   "cell_type": "code",
   "execution_count": null,
   "metadata": {},
   "outputs": [],
   "source": []
  }
 ],
 "metadata": {
  "kernelspec": {
   "display_name": "Python 3",
   "language": "python",
   "name": "python3"
  },
  "language_info": {
   "codemirror_mode": {
    "name": "ipython",
    "version": 3
   },
   "file_extension": ".py",
   "mimetype": "text/x-python",
   "name": "python",
   "nbconvert_exporter": "python",
   "pygments_lexer": "ipython3",
   "version": "3.5.6"
  },
  "toc": {
   "base_numbering": 1,
   "nav_menu": {},
   "number_sections": true,
   "sideBar": true,
   "skip_h1_title": false,
   "title_cell": "Table of Contents",
   "title_sidebar": "Contents",
   "toc_cell": true,
   "toc_position": {},
   "toc_section_display": true,
   "toc_window_display": true
  }
 },
 "nbformat": 4,
 "nbformat_minor": 2
}
