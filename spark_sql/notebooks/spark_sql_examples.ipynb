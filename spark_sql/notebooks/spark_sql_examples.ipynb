{
 "cells": [
  {
   "cell_type": "markdown",
   "metadata": {},
   "source": [
    "# Spark SQL\n",
    "\n",
    "Before you begin, make sure that you've installed spark of version `2.3` or higher (see `README.md`)\n",
    "\n",
    "**Links**\n",
    "\n",
    "* https://spark.apache.org/docs/latest/sql-getting-started.html"
   ]
  },
  {
   "cell_type": "code",
   "execution_count": 1,
   "metadata": {},
   "outputs": [
    {
     "name": "stdout",
     "output_type": "stream",
     "text": [
      "/workspace/spark_sql/notebooks\r\n",
      "-rw-r--r-- 1 root root 1.2K Feb  2 16:36 README.md\r\n"
     ]
    }
   ],
   "source": [
    "!pwd && ls -lah | grep README"
   ]
  },
  {
   "cell_type": "markdown",
   "metadata": {},
   "source": [
    "## Запуск spark"
   ]
  },
  {
   "cell_type": "code",
   "execution_count": 2,
   "metadata": {},
   "outputs": [],
   "source": [
    "%matplotlib inline\n",
    "%config InlineBackend.figure_format ='retina'\n",
    "\n",
    "import os\n",
    "import sys\n",
    "import glob\n",
    "import pickle\n",
    "import seaborn as sns\n",
    "import matplotlib.pyplot as plt\n",
    "\n",
    "import pyspark\n",
    "from pyspark.conf import SparkConf\n",
    "from pyspark.sql import SQLContext\n",
    "from pyspark.sql import SparkSession\n",
    "\n",
    "\n",
    "spark = SparkSession \\\n",
    "    .builder \\\n",
    "    .master('local[*]') \\\n",
    "    .appName(\"spark_sql_examples\") \\\n",
    "    .config(\"spark.executor.memory\", \"8g\") \\\n",
    "    .getOrCreate()\n",
    "\n",
    "sc = spark.sparkContext\n",
    "sqlContext = SQLContext(sc)"
   ]
  },
  {
   "cell_type": "code",
   "execution_count": 3,
   "metadata": {},
   "outputs": [],
   "source": [
    "# TODO: Fix for faster protyping on a laptop. ratings_sample.csv contains 0.001 of the dataset.\n",
    "\n",
    "# ratings_sample = ratings_df.sample(False, 0.001, seed=63)\n",
    "\n",
    "# ratings_sample.count()\n",
    "\n",
    "# ratings_sample.take(10)\n",
    "\n",
    "# ratings_sample.printSchema()\n",
    "\n",
    "\n",
    "# ratings_sample \\\n",
    "#     .write \\\n",
    "#     .format('com.databricks.spark.csv') \\\n",
    "#     .mode('overwrite') \\\n",
    "#     .csv(os.path.join(DATA_PATH, \"ratings_sample.csv\"), header=True, sep=',')"
   ]
  },
  {
   "cell_type": "code",
   "execution_count": 4,
   "metadata": {},
   "outputs": [],
   "source": [
    "DATA_PATH = '/workspace/data/ml-25m'\n",
    "\n",
    "RATINGS_PATH = os.path.join(DATA_PATH, 'ratings_sample.csv')\n",
    "MOVIES_PATH = os.path.join(DATA_PATH, 'movies.csv')\n",
    "TAGS_PATH = os.path.join(DATA_PATH, 'tags.csv')"
   ]
  },
  {
   "cell_type": "markdown",
   "metadata": {},
   "source": [
    "---\n",
    "## DataFrame creation\n",
    "\n",
    "DataFrame можно создать несколькими способами:\n",
    "\n",
    "* из файла\n",
    "* из существующего RDD\n",
    "* из другого DataFrame'a\n",
    "\n",
    "### From file\n",
    "\n",
    "В случае с созданием из csv файла, может понадобится указать схему"
   ]
  },
  {
   "cell_type": "code",
   "execution_count": 5,
   "metadata": {},
   "outputs": [],
   "source": [
    "from pyspark.sql.types import *\n",
    "\n",
    "\n",
    "# schema = StructType([\n",
    "#     StructField('user_id', IntegerType()),\n",
    "#     StructField('movie_id', IntegerType()),\n",
    "#     StructField('rating', FloatType()),\n",
    "#     StructField('timestamp', IntegerType())\n",
    "# ])\n",
    "\n",
    "schema = StructType([\n",
    "    StructField('movie_id', IntegerType()),\n",
    "    StructField('rating', FloatType()),\n",
    "    StructField('timestamp', IntegerType()),\n",
    "    StructField('user_id', IntegerType()),\n",
    "])\n",
    "\n",
    "ratings_df = sqlContext.read \\\n",
    "    .format('com.databricks.spark.csv') \\\n",
    "    .schema(schema) \\\n",
    "    .options(header='true', delimiter=',') \\\n",
    "    .load('file:///' + RATINGS_PATH)"
   ]
  },
  {
   "cell_type": "code",
   "execution_count": 6,
   "metadata": {},
   "outputs": [
    {
     "name": "stdout",
     "output_type": "stream",
     "text": [
      "root\n",
      " |-- movie_id: integer (nullable = true)\n",
      " |-- rating: float (nullable = true)\n",
      " |-- timestamp: integer (nullable = true)\n",
      " |-- user_id: integer (nullable = true)\n",
      "\n"
     ]
    }
   ],
   "source": [
    "ratings_df.printSchema()"
   ]
  },
  {
   "cell_type": "code",
   "execution_count": 7,
   "metadata": {},
   "outputs": [
    {
     "data": {
      "text/plain": [
       "[Row(movie_id=1373, rating=3.0, timestamp=979972198, user_id=65346),\n",
       " Row(movie_id=2640, rating=4.0, timestamp=979972646, user_id=65346),\n",
       " Row(movie_id=2822, rating=2.5, timestamp=1101236534, user_id=65365),\n",
       " Row(movie_id=82461, rating=3.0, timestamp=1386723589, user_id=65365),\n",
       " Row(movie_id=2065, rating=4.0, timestamp=939500148, user_id=65376)]"
      ]
     },
     "execution_count": 7,
     "metadata": {},
     "output_type": "execute_result"
    }
   ],
   "source": [
    "ratings_df.take(5)"
   ]
  },
  {
   "cell_type": "markdown",
   "metadata": {},
   "source": [
    "### From RDD\n",
    "\n",
    "Для того чтобы построить DataFrame из RDD нужно у RDD вызвать метод `toDF`.\n",
    "\n",
    "*Remark:* RDD можно получить из DataFrame с помощью аттрибута `rdd`."
   ]
  },
  {
   "cell_type": "code",
   "execution_count": 8,
   "metadata": {},
   "outputs": [],
   "source": [
    "# ratings = sc.textFile('file:///' + RATINGS_PATH)"
   ]
  },
  {
   "cell_type": "code",
   "execution_count": 9,
   "metadata": {},
   "outputs": [],
   "source": [
    "# ratings.take(5)"
   ]
  },
  {
   "cell_type": "code",
   "execution_count": 10,
   "metadata": {},
   "outputs": [],
   "source": [
    "# from pyspark.sql import Row\n",
    "\n",
    "\n",
    "# ratings_df = ratings \\\n",
    "#     .map(lambda s: s.split(',')) \\\n",
    "#     .filter(lambda arr: arr[0].isdigit()) \\\n",
    "#     .map(lambda arr: Row(movie_id=int(arr[0]), \n",
    "#                          rating=float(arr[1]), \n",
    "#                          timestamp=int(arr[2]),\n",
    "#                          user_id=int(arr[3])))\\\n",
    "#     .toDF()"
   ]
  },
  {
   "cell_type": "code",
   "execution_count": 11,
   "metadata": {},
   "outputs": [],
   "source": [
    "# ratings_df.printSchema()"
   ]
  },
  {
   "cell_type": "markdown",
   "metadata": {},
   "source": [
    "---\n",
    "## DataFrame API"
   ]
  },
  {
   "cell_type": "code",
   "execution_count": 12,
   "metadata": {},
   "outputs": [],
   "source": [
    "import pyspark.sql.functions as F\n",
    "\n",
    "\n",
    "movies_df = sqlContext.read.format(\"com.databricks.spark.csv\") \\\n",
    "    .option(\"delimiter\", \",\") \\\n",
    "    .option(\"header\", \"true\") \\\n",
    "    .option(\"inferSchema\", \"true\") \\\n",
    "    .load('file:///' + MOVIES_PATH)"
   ]
  },
  {
   "cell_type": "code",
   "execution_count": 13,
   "metadata": {},
   "outputs": [
    {
     "name": "stdout",
     "output_type": "stream",
     "text": [
      "root\n",
      " |-- movieId: integer (nullable = true)\n",
      " |-- title: string (nullable = true)\n",
      " |-- genres: string (nullable = true)\n",
      "\n"
     ]
    }
   ],
   "source": [
    "movies_df.printSchema()"
   ]
  },
  {
   "cell_type": "markdown",
   "metadata": {},
   "source": [
    "### Фильмы с наибольшим средним рейтингом\n",
    "\n",
    "Найти 10 фильмов с наибольшим средним рейтингом. Вывести их названия и средний рейтинг.\n",
    "\n",
    "Сравните код ниже с кодом, использующим RDD API (см. `apache_spark/notebooks/spark_examples.ipynb`):\n",
    "\n",
    "```\n",
    "ratings \\\n",
    "    .map(lambda r: (r.movie_id, (r.rating, 1))) \\\n",
    "    .reduceByKey(lambda a, b: (a[0] + b[0], a[1] + b[1])) \\\n",
    "    .mapValues(lambda ratings: ratings[0] / ratings[1]) \\\n",
    "    .join(movies) \\\n",
    "    .sortBy(lambda key_value: key_value[1][0], ascending=False) \\\n",
    "    .take(10)\n",
    "```"
   ]
  },
  {
   "cell_type": "code",
   "execution_count": 14,
   "metadata": {
    "scrolled": true
   },
   "outputs": [
    {
     "data": {
      "text/plain": [
       "[Row(movie_id=304, mean_rating=5.0, ratings_count=1, movieId=304, title='Roommates (1995)', genres='Comedy|Drama'),\n",
       " Row(movie_id=394, mean_rating=5.0, ratings_count=1, movieId=394, title='Coldblooded (1995)', genres='Comedy'),\n",
       " Row(movie_id=13, mean_rating=5.0, ratings_count=1, movieId=13, title='Balto (1995)', genres='Adventure|Animation|Children'),\n",
       " Row(movie_id=178, mean_rating=5.0, ratings_count=1, movieId=178, title='Love & Human Remains (1993)', genres='Comedy|Drama'),\n",
       " Row(movie_id=49, mean_rating=5.0, ratings_count=1, movieId=49, title='When Night Is Falling (1995)', genres='Drama|Romance'),\n",
       " Row(movie_id=195, mean_rating=5.0, ratings_count=1, movieId=195, title='Something to Talk About (1995)', genres='Comedy|Drama|Romance'),\n",
       " Row(movie_id=90, mean_rating=5.0, ratings_count=1, movieId=90, title='The Journey of August King (1995)', genres='Drama'),\n",
       " Row(movie_id=243, mean_rating=5.0, ratings_count=1, movieId=243, title='Gordy (1995)', genres='Children|Comedy|Fantasy'),\n",
       " Row(movie_id=37, mean_rating=5.0, ratings_count=1, movieId=37, title='Across the Sea of Time (1995)', genres='Documentary|IMAX'),\n",
       " Row(movie_id=289, mean_rating=5.0, ratings_count=1, movieId=289, title='Only You (1994)', genres='Comedy|Romance')]"
      ]
     },
     "execution_count": 14,
     "metadata": {},
     "output_type": "execute_result"
    }
   ],
   "source": [
    "ratings_df \\\n",
    "    .groupby('movie_id') \\\n",
    "    .agg(F.mean('rating').alias('mean_rating'), \n",
    "         F.count('rating').alias('ratings_count')) \\\n",
    "    .join(movies_df, ratings_df['movie_id'] == movies_df['movieId'], how='inner') \\\n",
    "    .sort(F.col('mean_rating').desc()) \\\n",
    "    .take(10)"
   ]
  },
  {
   "cell_type": "markdown",
   "metadata": {},
   "source": [
    "### Фильмы с наибольшим числом оценок\n",
    "\n",
    "Найти 10 фильмов с наибольшим числом оценок. Вывести их названия и число оценок"
   ]
  },
  {
   "cell_type": "code",
   "execution_count": 15,
   "metadata": {},
   "outputs": [],
   "source": [
    "movies_frequency_pdf = ratings_df \\\n",
    "    .groupby('movie_id') \\\n",
    "    .count() \\\n",
    "    .join(movies_df, ratings_df['movie_id'] == movies_df['movieId']) \\\n",
    "    .sort(F.col('count').desc()) \\\n",
    "    .toPandas()"
   ]
  },
  {
   "cell_type": "code",
   "execution_count": 16,
   "metadata": {},
   "outputs": [
    {
     "data": {
      "text/html": [
       "<div>\n",
       "<style scoped>\n",
       "    .dataframe tbody tr th:only-of-type {\n",
       "        vertical-align: middle;\n",
       "    }\n",
       "\n",
       "    .dataframe tbody tr th {\n",
       "        vertical-align: top;\n",
       "    }\n",
       "\n",
       "    .dataframe thead th {\n",
       "        text-align: right;\n",
       "    }\n",
       "</style>\n",
       "<table border=\"1\" class=\"dataframe\">\n",
       "  <thead>\n",
       "    <tr style=\"text-align: right;\">\n",
       "      <th></th>\n",
       "      <th>movie_id</th>\n",
       "      <th>count</th>\n",
       "      <th>movieId</th>\n",
       "      <th>title</th>\n",
       "      <th>genres</th>\n",
       "    </tr>\n",
       "  </thead>\n",
       "  <tbody>\n",
       "    <tr>\n",
       "      <th>0</th>\n",
       "      <td>318</td>\n",
       "      <td>85</td>\n",
       "      <td>318</td>\n",
       "      <td>Shawshank Redemption, The (1994)</td>\n",
       "      <td>Crime|Drama</td>\n",
       "    </tr>\n",
       "    <tr>\n",
       "      <th>1</th>\n",
       "      <td>2571</td>\n",
       "      <td>85</td>\n",
       "      <td>2571</td>\n",
       "      <td>Matrix, The (1999)</td>\n",
       "      <td>Action|Sci-Fi|Thriller</td>\n",
       "    </tr>\n",
       "    <tr>\n",
       "      <th>2</th>\n",
       "      <td>356</td>\n",
       "      <td>70</td>\n",
       "      <td>356</td>\n",
       "      <td>Forrest Gump (1994)</td>\n",
       "      <td>Comedy|Drama|Romance|War</td>\n",
       "    </tr>\n",
       "    <tr>\n",
       "      <th>3</th>\n",
       "      <td>593</td>\n",
       "      <td>70</td>\n",
       "      <td>593</td>\n",
       "      <td>Silence of the Lambs, The (1991)</td>\n",
       "      <td>Crime|Horror|Thriller</td>\n",
       "    </tr>\n",
       "    <tr>\n",
       "      <th>4</th>\n",
       "      <td>527</td>\n",
       "      <td>69</td>\n",
       "      <td>527</td>\n",
       "      <td>Schindler's List (1993)</td>\n",
       "      <td>Drama|War</td>\n",
       "    </tr>\n",
       "    <tr>\n",
       "      <th>5</th>\n",
       "      <td>589</td>\n",
       "      <td>69</td>\n",
       "      <td>589</td>\n",
       "      <td>Terminator 2: Judgment Day (1991)</td>\n",
       "      <td>Action|Sci-Fi</td>\n",
       "    </tr>\n",
       "    <tr>\n",
       "      <th>6</th>\n",
       "      <td>1</td>\n",
       "      <td>65</td>\n",
       "      <td>1</td>\n",
       "      <td>Toy Story (1995)</td>\n",
       "      <td>Adventure|Animation|Children|Comedy|Fantasy</td>\n",
       "    </tr>\n",
       "    <tr>\n",
       "      <th>7</th>\n",
       "      <td>47</td>\n",
       "      <td>63</td>\n",
       "      <td>47</td>\n",
       "      <td>Seven (a.k.a. Se7en) (1995)</td>\n",
       "      <td>Mystery|Thriller</td>\n",
       "    </tr>\n",
       "    <tr>\n",
       "      <th>8</th>\n",
       "      <td>260</td>\n",
       "      <td>62</td>\n",
       "      <td>260</td>\n",
       "      <td>Star Wars: Episode IV - A New Hope (1977)</td>\n",
       "      <td>Action|Adventure|Sci-Fi</td>\n",
       "    </tr>\n",
       "    <tr>\n",
       "      <th>9</th>\n",
       "      <td>1270</td>\n",
       "      <td>62</td>\n",
       "      <td>1270</td>\n",
       "      <td>Back to the Future (1985)</td>\n",
       "      <td>Adventure|Comedy|Sci-Fi</td>\n",
       "    </tr>\n",
       "  </tbody>\n",
       "</table>\n",
       "</div>"
      ],
      "text/plain": [
       "   movie_id  count  movieId                                      title  \\\n",
       "0       318     85      318           Shawshank Redemption, The (1994)   \n",
       "1      2571     85     2571                         Matrix, The (1999)   \n",
       "2       356     70      356                        Forrest Gump (1994)   \n",
       "3       593     70      593           Silence of the Lambs, The (1991)   \n",
       "4       527     69      527                    Schindler's List (1993)   \n",
       "5       589     69      589          Terminator 2: Judgment Day (1991)   \n",
       "6         1     65        1                           Toy Story (1995)   \n",
       "7        47     63       47                Seven (a.k.a. Se7en) (1995)   \n",
       "8       260     62      260  Star Wars: Episode IV - A New Hope (1977)   \n",
       "9      1270     62     1270                  Back to the Future (1985)   \n",
       "\n",
       "                                        genres  \n",
       "0                                  Crime|Drama  \n",
       "1                       Action|Sci-Fi|Thriller  \n",
       "2                     Comedy|Drama|Romance|War  \n",
       "3                        Crime|Horror|Thriller  \n",
       "4                                    Drama|War  \n",
       "5                                Action|Sci-Fi  \n",
       "6  Adventure|Animation|Children|Comedy|Fantasy  \n",
       "7                             Mystery|Thriller  \n",
       "8                      Action|Adventure|Sci-Fi  \n",
       "9                      Adventure|Comedy|Sci-Fi  "
      ]
     },
     "execution_count": 16,
     "metadata": {},
     "output_type": "execute_result"
    }
   ],
   "source": [
    "movies_frequency_pdf.head(10)"
   ]
  },
  {
   "cell_type": "markdown",
   "metadata": {},
   "source": [
    "---\n",
    "## SQL"
   ]
  },
  {
   "cell_type": "code",
   "execution_count": 17,
   "metadata": {},
   "outputs": [],
   "source": [
    "ratings_df.createTempView('ratings')\n",
    "movies_df.createTempView('movies')"
   ]
  },
  {
   "cell_type": "code",
   "execution_count": 18,
   "metadata": {},
   "outputs": [
    {
     "name": "stdout",
     "output_type": "stream",
     "text": [
      "+--------+--------+--------------------+\n",
      "|movie_id|count(1)|               title|\n",
      "+--------+--------+--------------------+\n",
      "|     318|      85|Shawshank Redempt...|\n",
      "|     356|      70| Forrest Gump (1994)|\n",
      "|     296|      59| Pulp Fiction (1994)|\n",
      "|     380|      53|    True Lies (1994)|\n",
      "|     377|      49|        Speed (1994)|\n",
      "|     364|      43|Lion King, The (1...|\n",
      "|     367|      37|    Mask, The (1994)|\n",
      "|     293|      36|Léon: The Profess...|\n",
      "|     344|      35|Ace Ventura: Pet ...|\n",
      "|     316|      32|     Stargate (1994)|\n",
      "|     231|      30|Dumb & Dumber (Du...|\n",
      "|     357|      29|Four Weddings and...|\n",
      "|     223|      27|       Clerks (1994)|\n",
      "|     353|      25|    Crow, The (1994)|\n",
      "|     329|      24|Star Trek: Genera...|\n",
      "|     349|      24|Clear and Present...|\n",
      "|     253|      21|Interview with th...|\n",
      "|     288|      19|Natural Born Kill...|\n",
      "|     300|      19|    Quiz Show (1994)|\n",
      "|     350|      17|  Client, The (1994)|\n",
      "+--------+--------+--------------------+\n",
      "only showing top 20 rows\n",
      "\n"
     ]
    }
   ],
   "source": [
    "query = \"\"\"\n",
    "    SELECT movie_id, COUNT(*), first(title) as title\n",
    "    FROM ratings INNER JOIN movies ON ratings.movie_id == movies.movieId\n",
    "    WHERE movies.title LIKE '%(1994)%'\n",
    "    GROUP BY movie_id\n",
    "    ORDER BY COUNT(*) DESC\n",
    "\"\"\"\n",
    "\n",
    "movies_frequency = spark.sql(query)\n",
    "movies_frequency.show()"
   ]
  },
  {
   "cell_type": "code",
   "execution_count": 19,
   "metadata": {
    "scrolled": false
   },
   "outputs": [
    {
     "name": "stdout",
     "output_type": "stream",
     "text": [
      "== Parsed Logical Plan ==\n",
      "'Sort ['COUNT(1) DESC NULLS LAST], true\n",
      "+- 'Aggregate ['movie_id], ['movie_id, unresolvedalias('COUNT(1), None), first('title, false) AS title#127]\n",
      "   +- 'Filter 'movies.title LIKE %(1994)%\n",
      "      +- 'Join Inner, ('ratings.movie_id = 'movies.movieId)\n",
      "         :- 'UnresolvedRelation `ratings`\n",
      "         +- 'UnresolvedRelation `movies`\n",
      "\n",
      "== Analyzed Logical Plan ==\n",
      "movie_id: int, count(1): bigint, title: string\n",
      "Project [movie_id#0, count(1)#130L, title#127]\n",
      "+- Sort [count(1)#130L DESC NULLS LAST], true\n",
      "   +- Aggregate [movie_id#0], [movie_id#0, count(1) AS count(1)#130L, first(title#23, false) AS title#127]\n",
      "      +- Filter title#23 LIKE %(1994)%\n",
      "         +- Join Inner, (movie_id#0 = movieId#22)\n",
      "            :- SubqueryAlias `ratings`\n",
      "            :  +- Relation[movie_id#0,rating#1,timestamp#2,user_id#3] csv\n",
      "            +- SubqueryAlias `movies`\n",
      "               +- Relation[movieId#22,title#23,genres#24] csv\n",
      "\n",
      "== Optimized Logical Plan ==\n",
      "Sort [count(1)#130L DESC NULLS LAST], true\n",
      "+- Aggregate [movie_id#0], [movie_id#0, count(1) AS count(1)#130L, first(title#23, false) AS title#127]\n",
      "   +- Project [movie_id#0, title#23]\n",
      "      +- Join Inner, (movie_id#0 = movieId#22)\n",
      "         :- Project [movie_id#0]\n",
      "         :  +- Filter isnotnull(movie_id#0)\n",
      "         :     +- Relation[movie_id#0,rating#1,timestamp#2,user_id#3] csv\n",
      "         +- Project [movieId#22, title#23]\n",
      "            +- Filter ((isnotnull(title#23) && Contains(title#23, (1994))) && isnotnull(movieId#22))\n",
      "               +- Relation[movieId#22,title#23,genres#24] csv\n",
      "\n",
      "== Physical Plan ==\n",
      "*(4) Sort [count(1)#130L DESC NULLS LAST], true, 0\n",
      "+- Exchange rangepartitioning(count(1)#130L DESC NULLS LAST, 200)\n",
      "   +- SortAggregate(key=[movie_id#0], functions=[count(1), first(title#23, false)], output=[movie_id#0, count(1)#130L, title#127])\n",
      "      +- *(3) Sort [movie_id#0 ASC NULLS FIRST], false, 0\n",
      "         +- Exchange hashpartitioning(movie_id#0, 200)\n",
      "            +- SortAggregate(key=[movie_id#0], functions=[partial_count(1), partial_first(title#23, false)], output=[movie_id#0, count#138L, first#139, valueSet#140])\n",
      "               +- *(2) Sort [movie_id#0 ASC NULLS FIRST], false, 0\n",
      "                  +- *(2) Project [movie_id#0, title#23]\n",
      "                     +- *(2) BroadcastHashJoin [movie_id#0], [movieId#22], Inner, BuildLeft\n",
      "                        :- BroadcastExchange HashedRelationBroadcastMode(List(cast(input[0, int, true] as bigint)))\n",
      "                        :  +- *(1) Project [movie_id#0]\n",
      "                        :     +- *(1) Filter isnotnull(movie_id#0)\n",
      "                        :        +- *(1) FileScan csv [movie_id#0] Batched: false, Format: CSV, Location: InMemoryFileIndex[file:/workspace/data/ml-25m/ratings_sample.csv], PartitionFilters: [], PushedFilters: [IsNotNull(movie_id)], ReadSchema: struct<movie_id:int>\n",
      "                        +- *(2) Project [movieId#22, title#23]\n",
      "                           +- *(2) Filter ((isnotnull(title#23) && Contains(title#23, (1994))) && isnotnull(movieId#22))\n",
      "                              +- *(2) FileScan csv [movieId#22,title#23] Batched: false, Format: CSV, Location: InMemoryFileIndex[file:/workspace/data/ml-25m/movies.csv], PartitionFilters: [], PushedFilters: [IsNotNull(title), StringContains(title,(1994)), IsNotNull(movieId)], ReadSchema: struct<movieId:int,title:string>\n"
     ]
    }
   ],
   "source": [
    "spark.sql(query).explain(True)"
   ]
  },
  {
   "cell_type": "markdown",
   "metadata": {},
   "source": [
    "---\n",
    "## User Defined Function (UDF)\n",
    "\n",
    "\n",
    "### Количество вышедших фильмов по годам\n",
    "\n",
    "Мы знаем, что название фильма содержит информацию о дате выхода"
   ]
  },
  {
   "cell_type": "code",
   "execution_count": 20,
   "metadata": {},
   "outputs": [],
   "source": [
    "import re\n",
    "\n",
    "\n",
    "def get_release_year(title):\n",
    "    result = re.match(r'.*(\\(\\d+\\))', title)\n",
    "    return int(result.group(1)[1:-1]) if result is not None else None\n",
    "\n",
    "\n",
    "get_release_year_udf = F.udf(get_release_year, IntegerType())"
   ]
  },
  {
   "cell_type": "code",
   "execution_count": 21,
   "metadata": {},
   "outputs": [],
   "source": [
    "relase_count_by_year = movies_df \\\n",
    "    .withColumn('year', get_release_year_udf('title')) \\\n",
    "    .filter(F.col('year').isNotNull()) \\\n",
    "    .groupby('year') \\\n",
    "    .count() \\\n",
    "    .toPandas()"
   ]
  },
  {
   "cell_type": "code",
   "execution_count": 22,
   "metadata": {},
   "outputs": [
    {
     "data": {
      "image/png": "[encoded data removed]",
      "text/plain": [
       "<Figure size 864x360 with 1 Axes>"
      ]
     },
     "metadata": {
      "image/png": {
       "height": 317,
       "width": 718
      },
      "needs_background": "light"
     },
     "output_type": "display_data"
    }
   ],
   "source": [
    "plt.figure(figsize=(12, 5))\n",
    "relase_count_by_year.set_index('year').sort_index()['count'].plot()\n",
    "plt.show()"
   ]
  },
  {
   "cell_type": "markdown",
   "metadata": {},
   "source": [
    "---\n",
    "## Window Functions\n",
    "\n",
    "Хотим понять, сколько времени проходит между последовательными оценками для пользователей, более формально:\n",
    "\n",
    "Для пользователя $u$ есть последовательность $(m_1, r_1, t_1), \\ldots, (m_n, r_n, t_n)$, где $t_i \\leq t_{i+1}$. Рассмотрим последовательность $\\Delta_i = t_{i+1} - t_i$, для $i=1,\\ldots,n-1$.\n",
    "\n",
    "Хотим построить распределение величины $\\Delta_i$ используя информацию обо всех пользователях."
   ]
  },
  {
   "cell_type": "code",
   "execution_count": 23,
   "metadata": {},
   "outputs": [
    {
     "data": {
      "text/plain": [
       "[Row(movie_id=344, rating=3.0, timestamp=844435558, user_id=5300, next_timestamp=844437310),\n",
       " Row(movie_id=333, rating=2.5, timestamp=1485051413, user_id=6357, next_timestamp=1485052289),\n",
       " Row(movie_id=2294, rating=3.0, timestamp=965151537, user_id=27760, next_timestamp=1035915802),\n",
       " Row(movie_id=8477, rating=4.5, timestamp=1172284762, user_id=29054, next_timestamp=1283022440),\n",
       " Row(movie_id=2202, rating=4.0, timestamp=1283022440, user_id=29054, next_timestamp=1318280644),\n",
       " Row(movie_id=2389, rating=4.5, timestamp=1318280644, user_id=29054, next_timestamp=1382759416),\n",
       " Row(movie_id=98243, rating=2.5, timestamp=1382759416, user_id=29054, next_timestamp=1415154202),\n",
       " Row(movie_id=111, rating=4.0, timestamp=862480854, user_id=29894, next_timestamp=862481139),\n",
       " Row(movie_id=2706, rating=4.0, timestamp=1240417633, user_id=30970, next_timestamp=1240930687),\n",
       " Row(movie_id=1785, rating=1.0, timestamp=976223876, user_id=32855, next_timestamp=991951646)]"
      ]
     },
     "execution_count": 23,
     "metadata": {},
     "output_type": "execute_result"
    }
   ],
   "source": [
    "from pyspark.sql.window import Window\n",
    "\n",
    "\n",
    "user_window = Window.orderBy('timestamp').partitionBy('user_id')\n",
    "\n",
    "ratings_df \\\n",
    "    .withColumn('next_timestamp', F.lead('timestamp').over(user_window)) \\\n",
    "    .filter(F.col('next_timestamp').isNotNull()) \\\n",
    "    .take(10)"
   ]
  },
  {
   "cell_type": "code",
   "execution_count": 24,
   "metadata": {},
   "outputs": [
    {
     "data": {
      "text/plain": [
       "<matplotlib.axes._subplots.AxesSubplot at 0x7f909c4580f0>"
      ]
     },
     "execution_count": 24,
     "metadata": {},
     "output_type": "execute_result"
    },
    {
     "data": {
      "image/png": "[encoded data removed]",
      "text/plain": [
       "<Figure size 432x288 with 1 Axes>"
      ]
     },
     "metadata": {
      "image/png": {
       "height": 250,
       "width": 389
      },
      "needs_background": "light"
     },
     "output_type": "display_data"
    }
   ],
   "source": [
    "DAY = 24 * 60 * 60\n",
    "\n",
    "ratings_df \\\n",
    "    .withColumn('next_timestamp', F.lead('timestamp').over(user_window)) \\\n",
    "    .filter(F.col('next_timestamp').isNotNull()) \\\n",
    "    .withColumn('delta', (F.col('next_timestamp') - F.col('timestamp')) / F.lit(DAY)) \\\n",
    "    .select('delta') \\\n",
    "    .filter(F.col('delta') <= 365) \\\n",
    "    .toPandas().plot.hist(bins=100, logy=True)"
   ]
  },
  {
   "cell_type": "markdown",
   "metadata": {},
   "source": [
    "---\n",
    "# Упражнения. Recommender System\n",
    "\n",
    "Пусть $U$ - множество пользователей, $I$ - множество фильмов, и $R = (r_{ui})$ - матрица рейтингов. \n",
    "\n",
    "Через $R_u$ будем обозначать строку матрицы $R$, соотвествующую пользователю $u$.\n",
    "\n",
    "## Most similar items\n",
    "\n",
    "Для каждого фильма $i$ определим множество $U(i) = \\{ u \\in U \\mid r_{ui} \\neq 0 \\}$ - множество пользователей, поставивших фильму $i$ оценку.\n",
    "\n",
    "Тогда мы можем определить множество $I(i) = \\left\\{ i' \\in I ~\\Big|~ sim(i, i') = \\frac{|U(i) ~\\cap~ U(i')|}{|U(i) ~\\cup~ U(i')|} > \\delta \\right\\}$ - множество похожих фильмов.\n",
    "\n",
    "Можно отсортировать элементы множества $I(i)$ по неубыванию $sim(i, i')$.\n",
    "\n",
    "Реализуйте функцию, которая на вход получает `movie_id` и возвращает топ `N` фильмов отранжированных по $sim$."
   ]
  },
  {
   "cell_type": "code",
   "execution_count": 25,
   "metadata": {},
   "outputs": [
    {
     "data": {
      "text/plain": [
       "24968"
      ]
     },
     "execution_count": 25,
     "metadata": {},
     "output_type": "execute_result"
    }
   ],
   "source": [
    "ratings_df.count()"
   ]
  },
  {
   "cell_type": "code",
   "execution_count": 26,
   "metadata": {},
   "outputs": [
    {
     "data": {
      "text/plain": [
       "[Row(movie_id=471, user_set=[126850, 16494, 75738, 137028, 3937, 140955, 131258, 7836, 121865, 27966, 73242, 19379, 25094, 566, 20943]),\n",
       " Row(movie_id=1088, user_set=[80854, 106295, 17482, 144810, 59615, 34339, 117915, 16522, 136706, 116944]),\n",
       " Row(movie_id=1238, user_set=[8183, 135739, 162254, 75090]),\n",
       " Row(movie_id=1342, user_set=[25881, 99410, 109752, 87394]),\n",
       " Row(movie_id=1580, user_set=[137622, 146239, 27841, 120484, 34993, 73300, 28546, 148825, 71238, 15335, 121343, 36431, 110309, 124610, 154098, 118092, 88758, 113607, 117106, 15309, 98638, 53160, 103307, 119379, 128258, 143263, 92680, 9170, 7879, 153905, 142523, 1382, 58150, 124523, 102534, 64736, 28128, 4115, 48759, 3281, 59155, 11491, 90414]),\n",
       " Row(movie_id=1591, user_set=[33518, 68428, 31716, 31520]),\n",
       " Row(movie_id=1645, user_set=[113634, 146148, 114236, 81657, 34887, 89563, 125947, 128325, 2831, 127142]),\n",
       " Row(movie_id=1959, user_set=[80771, 102811, 28264]),\n",
       " Row(movie_id=2866, user_set=[35135]),\n",
       " Row(movie_id=3175, user_set=[3481, 54797, 48206, 30098, 113308, 3114, 21363, 144669, 76567, 111872, 34370, 140504, 102523])]"
      ]
     },
     "execution_count": 26,
     "metadata": {},
     "output_type": "execute_result"
    }
   ],
   "source": [
    "def get_movie_user_set(ratings_df):\n",
    "     return ratings_df \\\n",
    "        .groupBy(F.col('movie_id')) \\\n",
    "        .agg(F.collect_set('user_id').alias('user_set'))\n",
    "\n",
    "get_movie_user_set(ratings_df) \\\n",
    "    .take(10)"
   ]
  },
  {
   "cell_type": "code",
   "execution_count": 27,
   "metadata": {},
   "outputs": [],
   "source": [
    "def get_similarity_score(user_set_0, user_set):\n",
    "    user_set_0 = set(user_set_0)\n",
    "    user_set = set(user_set)\n",
    "    return len(user_set_0.intersection(user_set)) / len(user_set_0.union(user_set))\n",
    "\n",
    "get_similarity_score_udf = F.udf(get_similarity_score, FloatType())"
   ]
  },
  {
   "cell_type": "code",
   "execution_count": 28,
   "metadata": {},
   "outputs": [],
   "source": [
    "def get_most_similar_items(ratings_df, movie_id, N):\n",
    "    movie_user_set = get_movie_user_set(ratings_df)\n",
    "    delta = 0.0\n",
    "    return movie_user_set \\\n",
    "        .filter(F.col('movie_id') == movie_id) \\\n",
    "        .selectExpr('movie_id as movie_id_0', 'user_set as user_set_0') \\\n",
    "        .crossJoin(movie_user_set) \\\n",
    "        .withColumn('sim', get_similarity_score_udf('user_set_0', 'user_set')) \\\n",
    "        .filter(F.col('sim') > delta) \\\n",
    "        .select('movie_id', 'sim') \\\n",
    "        .sort(F.col('sim').desc()) \\\n",
    "        .take(N)"
   ]
  },
  {
   "cell_type": "code",
   "execution_count": 29,
   "metadata": {},
   "outputs": [
    {
     "data": {
      "text/plain": [
       "[Row(movie_id=356, sim=1.0),\n",
       " Row(movie_id=95939, sim=0.014285714365541935),\n",
       " Row(movie_id=4491, sim=0.014285714365541935),\n",
       " Row(movie_id=126, sim=0.014084506779909134),\n",
       " Row(movie_id=5292, sim=0.014084506779909134),\n",
       " Row(movie_id=4040, sim=0.013888888992369175),\n",
       " Row(movie_id=2052, sim=0.013888888992369175),\n",
       " Row(movie_id=3461, sim=0.013888888992369175),\n",
       " Row(movie_id=3200, sim=0.013888888992369175),\n",
       " Row(movie_id=71745, sim=0.013698630034923553)]"
      ]
     },
     "execution_count": 29,
     "metadata": {},
     "output_type": "execute_result"
    }
   ],
   "source": [
    "get_most_similar_items(ratings_df=ratings_df, movie_id=356, N=10)"
   ]
  },
  {
   "cell_type": "markdown",
   "metadata": {},
   "source": [
    "Построим несколько вариантов простой Рекомендательной Системы.\n",
    "\n",
    "*Основная цель:* порекомендовать фильм пользователю. (Для простоты опустим информацию о самих рейтингах)\n",
    "\n",
    "## Methods\n",
    "\n",
    "При разработке сложных методов, сначала нужно выбрать несколько простых методов (`Baseline`), относительно которых мы будем сравнивать новый метод.\n",
    "\n",
    "### POP\n",
    "\n",
    "Будем всегда рекомендовать самые популярные фильмы (с наибольшим числом оценок пользователей).\n",
    "\n",
    "Не смотря на свою простоту, в ряде задач показывает себя достаточно хорошо."
   ]
  },
  {
   "cell_type": "code",
   "execution_count": 30,
   "metadata": {},
   "outputs": [],
   "source": [
    "def get_popular_items(ratings_df, user_id, N):\n",
    "    del user_id  # Not used\n",
    "    \n",
    "    return ratings_df \\\n",
    "        .groupby('movie_id') \\\n",
    "        .count() \\\n",
    "        .sort(F.col('count').desc()) \\\n",
    "        .take(N)"
   ]
  },
  {
   "cell_type": "code",
   "execution_count": 31,
   "metadata": {},
   "outputs": [
    {
     "data": {
      "text/plain": [
       "[Row(movie_id=2571, count=85),\n",
       " Row(movie_id=318, count=85),\n",
       " Row(movie_id=356, count=70),\n",
       " Row(movie_id=593, count=70),\n",
       " Row(movie_id=527, count=69),\n",
       " Row(movie_id=589, count=69),\n",
       " Row(movie_id=1, count=65),\n",
       " Row(movie_id=47, count=63),\n",
       " Row(movie_id=1270, count=62),\n",
       " Row(movie_id=260, count=62)]"
      ]
     },
     "execution_count": 31,
     "metadata": {},
     "output_type": "execute_result"
    }
   ],
   "source": [
    "get_popular_items(ratings_df, user_id=65346, N=10)"
   ]
  },
  {
   "cell_type": "markdown",
   "metadata": {},
   "source": [
    "### User-based Collaborative Filtering\n",
    "\n",
    "1. Для пользователя $u$ определим множество похожих пользователей как \n",
    "\n",
    "$$U(u) = \\left\\{ u' \\in U \\mid sim(u, u') > \\alpha \\right\\},$$\n",
    "\n",
    "где $sim(u, u')$ — одна из возможных мер близости $u'$ к $u$, например, косинусная близость между $R_{u}$ и $R_{u'}$\n",
    "\n",
    "2. $$I(u) = \\left\\{ i \\in I ~\\Big|~ B(i) = \\frac{|U(u) ~\\cap~ U(i)|}{|U(u) ~\\cup~ U(i)|} > 0 \\right\\}$$\n",
    "\n",
    "\n",
    "3. Отсортировать $i \\in I(u)$ по убыванию $B(i)$, взять top $N$"
   ]
  },
  {
   "cell_type": "code",
   "execution_count": 32,
   "metadata": {},
   "outputs": [],
   "source": [
    "import math\n",
    "\n",
    "def get_cosine_similarity(movie_set_0, movie_set):\n",
    "    dot_product = len(set(movie_set_0).intersection(set(movie_set)))\n",
    "    norm_0 = math.sqrt(len(movie_set_0))\n",
    "    norm = math.sqrt(len(movie_set))\n",
    "    return dot_product / (norm_0 * norm)\n",
    "\n",
    "cosine_similarity_udf = F.udf(get_cosine_similarity, FloatType())\n",
    "\n",
    "def get_user_movie_set(ratings_df):\n",
    "    return ratings_df \\\n",
    "        .groupBy(F.col('user_id')) \\\n",
    "        .agg(F.collect_set('movie_id').alias('movie_set'))\n",
    "\n",
    "def get_similar_users(ratings_df, user_id):\n",
    "    user_movie_set = get_user_movie_set(ratings_df)\n",
    "    alpha = 0.0\n",
    "    return user_movie_set \\\n",
    "        .filter(F.col('user_id') == user_id) \\\n",
    "        .selectExpr('user_id as user_id_0', 'movie_set as movie_set_0') \\\n",
    "        .crossJoin(user_movie_set) \\\n",
    "        .withColumn('sim', cosine_similarity_udf('movie_set_0', 'movie_set')) \\\n",
    "        .filter(F.col('sim') > alpha) \\\n",
    "        .groupby('user_id_0') \\\n",
    "        .agg(F.collect_set('user_id').alias('user_set')) \\\n",
    "        .selectExpr('user_id_0 as user_id', 'user_set as user_set')"
   ]
  },
  {
   "cell_type": "code",
   "execution_count": 33,
   "metadata": {},
   "outputs": [
    {
     "data": {
      "text/plain": [
       "[Row(user_id=65346, user_set=[50816, 11072, 122966, 32922, 15108, 119475, 156577, 130502, 129871, 57976, 106700, 41135, 125967, 65346, 157539, 22627, 97049, 1619, 9168, 60448])]"
      ]
     },
     "execution_count": 33,
     "metadata": {},
     "output_type": "execute_result"
    }
   ],
   "source": [
    "get_similar_users(ratings_df, user_id=65346) \\\n",
    "    .take(10)"
   ]
  },
  {
   "cell_type": "code",
   "execution_count": 34,
   "metadata": {},
   "outputs": [],
   "source": [
    "def get_user_based_collab(ratings_df, user_id, N):\n",
    "    movie_user_set = get_movie_user_set(ratings_df)\n",
    "    return get_similar_users(ratings_df, user_id) \\\n",
    "        .selectExpr('user_set as user_set_0') \\\n",
    "        .crossJoin(movie_user_set) \\\n",
    "        .withColumn('sim', get_similarity_score_udf('user_set_0', 'user_set')) \\\n",
    "        .filter(F.col('sim') > 0.0) \\\n",
    "        .sort(F.col('sim').desc()) \\\n",
    "        .select('movie_id', 'sim') \\\n",
    "        .take(N)"
   ]
  },
  {
   "cell_type": "code",
   "execution_count": 35,
   "metadata": {},
   "outputs": [
    {
     "data": {
      "text/plain": [
       "[Row(movie_id=2640, sim=0.6000000238418579),\n",
       " Row(movie_id=1373, sim=0.44999998807907104),\n",
       " Row(movie_id=58191, sim=0.05000000074505806),\n",
       " Row(movie_id=8860, sim=0.0476190485060215),\n",
       " Row(movie_id=6296, sim=0.04545454680919647),\n",
       " Row(movie_id=30825, sim=0.03448275849223137),\n",
       " Row(movie_id=2144, sim=0.032258063554763794),\n",
       " Row(movie_id=11, sim=0.032258063554763794),\n",
       " Row(movie_id=1061, sim=0.029411764815449715),\n",
       " Row(movie_id=1214, sim=0.016949152573943138)]"
      ]
     },
     "execution_count": 35,
     "metadata": {},
     "output_type": "execute_result"
    }
   ],
   "source": [
    "get_user_based_collab(ratings_df=ratings_df, user_id=65346, N=10)"
   ]
  },
  {
   "cell_type": "markdown",
   "metadata": {},
   "source": [
    "### Item-kNN\n",
    "\n",
    "1. Для пользователя $u$ мы знаем $R(u) = \\{ i \\in I \\mid r_{ui} \\neq 0 \\} $\n",
    "\n",
    "\n",
    "2. Для каждого $i \\in R(u)$ построим $I(i)$ - множество похожих фильмов\n",
    "\n",
    "\n",
    "3. Отсортируем элементы множества $ \\bigcup_{i \\in R(u)} I(i) $, возьмем top $N$"
   ]
  },
  {
   "cell_type": "code",
   "execution_count": 36,
   "metadata": {},
   "outputs": [],
   "source": [
    "def get_item_knn(ratings_df, user_id, N):\n",
    "    movie_user_set = get_movie_user_set(ratings_df)\n",
    "\n",
    "    user_movies = ratings_df \\\n",
    "        .filter(F.col('user_id') == user_id)\n",
    "    \n",
    "    user_movies_user_set = get_similar_users(ratings_df, user_id) \\\n",
    "        .join(user_movies, 'user_id') \\\n",
    "        .selectExpr('movie_id as movie_id', 'user_set as user_user_set')\n",
    "    \n",
    "    delta = 0.0\n",
    "    nearest_movies_user_sets = user_movies_user_set \\\n",
    "        .join(movie_user_set, ['movie_id']) \\\n",
    "        .selectExpr('movie_id as movie_id_0', 'user_set as user_set_0', 'user_user_set as user_user_set') \\\n",
    "        .crossJoin(movie_user_set) \\\n",
    "        .withColumn('movie_sim', get_similarity_score_udf('user_set_0', 'user_set')) \\\n",
    "        .filter(F.col('movie_sim') > delta) \\\n",
    "        .selectExpr('movie_id as movie_id', 'user_set as movie_user_set', 'user_user_set as user_user_set')\n",
    "    \n",
    "    return nearest_movies_user_sets \\\n",
    "        .withColumn('sim', get_similarity_score_udf('movie_user_set', 'user_user_set')) \\\n",
    "        .filter(F.col('sim') > 0.0) \\\n",
    "        .sort(F.col('sim').desc()) \\\n",
    "        .select('movie_id', 'sim') \\\n",
    "        .distinct() \\\n",
    "        .take(N)"
   ]
  },
  {
   "cell_type": "code",
   "execution_count": 37,
   "metadata": {},
   "outputs": [
    {
     "data": {
      "text/plain": [
       "[Row(movie_id=2640, sim=0.6000000238418579),\n",
       " Row(movie_id=1373, sim=0.44999998807907104),\n",
       " Row(movie_id=58191, sim=0.05000000074505806),\n",
       " Row(movie_id=8860, sim=0.0476190485060215),\n",
       " Row(movie_id=6296, sim=0.04545454680919647),\n",
       " Row(movie_id=30825, sim=0.03448275849223137),\n",
       " Row(movie_id=2144, sim=0.032258063554763794),\n",
       " Row(movie_id=11, sim=0.032258063554763794),\n",
       " Row(movie_id=1061, sim=0.029411764815449715),\n",
       " Row(movie_id=1214, sim=0.016949152573943138)]"
      ]
     },
     "execution_count": 37,
     "metadata": {},
     "output_type": "execute_result"
    }
   ],
   "source": [
    "get_item_knn(ratings_df=ratings_df, user_id=65346, N=10)"
   ]
  },
  {
   "cell_type": "markdown",
   "metadata": {},
   "source": [
    "## Evaluation Protocol\n",
    "\n",
    "Теперь опишем, как будем оценивать качество рассматриваемых методов.\n",
    "\n",
    "### Data Splits\n",
    "\n",
    "Так как в данных `ratings` есть поле `timestamp`, то для каждого пользователя отсортируем его рейтинги по времени и первые $80\\%$ рейтингов отнесем в `Train`, еще $10\\%$ в `Validation`, и остальное в `Test`.\n"
   ]
  },
  {
   "cell_type": "code",
   "execution_count": 38,
   "metadata": {},
   "outputs": [
    {
     "data": {
      "text/plain": [
       "[Row(movie_id=1245, rating=4.5, timestamp=1429642474, user_id=1342, tile=1),\n",
       " Row(movie_id=2080, rating=3.5, timestamp=1078331018, user_id=2142, tile=1),\n",
       " Row(movie_id=8983, rating=3.5, timestamp=1238724922, user_id=4818, tile=1),\n",
       " Row(movie_id=3949, rating=4.0, timestamp=1218578041, user_id=4935, tile=1),\n",
       " Row(movie_id=344, rating=3.0, timestamp=844435558, user_id=5300, tile=1),\n",
       " Row(movie_id=359, rating=3.0, timestamp=844437310, user_id=5300, tile=2),\n",
       " Row(movie_id=333, rating=2.5, timestamp=1485051413, user_id=6357, tile=1),\n",
       " Row(movie_id=1934, rating=5.0, timestamp=1485052289, user_id=6357, tile=2),\n",
       " Row(movie_id=85438, rating=4.0, timestamp=1380215170, user_id=7240, tile=1),\n",
       " Row(movie_id=3469, rating=5.0, timestamp=962740124, user_id=7253, tile=1)]"
      ]
     },
     "execution_count": 38,
     "metadata": {},
     "output_type": "execute_result"
    }
   ],
   "source": [
    "user_window = Window.orderBy('timestamp').partitionBy('user_id')\n",
    "\n",
    "tiled_ratings_df = ratings_df \\\n",
    "    .withColumn('tile', F.ntile(10).over(user_window)) \\\n",
    "\n",
    "tiled_ratings_df \\\n",
    "    .take(10)"
   ]
  },
  {
   "cell_type": "code",
   "execution_count": 39,
   "metadata": {},
   "outputs": [
    {
     "name": "stdout",
     "output_type": "stream",
     "text": [
      "24940\n"
     ]
    },
    {
     "data": {
      "text/plain": [
       "[Row(movie_id=1245, rating=4.5, timestamp=1429642474, user_id=1342),\n",
       " Row(movie_id=2080, rating=3.5, timestamp=1078331018, user_id=2142),\n",
       " Row(movie_id=8983, rating=3.5, timestamp=1238724922, user_id=4818),\n",
       " Row(movie_id=3949, rating=4.0, timestamp=1218578041, user_id=4935),\n",
       " Row(movie_id=344, rating=3.0, timestamp=844435558, user_id=5300),\n",
       " Row(movie_id=359, rating=3.0, timestamp=844437310, user_id=5300),\n",
       " Row(movie_id=333, rating=2.5, timestamp=1485051413, user_id=6357),\n",
       " Row(movie_id=1934, rating=5.0, timestamp=1485052289, user_id=6357),\n",
       " Row(movie_id=85438, rating=4.0, timestamp=1380215170, user_id=7240),\n",
       " Row(movie_id=3469, rating=5.0, timestamp=962740124, user_id=7253)]"
      ]
     },
     "execution_count": 39,
     "metadata": {},
     "output_type": "execute_result"
    }
   ],
   "source": [
    "train_ratings_df = tiled_ratings_df \\\n",
    "    .filter(F.col('tile') <= 7) \\\n",
    "    .drop('tile')\n",
    "\n",
    "print(train_ratings_df.count())\n",
    "\n",
    "train_ratings_df.take(10)"
   ]
  },
  {
   "cell_type": "code",
   "execution_count": 40,
   "metadata": {},
   "outputs": [
    {
     "name": "stdout",
     "output_type": "stream",
     "text": [
      "13\n"
     ]
    },
    {
     "data": {
      "text/plain": [
       "[Row(movie_id=137471, rating=3.5, timestamp=1554354214, user_id=17783),\n",
       " Row(movie_id=171805, rating=1.0, timestamp=1535853970, user_id=49403),\n",
       " Row(movie_id=170697, rating=3.5, timestamp=1541004163, user_id=37438),\n",
       " Row(movie_id=7077, rating=3.5, timestamp=1229475429, user_id=80974),\n",
       " Row(movie_id=3246, rating=4.0, timestamp=1486934245, user_id=115102),\n",
       " Row(movie_id=93838, rating=3.0, timestamp=1353740225, user_id=109731),\n",
       " Row(movie_id=181671, rating=4.0, timestamp=1535602372, user_id=72315),\n",
       " Row(movie_id=194204, rating=1.5, timestamp=1551180061, user_id=72315),\n",
       " Row(movie_id=186001, rating=2.0, timestamp=1551527829, user_id=72315),\n",
       " Row(movie_id=5103, rating=3.0, timestamp=1440188214, user_id=137293)]"
      ]
     },
     "execution_count": 40,
     "metadata": {},
     "output_type": "execute_result"
    }
   ],
   "source": [
    "dev_ratings_df = tiled_ratings_df \\\n",
    "    .filter(F.col('tile') == 8) \\\n",
    "    .drop('tile')\n",
    "\n",
    "print(dev_ratings_df.count())\n",
    "\n",
    "dev_ratings_df.take(10)"
   ]
  },
  {
   "cell_type": "code",
   "execution_count": 41,
   "metadata": {},
   "outputs": [
    {
     "name": "stdout",
     "output_type": "stream",
     "text": [
      "8\n"
     ]
    },
    {
     "data": {
      "text/plain": [
       "[Row(movie_id=167986, rating=0.5, timestamp=1544921053, user_id=49403),\n",
       " Row(movie_id=201586, rating=2.5, timestamp=1571028530, user_id=37438),\n",
       " Row(movie_id=48315, rating=3.0, timestamp=1245198755, user_id=80974),\n",
       " Row(movie_id=26314, rating=1.5, timestamp=1400048816, user_id=109731),\n",
       " Row(movie_id=181071, rating=3.5, timestamp=1566672262, user_id=72315),\n",
       " Row(movie_id=68664, rating=2.5, timestamp=1566672695, user_id=72315),\n",
       " Row(movie_id=205683, rating=3.5, timestamp=1568758743, user_id=72315),\n",
       " Row(movie_id=181159, rating=3.5, timestamp=1520220970, user_id=137293)]"
      ]
     },
     "execution_count": 41,
     "metadata": {},
     "output_type": "execute_result"
    }
   ],
   "source": [
    "test_ratings_df = tiled_ratings_df \\\n",
    "    .filter(F.col('tile') == 9) \\\n",
    "    .drop('tile')\n",
    "\n",
    "print(test_ratings_df.count())\n",
    "\n",
    "test_ratings_df.take(10)"
   ]
  },
  {
   "cell_type": "markdown",
   "metadata": {},
   "source": [
    "### Metrics\n",
    "\n",
    "В `Test` для каждого пользователя есть `user_id, R_u`, где $R_u$ - множество фильмов, которым он поставил оценку. Для того чтобы оценить качество рассматриваемых методов будем для пользователя строить список из $N$ рекомендаций $\\hat{R}_{1\\colon N}$ и считать метрики.\n",
    "\n",
    "* $$ Precision@N = \\frac{|R_u \\cap \\hat{R}_{1\\colon N} |}{N} $$\n",
    "* $$ Recall@N = \\frac{|R_u \\cap \\hat{R}_{1\\colon N} |}{|R_u|} $$\n",
    "* $Map@N$\n",
    "\n",
    "где $N \\in \\{1,5,10\\}$\n",
    "\n",
    "https://spark.apache.org/docs/latest/mllib-evaluation-metrics.html#ranking-systems"
   ]
  },
  {
   "cell_type": "code",
   "execution_count": 42,
   "metadata": {},
   "outputs": [],
   "source": [
    "from pyspark.mllib.evaluation import RankingMetrics\n",
    "\n",
    "test_user_labels = test_ratings_df \\\n",
    "    .groupby('user_id') \\\n",
    "    .agg(F.collect_set('movie_id').alias('labels')) \\\n",
    "    .rdd \\\n",
    "    .collect()\n",
    "\n",
    "def evaluate(get_predictions_fn):\n",
    "\n",
    "    predictions_labels = []\n",
    "    for row in test_user_labels[:10]:\n",
    "        predictions = get_predictions_fn(ratings_df, row.user_id, N=10)\n",
    "        predictions = list(map(lambda row: row.movie_id, predictions))\n",
    "        labels = row.labels\n",
    "        predictions_labels.append((predictions, labels))\n",
    "    \n",
    "    pre_lab_paral = sc.parallelize(predictions_labels)\n",
    "    ranking_metrics = RankingMetrics(pre_lab_paral)\n",
    "\n",
    "    for N in [1, 5, 10]:\n",
    "        print(\"precision @\", N, ranking_metrics.precisionAt(N))\n",
    "        print(\"NDCG @\", N, ranking_metrics.ndcgAt(N))\n",
    "    print(\"map\", ranking_metrics.meanAveragePrecision)"
   ]
  },
  {
   "cell_type": "code",
   "execution_count": 43,
   "metadata": {},
   "outputs": [
    {
     "name": "stdout",
     "output_type": "stream",
     "text": [
      "precision @ 1 1.0\n",
      "NDCG @ 1 1.0\n",
      "precision @ 5 0.26666666666666666\n",
      "NDCG @ 5 1.0\n",
      "precision @ 10 0.13333333333333333\n",
      "NDCG @ 10 1.0\n",
      "map 1.0\n"
     ]
    }
   ],
   "source": [
    "def get_true_labels(ratings_df, user_id, N):\n",
    "    del ratings_df  # Not used\n",
    "    return test_ratings_df \\\n",
    "        .filter(F.col('user_id') == user_id) \\\n",
    "        .take(N)\n",
    "\n",
    "evaluate(get_true_labels)"
   ]
  },
  {
   "cell_type": "markdown",
   "metadata": {},
   "source": [
    "## Experimental Results\n",
    "\n",
    "Посмотрим на результаты\n",
    "\n",
    "*Remark* скорее всего посчитать метрики для всех пользователей будет довольно долго - можно ограничится, например, случайными 10к пользователями"
   ]
  },
  {
   "cell_type": "code",
   "execution_count": 44,
   "metadata": {},
   "outputs": [
    {
     "name": "stdout",
     "output_type": "stream",
     "text": [
      "precision @ 1 0.0\n",
      "NDCG @ 1 0.0\n",
      "precision @ 5 0.0\n",
      "NDCG @ 5 0.0\n",
      "precision @ 10 0.0\n",
      "NDCG @ 10 0.0\n",
      "map 0.0\n"
     ]
    }
   ],
   "source": [
    "evaluate(get_popular_items)"
   ]
  },
  {
   "cell_type": "code",
   "execution_count": 45,
   "metadata": {},
   "outputs": [
    {
     "name": "stdout",
     "output_type": "stream",
     "text": [
      "precision @ 1 0.0\n",
      "NDCG @ 1 0.0\n",
      "precision @ 5 0.0\n",
      "NDCG @ 5 0.0\n",
      "precision @ 10 0.06666666666666667\n",
      "NDCG @ 10 0.19295516184525652\n",
      "map 0.07936507936507936\n"
     ]
    }
   ],
   "source": [
    "evaluate(get_user_based_collab)"
   ]
  },
  {
   "cell_type": "code",
   "execution_count": 46,
   "metadata": {},
   "outputs": [
    {
     "name": "stdout",
     "output_type": "stream",
     "text": [
      "precision @ 1 0.0\n",
      "NDCG @ 1 0.0\n",
      "precision @ 5 0.0\n",
      "NDCG @ 5 0.0\n",
      "precision @ 10 0.06666666666666667\n",
      "NDCG @ 10 0.18098399865331374\n",
      "map 0.06825396825396825\n"
     ]
    }
   ],
   "source": [
    "evaluate(get_item_knn)"
   ]
  },
  {
   "cell_type": "code",
   "execution_count": null,
   "metadata": {},
   "outputs": [],
   "source": []
  }
 ],
 "metadata": {
  "kernelspec": {
   "display_name": "Python 3",
   "language": "python",
   "name": "python3"
  },
  "language_info": {
   "codemirror_mode": {
    "name": "ipython",
    "version": 3
   },
   "file_extension": ".py",
   "mimetype": "text/x-python",
   "name": "python",
   "nbconvert_exporter": "python",
   "pygments_lexer": "ipython3",
   "version": "3.5.6"
  },
  "toc": {
   "base_numbering": 1,
   "nav_menu": {
    "height": "431.997px",
    "width": "329.514px"
   },
   "number_sections": true,
   "sideBar": true,
   "skip_h1_title": false,
   "title_cell": "Table of Contents",
   "title_sidebar": "Contents",
   "toc_cell": false,
   "toc_position": {
    "height": "calc(100% - 180px)",
    "left": "10px",
    "top": "150px",
    "width": "321.545px"
   },
   "toc_section_display": true,
   "toc_window_display": true
  }
 },
 "nbformat": 4,
 "nbformat_minor": 2
}
